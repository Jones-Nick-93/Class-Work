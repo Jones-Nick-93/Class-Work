{
 "cells": [
  {
   "cell_type": "code",
   "execution_count": 3,
   "metadata": {},
   "outputs": [],
   "source": [
    "# Import modules\n",
    "import numpy as np\n",
    "import pandas as pd\n",
    "import matplotlib.pyplot as plt\n",
    "%matplotlib inline\n",
    "import os \n",
    "import math\n",
    "\n",
    "from sklearn.linear_model import LinearRegression, Lasso, Ridge, ElasticNet, SGDRegressor\n",
    "from sklearn import feature_selection\n",
    "from sklearn import model_selection\n",
    "from sklearn.metrics import mean_absolute_error\n",
    "from sklearn.preprocessing import StandardScaler\n",
    "from sklearn.model_selection import GridSearchCV\n",
    "from sklearn.model_selection import KFold\n",
    "from sklearn.model_selection import train_test_split\n",
    "from sklearn.feature_selection import SelectPercentile, f_regression"
   ]
  },
  {
   "cell_type": "code",
   "execution_count": 14,
   "metadata": {},
   "outputs": [],
   "source": [
    "Comms = pd.read_csv(r\"C:\\Users\\Owner\\Documents\\DSC 478\\communities.csv\")\n"
   ]
  },
  {
   "cell_type": "code",
   "execution_count": 15,
   "metadata": {},
   "outputs": [
    {
     "data": {
      "text/html": [
       "<div>\n",
       "<style scoped>\n",
       "    .dataframe tbody tr th:only-of-type {\n",
       "        vertical-align: middle;\n",
       "    }\n",
       "\n",
       "    .dataframe tbody tr th {\n",
       "        vertical-align: top;\n",
       "    }\n",
       "\n",
       "    .dataframe thead th {\n",
       "        text-align: right;\n",
       "    }\n",
       "</style>\n",
       "<table border=\"1\" class=\"dataframe\">\n",
       "  <thead>\n",
       "    <tr style=\"text-align: right;\">\n",
       "      <th></th>\n",
       "      <th>state</th>\n",
       "      <th>communityname</th>\n",
       "      <th>population</th>\n",
       "      <th>householdsize</th>\n",
       "      <th>racepctblack</th>\n",
       "      <th>racePctWhite</th>\n",
       "      <th>racePctAsian</th>\n",
       "      <th>racePctHisp</th>\n",
       "      <th>agePct12t21</th>\n",
       "      <th>agePct12t29</th>\n",
       "      <th>...</th>\n",
       "      <th>NumStreet</th>\n",
       "      <th>PctForeignBorn</th>\n",
       "      <th>PctBornSameState</th>\n",
       "      <th>PctSameHouse85</th>\n",
       "      <th>PctSameCity85</th>\n",
       "      <th>PctSameState85</th>\n",
       "      <th>LandArea</th>\n",
       "      <th>PopDens</th>\n",
       "      <th>PctUsePubTrans</th>\n",
       "      <th>ViolentCrimesPerPop</th>\n",
       "    </tr>\n",
       "  </thead>\n",
       "  <tbody>\n",
       "    <tr>\n",
       "      <th>0</th>\n",
       "      <td>8</td>\n",
       "      <td>Lakewoodcity</td>\n",
       "      <td>0.19</td>\n",
       "      <td>0.33</td>\n",
       "      <td>0.02</td>\n",
       "      <td>0.90</td>\n",
       "      <td>0.12</td>\n",
       "      <td>0.17</td>\n",
       "      <td>0.34</td>\n",
       "      <td>0.47</td>\n",
       "      <td>...</td>\n",
       "      <td>0.0</td>\n",
       "      <td>0.12</td>\n",
       "      <td>0.42</td>\n",
       "      <td>0.50</td>\n",
       "      <td>0.51</td>\n",
       "      <td>0.64</td>\n",
       "      <td>0.12</td>\n",
       "      <td>0.26</td>\n",
       "      <td>0.20</td>\n",
       "      <td>0.20</td>\n",
       "    </tr>\n",
       "    <tr>\n",
       "      <th>1</th>\n",
       "      <td>53</td>\n",
       "      <td>Tukwilacity</td>\n",
       "      <td>0.00</td>\n",
       "      <td>0.16</td>\n",
       "      <td>0.12</td>\n",
       "      <td>0.74</td>\n",
       "      <td>0.45</td>\n",
       "      <td>0.07</td>\n",
       "      <td>0.26</td>\n",
       "      <td>0.59</td>\n",
       "      <td>...</td>\n",
       "      <td>0.0</td>\n",
       "      <td>0.21</td>\n",
       "      <td>0.50</td>\n",
       "      <td>0.34</td>\n",
       "      <td>0.60</td>\n",
       "      <td>0.52</td>\n",
       "      <td>0.02</td>\n",
       "      <td>0.12</td>\n",
       "      <td>0.45</td>\n",
       "      <td>0.67</td>\n",
       "    </tr>\n",
       "    <tr>\n",
       "      <th>2</th>\n",
       "      <td>24</td>\n",
       "      <td>Aberdeentown</td>\n",
       "      <td>0.00</td>\n",
       "      <td>0.42</td>\n",
       "      <td>0.49</td>\n",
       "      <td>0.56</td>\n",
       "      <td>0.17</td>\n",
       "      <td>0.04</td>\n",
       "      <td>0.39</td>\n",
       "      <td>0.47</td>\n",
       "      <td>...</td>\n",
       "      <td>0.0</td>\n",
       "      <td>0.14</td>\n",
       "      <td>0.49</td>\n",
       "      <td>0.54</td>\n",
       "      <td>0.67</td>\n",
       "      <td>0.56</td>\n",
       "      <td>0.01</td>\n",
       "      <td>0.21</td>\n",
       "      <td>0.02</td>\n",
       "      <td>0.43</td>\n",
       "    </tr>\n",
       "    <tr>\n",
       "      <th>3</th>\n",
       "      <td>34</td>\n",
       "      <td>Willingborotownship</td>\n",
       "      <td>0.04</td>\n",
       "      <td>0.77</td>\n",
       "      <td>1.00</td>\n",
       "      <td>0.08</td>\n",
       "      <td>0.12</td>\n",
       "      <td>0.10</td>\n",
       "      <td>0.51</td>\n",
       "      <td>0.50</td>\n",
       "      <td>...</td>\n",
       "      <td>0.0</td>\n",
       "      <td>0.19</td>\n",
       "      <td>0.30</td>\n",
       "      <td>0.73</td>\n",
       "      <td>0.64</td>\n",
       "      <td>0.65</td>\n",
       "      <td>0.02</td>\n",
       "      <td>0.39</td>\n",
       "      <td>0.28</td>\n",
       "      <td>0.12</td>\n",
       "    </tr>\n",
       "    <tr>\n",
       "      <th>4</th>\n",
       "      <td>42</td>\n",
       "      <td>Bethlehemtownship</td>\n",
       "      <td>0.01</td>\n",
       "      <td>0.55</td>\n",
       "      <td>0.02</td>\n",
       "      <td>0.95</td>\n",
       "      <td>0.09</td>\n",
       "      <td>0.05</td>\n",
       "      <td>0.38</td>\n",
       "      <td>0.38</td>\n",
       "      <td>...</td>\n",
       "      <td>0.0</td>\n",
       "      <td>0.11</td>\n",
       "      <td>0.72</td>\n",
       "      <td>0.64</td>\n",
       "      <td>0.61</td>\n",
       "      <td>0.53</td>\n",
       "      <td>0.04</td>\n",
       "      <td>0.09</td>\n",
       "      <td>0.02</td>\n",
       "      <td>0.03</td>\n",
       "    </tr>\n",
       "  </tbody>\n",
       "</table>\n",
       "<p>5 rows × 100 columns</p>\n",
       "</div>"
      ],
      "text/plain": [
       "   state        communityname  population  householdsize  racepctblack  \\\n",
       "0      8         Lakewoodcity        0.19           0.33          0.02   \n",
       "1     53          Tukwilacity        0.00           0.16          0.12   \n",
       "2     24         Aberdeentown        0.00           0.42          0.49   \n",
       "3     34  Willingborotownship        0.04           0.77          1.00   \n",
       "4     42    Bethlehemtownship        0.01           0.55          0.02   \n",
       "\n",
       "   racePctWhite  racePctAsian  racePctHisp  agePct12t21  agePct12t29  ...  \\\n",
       "0          0.90          0.12         0.17         0.34         0.47  ...   \n",
       "1          0.74          0.45         0.07         0.26         0.59  ...   \n",
       "2          0.56          0.17         0.04         0.39         0.47  ...   \n",
       "3          0.08          0.12         0.10         0.51         0.50  ...   \n",
       "4          0.95          0.09         0.05         0.38         0.38  ...   \n",
       "\n",
       "   NumStreet  PctForeignBorn  PctBornSameState  PctSameHouse85  PctSameCity85  \\\n",
       "0        0.0            0.12              0.42            0.50           0.51   \n",
       "1        0.0            0.21              0.50            0.34           0.60   \n",
       "2        0.0            0.14              0.49            0.54           0.67   \n",
       "3        0.0            0.19              0.30            0.73           0.64   \n",
       "4        0.0            0.11              0.72            0.64           0.61   \n",
       "\n",
       "   PctSameState85  LandArea  PopDens  PctUsePubTrans  ViolentCrimesPerPop  \n",
       "0            0.64      0.12     0.26            0.20                 0.20  \n",
       "1            0.52      0.02     0.12            0.45                 0.67  \n",
       "2            0.56      0.01     0.21            0.02                 0.43  \n",
       "3            0.65      0.02     0.39            0.28                 0.12  \n",
       "4            0.53      0.04     0.09            0.02                 0.03  \n",
       "\n",
       "[5 rows x 100 columns]"
      ]
     },
     "execution_count": 15,
     "metadata": {},
     "output_type": "execute_result"
    }
   ],
   "source": [
    "Comms.head()"
   ]
  },
  {
   "cell_type": "code",
   "execution_count": 16,
   "metadata": {},
   "outputs": [
    {
     "data": {
      "text/plain": [
       "(1994, 100)"
      ]
     },
     "execution_count": 16,
     "metadata": {},
     "output_type": "execute_result"
    }
   ],
   "source": [
    "Comms.shape"
   ]
  },
  {
   "cell_type": "code",
   "execution_count": 17,
   "metadata": {},
   "outputs": [
    {
     "data": {
      "text/html": [
       "<div>\n",
       "<style scoped>\n",
       "    .dataframe tbody tr th:only-of-type {\n",
       "        vertical-align: middle;\n",
       "    }\n",
       "\n",
       "    .dataframe tbody tr th {\n",
       "        vertical-align: top;\n",
       "    }\n",
       "\n",
       "    .dataframe thead th {\n",
       "        text-align: right;\n",
       "    }\n",
       "</style>\n",
       "<table border=\"1\" class=\"dataframe\">\n",
       "  <thead>\n",
       "    <tr style=\"text-align: right;\">\n",
       "      <th></th>\n",
       "      <th>state</th>\n",
       "      <th>communityname</th>\n",
       "      <th>population</th>\n",
       "      <th>householdsize</th>\n",
       "      <th>racepctblack</th>\n",
       "      <th>racePctWhite</th>\n",
       "      <th>racePctAsian</th>\n",
       "      <th>racePctHisp</th>\n",
       "      <th>agePct12t21</th>\n",
       "      <th>agePct12t29</th>\n",
       "      <th>...</th>\n",
       "      <th>NumStreet</th>\n",
       "      <th>PctForeignBorn</th>\n",
       "      <th>PctBornSameState</th>\n",
       "      <th>PctSameHouse85</th>\n",
       "      <th>PctSameCity85</th>\n",
       "      <th>PctSameState85</th>\n",
       "      <th>LandArea</th>\n",
       "      <th>PopDens</th>\n",
       "      <th>PctUsePubTrans</th>\n",
       "      <th>ViolentCrimesPerPop</th>\n",
       "    </tr>\n",
       "  </thead>\n",
       "  <tbody>\n",
       "    <tr>\n",
       "      <th>count</th>\n",
       "      <td>1994.000000</td>\n",
       "      <td>1994</td>\n",
       "      <td>1994.000000</td>\n",
       "      <td>1994.000000</td>\n",
       "      <td>1994.000000</td>\n",
       "      <td>1994.000000</td>\n",
       "      <td>1994.000000</td>\n",
       "      <td>1994.000000</td>\n",
       "      <td>1994.000000</td>\n",
       "      <td>1994.000000</td>\n",
       "      <td>...</td>\n",
       "      <td>1994.000000</td>\n",
       "      <td>1994.000000</td>\n",
       "      <td>1994.000000</td>\n",
       "      <td>1994.000000</td>\n",
       "      <td>1994.000000</td>\n",
       "      <td>1994.000000</td>\n",
       "      <td>1994.000000</td>\n",
       "      <td>1994.000000</td>\n",
       "      <td>1994.000000</td>\n",
       "      <td>1994.000000</td>\n",
       "    </tr>\n",
       "    <tr>\n",
       "      <th>unique</th>\n",
       "      <td>NaN</td>\n",
       "      <td>1828</td>\n",
       "      <td>NaN</td>\n",
       "      <td>NaN</td>\n",
       "      <td>NaN</td>\n",
       "      <td>NaN</td>\n",
       "      <td>NaN</td>\n",
       "      <td>NaN</td>\n",
       "      <td>NaN</td>\n",
       "      <td>NaN</td>\n",
       "      <td>...</td>\n",
       "      <td>NaN</td>\n",
       "      <td>NaN</td>\n",
       "      <td>NaN</td>\n",
       "      <td>NaN</td>\n",
       "      <td>NaN</td>\n",
       "      <td>NaN</td>\n",
       "      <td>NaN</td>\n",
       "      <td>NaN</td>\n",
       "      <td>NaN</td>\n",
       "      <td>NaN</td>\n",
       "    </tr>\n",
       "    <tr>\n",
       "      <th>top</th>\n",
       "      <td>NaN</td>\n",
       "      <td>Auburncity</td>\n",
       "      <td>NaN</td>\n",
       "      <td>NaN</td>\n",
       "      <td>NaN</td>\n",
       "      <td>NaN</td>\n",
       "      <td>NaN</td>\n",
       "      <td>NaN</td>\n",
       "      <td>NaN</td>\n",
       "      <td>NaN</td>\n",
       "      <td>...</td>\n",
       "      <td>NaN</td>\n",
       "      <td>NaN</td>\n",
       "      <td>NaN</td>\n",
       "      <td>NaN</td>\n",
       "      <td>NaN</td>\n",
       "      <td>NaN</td>\n",
       "      <td>NaN</td>\n",
       "      <td>NaN</td>\n",
       "      <td>NaN</td>\n",
       "      <td>NaN</td>\n",
       "    </tr>\n",
       "    <tr>\n",
       "      <th>freq</th>\n",
       "      <td>NaN</td>\n",
       "      <td>5</td>\n",
       "      <td>NaN</td>\n",
       "      <td>NaN</td>\n",
       "      <td>NaN</td>\n",
       "      <td>NaN</td>\n",
       "      <td>NaN</td>\n",
       "      <td>NaN</td>\n",
       "      <td>NaN</td>\n",
       "      <td>NaN</td>\n",
       "      <td>...</td>\n",
       "      <td>NaN</td>\n",
       "      <td>NaN</td>\n",
       "      <td>NaN</td>\n",
       "      <td>NaN</td>\n",
       "      <td>NaN</td>\n",
       "      <td>NaN</td>\n",
       "      <td>NaN</td>\n",
       "      <td>NaN</td>\n",
       "      <td>NaN</td>\n",
       "      <td>NaN</td>\n",
       "    </tr>\n",
       "    <tr>\n",
       "      <th>mean</th>\n",
       "      <td>28.683551</td>\n",
       "      <td>NaN</td>\n",
       "      <td>0.057593</td>\n",
       "      <td>0.463395</td>\n",
       "      <td>0.179629</td>\n",
       "      <td>0.753716</td>\n",
       "      <td>0.153681</td>\n",
       "      <td>0.144022</td>\n",
       "      <td>0.424218</td>\n",
       "      <td>0.493867</td>\n",
       "      <td>...</td>\n",
       "      <td>0.022778</td>\n",
       "      <td>0.215552</td>\n",
       "      <td>0.608892</td>\n",
       "      <td>0.535050</td>\n",
       "      <td>0.626424</td>\n",
       "      <td>0.651530</td>\n",
       "      <td>0.065231</td>\n",
       "      <td>0.232854</td>\n",
       "      <td>0.161685</td>\n",
       "      <td>0.237979</td>\n",
       "    </tr>\n",
       "    <tr>\n",
       "      <th>std</th>\n",
       "      <td>16.397553</td>\n",
       "      <td>NaN</td>\n",
       "      <td>0.126906</td>\n",
       "      <td>0.163717</td>\n",
       "      <td>0.253442</td>\n",
       "      <td>0.244039</td>\n",
       "      <td>0.208877</td>\n",
       "      <td>0.232492</td>\n",
       "      <td>0.155196</td>\n",
       "      <td>0.143564</td>\n",
       "      <td>...</td>\n",
       "      <td>0.100400</td>\n",
       "      <td>0.231134</td>\n",
       "      <td>0.204329</td>\n",
       "      <td>0.181352</td>\n",
       "      <td>0.200521</td>\n",
       "      <td>0.198221</td>\n",
       "      <td>0.109459</td>\n",
       "      <td>0.203092</td>\n",
       "      <td>0.229055</td>\n",
       "      <td>0.232985</td>\n",
       "    </tr>\n",
       "    <tr>\n",
       "      <th>min</th>\n",
       "      <td>1.000000</td>\n",
       "      <td>NaN</td>\n",
       "      <td>0.000000</td>\n",
       "      <td>0.000000</td>\n",
       "      <td>0.000000</td>\n",
       "      <td>0.000000</td>\n",
       "      <td>0.000000</td>\n",
       "      <td>0.000000</td>\n",
       "      <td>0.000000</td>\n",
       "      <td>0.000000</td>\n",
       "      <td>...</td>\n",
       "      <td>0.000000</td>\n",
       "      <td>0.000000</td>\n",
       "      <td>0.000000</td>\n",
       "      <td>0.000000</td>\n",
       "      <td>0.000000</td>\n",
       "      <td>0.000000</td>\n",
       "      <td>0.000000</td>\n",
       "      <td>0.000000</td>\n",
       "      <td>0.000000</td>\n",
       "      <td>0.000000</td>\n",
       "    </tr>\n",
       "    <tr>\n",
       "      <th>25%</th>\n",
       "      <td>12.000000</td>\n",
       "      <td>NaN</td>\n",
       "      <td>0.010000</td>\n",
       "      <td>0.350000</td>\n",
       "      <td>0.020000</td>\n",
       "      <td>0.630000</td>\n",
       "      <td>0.040000</td>\n",
       "      <td>0.010000</td>\n",
       "      <td>0.340000</td>\n",
       "      <td>0.410000</td>\n",
       "      <td>...</td>\n",
       "      <td>0.000000</td>\n",
       "      <td>0.060000</td>\n",
       "      <td>0.470000</td>\n",
       "      <td>0.420000</td>\n",
       "      <td>0.520000</td>\n",
       "      <td>0.560000</td>\n",
       "      <td>0.020000</td>\n",
       "      <td>0.100000</td>\n",
       "      <td>0.020000</td>\n",
       "      <td>0.070000</td>\n",
       "    </tr>\n",
       "    <tr>\n",
       "      <th>50%</th>\n",
       "      <td>34.000000</td>\n",
       "      <td>NaN</td>\n",
       "      <td>0.020000</td>\n",
       "      <td>0.440000</td>\n",
       "      <td>0.060000</td>\n",
       "      <td>0.850000</td>\n",
       "      <td>0.070000</td>\n",
       "      <td>0.040000</td>\n",
       "      <td>0.400000</td>\n",
       "      <td>0.480000</td>\n",
       "      <td>...</td>\n",
       "      <td>0.000000</td>\n",
       "      <td>0.130000</td>\n",
       "      <td>0.630000</td>\n",
       "      <td>0.540000</td>\n",
       "      <td>0.670000</td>\n",
       "      <td>0.700000</td>\n",
       "      <td>0.040000</td>\n",
       "      <td>0.170000</td>\n",
       "      <td>0.070000</td>\n",
       "      <td>0.150000</td>\n",
       "    </tr>\n",
       "    <tr>\n",
       "      <th>75%</th>\n",
       "      <td>42.000000</td>\n",
       "      <td>NaN</td>\n",
       "      <td>0.050000</td>\n",
       "      <td>0.540000</td>\n",
       "      <td>0.230000</td>\n",
       "      <td>0.940000</td>\n",
       "      <td>0.170000</td>\n",
       "      <td>0.160000</td>\n",
       "      <td>0.470000</td>\n",
       "      <td>0.540000</td>\n",
       "      <td>...</td>\n",
       "      <td>0.000000</td>\n",
       "      <td>0.280000</td>\n",
       "      <td>0.777500</td>\n",
       "      <td>0.660000</td>\n",
       "      <td>0.770000</td>\n",
       "      <td>0.790000</td>\n",
       "      <td>0.070000</td>\n",
       "      <td>0.280000</td>\n",
       "      <td>0.190000</td>\n",
       "      <td>0.330000</td>\n",
       "    </tr>\n",
       "    <tr>\n",
       "      <th>max</th>\n",
       "      <td>56.000000</td>\n",
       "      <td>NaN</td>\n",
       "      <td>1.000000</td>\n",
       "      <td>1.000000</td>\n",
       "      <td>1.000000</td>\n",
       "      <td>1.000000</td>\n",
       "      <td>1.000000</td>\n",
       "      <td>1.000000</td>\n",
       "      <td>1.000000</td>\n",
       "      <td>1.000000</td>\n",
       "      <td>...</td>\n",
       "      <td>1.000000</td>\n",
       "      <td>1.000000</td>\n",
       "      <td>1.000000</td>\n",
       "      <td>1.000000</td>\n",
       "      <td>1.000000</td>\n",
       "      <td>1.000000</td>\n",
       "      <td>1.000000</td>\n",
       "      <td>1.000000</td>\n",
       "      <td>1.000000</td>\n",
       "      <td>1.000000</td>\n",
       "    </tr>\n",
       "  </tbody>\n",
       "</table>\n",
       "<p>11 rows × 100 columns</p>\n",
       "</div>"
      ],
      "text/plain": [
       "              state communityname   population  householdsize  racepctblack  \\\n",
       "count   1994.000000          1994  1994.000000    1994.000000   1994.000000   \n",
       "unique          NaN          1828          NaN            NaN           NaN   \n",
       "top             NaN    Auburncity          NaN            NaN           NaN   \n",
       "freq            NaN             5          NaN            NaN           NaN   \n",
       "mean      28.683551           NaN     0.057593       0.463395      0.179629   \n",
       "std       16.397553           NaN     0.126906       0.163717      0.253442   \n",
       "min        1.000000           NaN     0.000000       0.000000      0.000000   \n",
       "25%       12.000000           NaN     0.010000       0.350000      0.020000   \n",
       "50%       34.000000           NaN     0.020000       0.440000      0.060000   \n",
       "75%       42.000000           NaN     0.050000       0.540000      0.230000   \n",
       "max       56.000000           NaN     1.000000       1.000000      1.000000   \n",
       "\n",
       "        racePctWhite  racePctAsian  racePctHisp  agePct12t21  agePct12t29  \\\n",
       "count    1994.000000   1994.000000  1994.000000  1994.000000  1994.000000   \n",
       "unique           NaN           NaN          NaN          NaN          NaN   \n",
       "top              NaN           NaN          NaN          NaN          NaN   \n",
       "freq             NaN           NaN          NaN          NaN          NaN   \n",
       "mean        0.753716      0.153681     0.144022     0.424218     0.493867   \n",
       "std         0.244039      0.208877     0.232492     0.155196     0.143564   \n",
       "min         0.000000      0.000000     0.000000     0.000000     0.000000   \n",
       "25%         0.630000      0.040000     0.010000     0.340000     0.410000   \n",
       "50%         0.850000      0.070000     0.040000     0.400000     0.480000   \n",
       "75%         0.940000      0.170000     0.160000     0.470000     0.540000   \n",
       "max         1.000000      1.000000     1.000000     1.000000     1.000000   \n",
       "\n",
       "        ...    NumStreet  PctForeignBorn  PctBornSameState  PctSameHouse85  \\\n",
       "count   ...  1994.000000     1994.000000       1994.000000     1994.000000   \n",
       "unique  ...          NaN             NaN               NaN             NaN   \n",
       "top     ...          NaN             NaN               NaN             NaN   \n",
       "freq    ...          NaN             NaN               NaN             NaN   \n",
       "mean    ...     0.022778        0.215552          0.608892        0.535050   \n",
       "std     ...     0.100400        0.231134          0.204329        0.181352   \n",
       "min     ...     0.000000        0.000000          0.000000        0.000000   \n",
       "25%     ...     0.000000        0.060000          0.470000        0.420000   \n",
       "50%     ...     0.000000        0.130000          0.630000        0.540000   \n",
       "75%     ...     0.000000        0.280000          0.777500        0.660000   \n",
       "max     ...     1.000000        1.000000          1.000000        1.000000   \n",
       "\n",
       "        PctSameCity85  PctSameState85     LandArea      PopDens  \\\n",
       "count     1994.000000     1994.000000  1994.000000  1994.000000   \n",
       "unique            NaN             NaN          NaN          NaN   \n",
       "top               NaN             NaN          NaN          NaN   \n",
       "freq              NaN             NaN          NaN          NaN   \n",
       "mean         0.626424        0.651530     0.065231     0.232854   \n",
       "std          0.200521        0.198221     0.109459     0.203092   \n",
       "min          0.000000        0.000000     0.000000     0.000000   \n",
       "25%          0.520000        0.560000     0.020000     0.100000   \n",
       "50%          0.670000        0.700000     0.040000     0.170000   \n",
       "75%          0.770000        0.790000     0.070000     0.280000   \n",
       "max          1.000000        1.000000     1.000000     1.000000   \n",
       "\n",
       "        PctUsePubTrans  ViolentCrimesPerPop  \n",
       "count      1994.000000          1994.000000  \n",
       "unique             NaN                  NaN  \n",
       "top                NaN                  NaN  \n",
       "freq               NaN                  NaN  \n",
       "mean          0.161685             0.237979  \n",
       "std           0.229055             0.232985  \n",
       "min           0.000000             0.000000  \n",
       "25%           0.020000             0.070000  \n",
       "50%           0.070000             0.150000  \n",
       "75%           0.190000             0.330000  \n",
       "max           1.000000             1.000000  \n",
       "\n",
       "[11 rows x 100 columns]"
      ]
     },
     "execution_count": 17,
     "metadata": {},
     "output_type": "execute_result"
    }
   ],
   "source": [
    "# what are the basic statistics for each of the variable?\n",
    "Comms.describe(include=\"all\")"
   ]
  },
  {
   "cell_type": "code",
   "execution_count": 18,
   "metadata": {},
   "outputs": [
    {
     "data": {
      "text/plain": [
       "array([0, 0, 0, 0, 0, 0, 0, 0, 0, 0, 0, 0, 0, 0, 0, 0, 0, 0, 0, 0, 0, 0,\n",
       "       0, 0, 0, 0, 0, 0, 0, 0, 0, 0, 0, 0, 0, 0, 0, 0, 0, 0, 0, 0, 0, 0,\n",
       "       0, 0, 0, 0, 0, 0, 0, 0, 0, 0, 0, 0, 0, 0, 0, 0, 0, 0, 0, 0, 0, 0,\n",
       "       0, 0, 0, 0, 0, 0, 0, 0, 0, 0, 0, 0, 0, 0, 0, 0, 0, 0, 0, 0, 0, 0,\n",
       "       0, 0, 0, 0, 0, 0, 0, 0, 0, 0, 0, 0])"
      ]
     },
     "execution_count": 18,
     "metadata": {},
     "output_type": "execute_result"
    }
   ],
   "source": [
    "# handle missing data\n",
    "np.sum(np.array(pd.isnull(Comms)),0)"
   ]
  },
  {
   "cell_type": "code",
   "execution_count": 19,
   "metadata": {},
   "outputs": [
    {
     "data": {
      "text/plain": [
       "array(['0.36', '0.22', '0.28', '0.51', '0.48', '0.24', '0.18', '0.29',\n",
       "       '0.17', '0.34', '0.35', '0.13', '0.33', '0.2', '1', '0.72', '0',\n",
       "       '0.19', '0.3', '0.38', '0.14', '0.26', '0.64', '0.25', '0.37',\n",
       "       '0.16', '0.15', '0.76', '0.4', '0.42', '0.23', '0.31', '0.32',\n",
       "       '0.5', '0.66', '0.21', '0.7', '0.27', '0.11', '0.55', '0.95',\n",
       "       '0.03', '0.45', '0.08', '0.43', '0.62', '0.02', '0.41', '?',\n",
       "       '0.39', '0.88', '0.71', '0.44', '0.47', '0.09', '0.53', '0.1',\n",
       "       '0.46', '0.05', '0.52', '0.75', '0.06', '0.93', '0.12', '0.77',\n",
       "       '0.69', '0.86', '0.73', '0.67', '0.84', '0.81', '0.54', '0.59',\n",
       "       '0.01', '0.68', '0.98', '0.04', '0.61', '0.9', '0.57', '0.49',\n",
       "       '0.56', '0.07', '0.92', '0.6', '0.94', '0.63', '0.87', '0.79',\n",
       "       '0.99', '0.58', '0.83', '0.85', '0.8', '0.82', '0.74', '0.65',\n",
       "       '0.89'], dtype=object)"
      ]
     },
     "execution_count": 19,
     "metadata": {},
     "output_type": "execute_result"
    }
   ],
   "source": [
    "Comms[\"OtherPerCap\"].unique()"
   ]
  },
  {
   "cell_type": "code",
   "execution_count": 20,
   "metadata": {},
   "outputs": [
    {
     "data": {
      "text/plain": [
       "state                    int64\n",
       "communityname           object\n",
       "population             float64\n",
       "householdsize          float64\n",
       "racepctblack           float64\n",
       "                        ...   \n",
       "PctSameState85         float64\n",
       "LandArea               float64\n",
       "PopDens                float64\n",
       "PctUsePubTrans         float64\n",
       "ViolentCrimesPerPop    float64\n",
       "Length: 100, dtype: object"
      ]
     },
     "execution_count": 20,
     "metadata": {},
     "output_type": "execute_result"
    }
   ],
   "source": [
    "Comms.dtypes\n"
   ]
  },
  {
   "cell_type": "code",
   "execution_count": 21,
   "metadata": {},
   "outputs": [
    {
     "data": {
      "text/plain": [
       "state                    int64\n",
       "communityname           object\n",
       "population             float64\n",
       "householdsize          float64\n",
       "racepctblack           float64\n",
       "                        ...   \n",
       "PctSameState85         float64\n",
       "LandArea               float64\n",
       "PopDens                float64\n",
       "PctUsePubTrans         float64\n",
       "ViolentCrimesPerPop    float64\n",
       "Length: 100, dtype: object"
      ]
     },
     "execution_count": 21,
     "metadata": {},
     "output_type": "execute_result"
    }
   ],
   "source": [
    "Comms.OtherPerCap = pd.to_numeric(Comms.OtherPerCap, errors='coerce') # coerce arg turns failures into NaN\n",
    "Comms.dtypes"
   ]
  },
  {
   "cell_type": "code",
   "execution_count": 22,
   "metadata": {},
   "outputs": [],
   "source": [
    "Comms = Comms.dropna(axis=0)"
   ]
  },
  {
   "cell_type": "code",
   "execution_count": 23,
   "metadata": {},
   "outputs": [],
   "source": [
    "# seperate the target attribute\n",
    "y = np.array(Comms.ViolentCrimesPerPop)\n",
    "\n",
    "x = np.array(Comms.drop(['ViolentCrimesPerPop', 'state', 'communityname'], axis=1))"
   ]
  },
  {
   "cell_type": "code",
   "execution_count": 24,
   "metadata": {},
   "outputs": [
    {
     "data": {
      "text/plain": [
       "(1993, 97)"
      ]
     },
     "execution_count": 24,
     "metadata": {},
     "output_type": "execute_result"
    }
   ],
   "source": [
    "x.shape\n"
   ]
  },
  {
   "cell_type": "code",
   "execution_count": 25,
   "metadata": {},
   "outputs": [
    {
     "data": {
      "text/plain": [
       "(1993,)"
      ]
     },
     "execution_count": 25,
     "metadata": {},
     "output_type": "execute_result"
    }
   ],
   "source": [
    "y.shape"
   ]
  },
  {
   "cell_type": "code",
   "execution_count": 26,
   "metadata": {},
   "outputs": [],
   "source": [
    "# Function from Machine Learning in Action Book\n",
    "\n",
    "def standRegres(xArr, yArr):\n",
    "    xMat = np.matrix(xArr); yMat = np.matrix(yArr).T\n",
    "    xTx = xMat.T*xMat\n",
    "    if np.linalg.det(xTx) == 0.0:\n",
    "        print(\"This matrix is singular, cannot do inverse\")\n",
    "        return\n",
    "    else:\n",
    "        ws = xTx.I * (xMat.T*yMat)\n",
    "        return ws"
   ]
  },
  {
   "cell_type": "code",
   "execution_count": 27,
   "metadata": {},
   "outputs": [
    {
     "data": {
      "text/plain": [
       "array([[0.19, 0.33, 0.02, ..., 0.26, 0.2 , 1.  ],\n",
       "       [0.  , 0.16, 0.12, ..., 0.12, 0.45, 1.  ],\n",
       "       [0.  , 0.42, 0.49, ..., 0.21, 0.02, 1.  ],\n",
       "       ...,\n",
       "       [0.16, 0.37, 0.25, ..., 0.32, 0.18, 1.  ],\n",
       "       [0.08, 0.51, 0.06, ..., 0.38, 0.33, 1.  ],\n",
       "       [0.2 , 0.78, 0.14, ..., 0.3 , 0.05, 1.  ]])"
      ]
     },
     "execution_count": 27,
     "metadata": {},
     "output_type": "execute_result"
    }
   ],
   "source": [
    "# Prep the x_var set such that we can have a constant\n",
    "x_var = np.array(x)\n",
    "x_var = np.array([np.concatenate((v,[1])) for v in x_var])\n",
    "x_var"
   ]
  },
  {
   "cell_type": "code",
   "execution_count": 28,
   "metadata": {},
   "outputs": [
    {
     "data": {
      "text/plain": [
       "matrix([[ 1.58394687e-01],\n",
       "        [-3.02481869e-02],\n",
       "        [ 2.12229063e-01],\n",
       "        [-3.97237986e-02],\n",
       "        [-1.27930326e-02],\n",
       "        [ 6.36900639e-02],\n",
       "        [ 1.22194419e-01],\n",
       "        [-2.23124229e-01],\n",
       "        [-1.42627637e-01],\n",
       "        [ 5.64658800e-02],\n",
       "        [-2.60230134e-01],\n",
       "        [ 4.65037847e-02],\n",
       "        [-2.00798143e-01],\n",
       "        [-2.08126761e-01],\n",
       "        [ 4.70792802e-02],\n",
       "        [-1.73534979e-01],\n",
       "        [ 5.82291674e-02],\n",
       "        [ 1.05064444e-02],\n",
       "        [-9.22106451e-02],\n",
       "        [ 2.72565616e-01],\n",
       "        [ 9.72713359e-02],\n",
       "        [-3.26302914e-01],\n",
       "        [-2.89431388e-02],\n",
       "        [-3.59461641e-02],\n",
       "        [ 2.28885702e-02],\n",
       "        [ 4.31169895e-02],\n",
       "        [ 3.76737976e-02],\n",
       "        [ 1.19950473e-01],\n",
       "        [-1.83693623e-01],\n",
       "        [-9.47657739e-02],\n",
       "        [ 5.55240764e-02],\n",
       "        [ 1.07281673e-01],\n",
       "        [ 3.24692051e-03],\n",
       "        [ 2.34646790e-01],\n",
       "        [-3.87649999e-02],\n",
       "        [-1.03179240e-02],\n",
       "        [ 4.87331629e-01],\n",
       "        [ 2.23501778e-01],\n",
       "        [ 1.95680279e-01],\n",
       "        [-6.09603366e-01],\n",
       "        [-1.37531328e-01],\n",
       "        [ 5.78881584e-02],\n",
       "        [-3.48705517e-01],\n",
       "        [-3.63011027e-02],\n",
       "        [ 3.18567061e-04],\n",
       "        [ 5.73144283e-02],\n",
       "        [-1.83223819e-01],\n",
       "        [-1.56736510e-01],\n",
       "        [ 1.30876568e-01],\n",
       "        [-1.42989741e-01],\n",
       "        [ 2.41003168e-02],\n",
       "        [ 3.51231959e-02],\n",
       "        [-7.51880947e-02],\n",
       "        [ 3.13067150e-02],\n",
       "        [-3.09769559e-02],\n",
       "        [-2.23123389e-01],\n",
       "        [ 4.44778318e-01],\n",
       "        [-1.90505607e-01],\n",
       "        [-2.11867268e-02],\n",
       "        [-1.39832020e-01],\n",
       "        [ 5.72276516e-02],\n",
       "        [-2.07798143e-01],\n",
       "        [ 6.47474344e-01],\n",
       "        [-7.48614235e-02],\n",
       "        [-2.50464211e-01],\n",
       "        [-6.69267650e-01],\n",
       "        [ 1.97555120e-01],\n",
       "        [ 1.03772298e-01],\n",
       "        [ 2.93735670e-02],\n",
       "        [ 1.66760060e-01],\n",
       "        [-4.08619231e-02],\n",
       "        [ 5.60042500e-01],\n",
       "        [ 4.53308898e-02],\n",
       "        [-7.74693964e-02],\n",
       "        [-2.95662893e-02],\n",
       "        [ 8.75265792e-03],\n",
       "        [-1.36583666e-02],\n",
       "        [-3.44122989e-01],\n",
       "        [ 2.70216168e-01],\n",
       "        [ 8.56985376e-03],\n",
       "        [-2.34032103e-01],\n",
       "        [-3.72752186e-02],\n",
       "        [-6.34433398e-02],\n",
       "        [ 3.76117090e-01],\n",
       "        [ 3.92332673e-02],\n",
       "        [-4.37652624e-02],\n",
       "        [-8.08701392e-02],\n",
       "        [ 1.31163307e-01],\n",
       "        [ 1.83394279e-01],\n",
       "        [ 1.22680856e-01],\n",
       "        [ 6.42109584e-03],\n",
       "        [-2.03383095e-02],\n",
       "        [ 2.94915376e-02],\n",
       "        [ 1.14868587e-02],\n",
       "        [ 2.59657369e-02],\n",
       "        [-1.25052609e-02],\n",
       "        [-3.78848193e-02],\n",
       "        [ 5.74152313e-01]])"
      ]
     },
     "execution_count": 28,
     "metadata": {},
     "output_type": "execute_result"
    }
   ],
   "source": [
    "\n",
    "# Perform the standard linear reg\n",
    "std_reg = standRegres(x_var, y)\n",
    "# Display the obtained regression coefficients (weights).\n",
    "std_reg"
   ]
  },
  {
   "cell_type": "code",
   "execution_count": null,
   "metadata": {},
   "outputs": [],
   "source": [
    "std_linear"
   ]
  },
  {
   "cell_type": "code",
   "execution_count": 29,
   "metadata": {},
   "outputs": [
    {
     "name": "stdout",
     "output_type": "stream",
     "text": [
      "[[0.12869119]]\n"
     ]
    }
   ],
   "source": [
    "# Compute the RMSE value on the full training data\n",
    "yHat = x_var * std_reg\n",
    "yHatT = yHat.T\n",
    "err = abs(yHatT - y)\n",
    "\n",
    "# Dot product of error vector with itself gives us the sum of squared errors\n",
    "total_error = np.dot(err, err.T)\n",
    "\n",
    "rmse = np.sqrt(total_error/len(yHat))\n",
    "print(rmse) \n",
    "#print(yHatT,y)"
   ]
  },
  {
   "cell_type": "code",
   "execution_count": 30,
   "metadata": {},
   "outputs": [
    {
     "data": {
      "image/png": "[encoded data removed]",
      "text/plain": [
       "<Figure size 432x288 with 1 Axes>"
      ]
     },
     "metadata": {
      "needs_background": "light"
     },
     "output_type": "display_data"
    }
   ],
   "source": [
    "# Plot the correlation between the predicted and actual values of the target attribute.\n",
    "\n",
    "plt.plot(y, yHat, 'bo')\n",
    "plt.plot([0,1.2,0.2],[0,1.2,0.2])\n",
    "plt.xlabel('Actual Values')\n",
    "plt.ylabel('Predicted Values(YHAT)')\n",
    "plt.show()"
   ]
  },
  {
   "cell_type": "code",
   "execution_count": 31,
   "metadata": {},
   "outputs": [
    {
     "data": {
      "text/plain": [
       "array([[1.        , 0.83360656],\n",
       "       [0.83360656, 1.        ]])"
      ]
     },
     "execution_count": 31,
     "metadata": {},
     "output_type": "execute_result"
    }
   ],
   "source": [
    "np.corrcoef(yHatT, y)"
   ]
  },
  {
   "cell_type": "code",
   "execution_count": 35,
   "metadata": {},
   "outputs": [
    {
     "name": "stdout",
     "output_type": "stream",
     "text": [
      "Original rmse: 0.12869119      10 fold rmse: 0.13589813\n"
     ]
    }
   ],
   "source": [
    "## 10 fold cross vaidation\n",
    "lin_reg = LinearRegression()\n",
    "# Train the model using the training sets\n",
    "fit_linreg = lin_reg.fit(x_var, y)\n",
    "\n",
    "# Create the prediction\n",
    "linreg_p = lin_reg.predict(x_var)\n",
    "error = abs(linreg_p - y)\n",
    "totalErr = np.dot(error, error)\n",
    "rmse_train = np.sqrt(totalErr/len(linreg_p))\n",
    "\n",
    "\n",
    "# Now let's compute RMSE using 10-fold x-validation\n",
    "n = 10\n",
    "#kf = KFold(len(x),n_splits=n)\n",
    "\n",
    "kf = KFold(n_splits=n)\n",
    "kf.get_n_splits(x)\n",
    "\n",
    "#print(kf)  \n",
    "#KFold(n_splits=n,random_state=None, shuffle=False)\n",
    " \n",
    "\n",
    "xval_err = 0\n",
    "#or train,test in kf:\n",
    "for train, test in kf.split(x):\n",
    "    lin_reg.fit(x[train],y[train])\n",
    "    p = lin_reg.predict(x[test])\n",
    "    e = p-y[test]\n",
    "    xval_err += np.sqrt(np.dot(e,e)/len(x[test]))\n",
    "       \n",
    "rmse_10cv = xval_err/n\n",
    "\n",
    "print(\"Original rmse: {:.8f}\".format(rmse_train) , \"     10 fold rmse: {:.8f}\".format(rmse_10cv))\n"
   ]
  },
  {
   "cell_type": "markdown",
   "metadata": {},
   "source": [
    "## c. Feature Selection: use the scikit-learn regression model from sklearn.linear_model with a subset of features to perform linear regression.\n",
    "\n",
    "For feature selection, write a script or function that takes as input the training data, target attribute; the model; and any other parameters you find necessary, and returns the optimal percentage of the most informative features to use. Your approach should use k-fold cross-validation on the training data (you can use k=5). You can use feature_selection.SelectPercentile to find the most informative variables. Show the list of most informative variables and their weights"
   ]
  },
  {
   "cell_type": "code",
   "execution_count": 36,
   "metadata": {},
   "outputs": [],
   "source": [
    "# Create a train test split\n",
    "x_train, x_test, y_train, y_test = train_test_split(x, y, test_size = 0.2, random_state = 33)"
   ]
  },
  {
   "cell_type": "code",
   "execution_count": 37,
   "metadata": {},
   "outputs": [
    {
     "data": {
      "text/plain": [
       "(1594,)"
      ]
     },
     "execution_count": 37,
     "metadata": {},
     "output_type": "execute_result"
    }
   ],
   "source": [
    "y_train.shape\n"
   ]
  },
  {
   "cell_type": "code",
   "execution_count": 39,
   "metadata": {},
   "outputs": [
    {
     "name": "stdout",
     "output_type": "stream",
     "text": [
      "1 0.11311687423270647\n",
      "6 0.10161771123123191\n",
      "11 0.10143611386778435\n",
      "16 0.10151188293290565\n",
      "21 0.09947901014349206\n",
      "26 0.09866057027037715\n",
      "31 0.09778947530573433\n",
      "36 0.09726265948360677\n",
      "41 0.09694532318179708\n",
      "46 0.09768092373591217\n",
      "51 0.09755830708127304\n",
      "56 0.0980911518000123\n",
      "61 0.09865252579040365\n",
      "66 0.09883931494279079\n",
      "71 0.09902672428247236\n",
      "76 0.09891114498141652\n",
      "81 0.09863681767006674\n",
      "86 0.09811756164340193\n",
      "91 0.09830813736813948\n",
      "96 0.09739148948426005\n",
      "Optimal percentile of features:41 \n",
      "\n",
      "Optimal number of features:39 \n",
      "\n"
     ]
    },
    {
     "data": {
      "text/plain": [
       "[<matplotlib.lines.Line2D at 0x1d100b154f0>]"
      ]
     },
     "execution_count": 39,
     "metadata": {},
     "output_type": "execute_result"
    },
    {
     "data": {
      "image/png": "[encoded data removed]",
      "text/plain": [
       "<Figure size 432x288 with 1 Axes>"
      ]
     },
     "metadata": {
      "needs_background": "light"
     },
     "output_type": "display_data"
    }
   ],
   "source": [
    "linreg = LinearRegression()\n",
    "\n",
    "percentiles = range(1, 100, 5)\n",
    "results = []\n",
    "\n",
    "for i in range(1, 100, 5):\n",
    "    fs = SelectPercentile(feature_selection.f_regression, percentile=i)\n",
    "    x_train_fs = fs.fit_transform(x_train, y_train)\n",
    "    \"\"\" DeprecationWarning: Scoring method 'mean_absolute_error' was renamed to 'neg_mean_absolute_error' in version 0.18 and will be removed in 0.20  \"\"\"\n",
    "    scores = abs(model_selection.cross_val_score(linreg, x_train_fs, y_train, cv=5, scoring='neg_mean_absolute_error'))\n",
    "    print (i,scores.mean())\n",
    "    results = np.append(results, scores.mean())\n",
    "\n",
    "optimal_percentile = np.where(results == results.min())[0]\n",
    "print (\"Optimal percentile of features:{0}\".format(percentiles[int(optimal_percentile)]), \"\\n\")\n",
    "optimal_num_features = int(math.floor(percentiles[int(optimal_percentile)]*x.shape[1]/100))\n",
    "print (\"Optimal number of features:{0}\".format(optimal_num_features), \"\\n\")\n",
    "\n",
    "# Plot percentile of features VS. cross-validation scores\n",
    "import pylab as pl\n",
    "pl.figure()\n",
    "pl.xlabel(\"Percentage of features selected\")\n",
    "pl.ylabel(\"Cross validation accuracy\")\n",
    "pl.plot(percentiles,results,label=' Best Percentile Graph')"
   ]
  },
  {
   "cell_type": "code",
   "execution_count": 40,
   "metadata": {},
   "outputs": [],
   "source": [
    "# Using optimal percentile\n",
    "\n",
    "fs = SelectPercentile(feature_selection.f_regression, percentile=41)\n",
    "x_train_fs = fs.fit_transform(x_train, y_train)"
   ]
  },
  {
   "cell_type": "code",
   "execution_count": 42,
   "metadata": {},
   "outputs": [],
   "source": [
    "df_comm_x = Comms.drop(['ViolentCrimesPerPop', 'state', 'communityname'], axis=1, inplace = False)\n"
   ]
  },
  {
   "cell_type": "code",
   "execution_count": 43,
   "metadata": {},
   "outputs": [
    {
     "name": "stdout",
     "output_type": "stream",
     "text": [
      "population \t\t 229.5994387214831\n",
      "racepctblack \t\t 992.1643850847802\n",
      "racePctWhite \t\t 1304.8806138268185\n",
      "numbUrban \t\t 223.6167381922968\n",
      "medIncome \t\t 341.30957351605133\n",
      "pctWWage \t\t 170.55412925955008\n",
      "pctWInvInc \t\t 761.0568397801967\n",
      "pctWPubAsst \t\t 783.2243592146212\n",
      "medFamInc \t\t 374.4346957111201\n",
      "perCapInc \t\t 214.96942659482838\n",
      "NumUnderPov \t\t 361.9594023390105\n",
      "PctPopUnderPov \t\t 569.4858535418615\n",
      "PctLess9thGrade \t\t 296.0320417055503\n",
      "PctNotHSGrad \t\t 461.0577920924575\n",
      "PctBSorMore \t\t 169.0417896192204\n",
      "PctUnemployed \t\t 532.3616336751985\n",
      "PctEmploy \t\t 196.38435597335186\n",
      "MalePctDivorce \t\t 580.3420144382127\n",
      "FemalePctDiv \t\t 693.8626992089273\n",
      "TotalPctDiv \t\t 677.2286585312042\n",
      "PctFam2Par \t\t 1596.8391699129975\n",
      "PctKids2Par \t\t 1901.3001500117093\n",
      "PctYoungKids2Par \t\t 1269.9824661860791\n",
      "PctTeen2Par \t\t 1231.3207931534812\n",
      "NumIlleg \t\t 399.82784277918284\n",
      "PctIlleg \t\t 1856.8497011201284\n",
      "PctLargHouseFam \t\t 240.00861647110156\n",
      "PctPersOwnOccup \t\t 600.098573514707\n",
      "PctPersDenseHous \t\t 348.8080905576246\n",
      "PctHousLess3BR \t\t 446.4782895921319\n",
      "MedNumBR \t\t 237.21372639671586\n",
      "HousVacant \t\t 314.7249171324914\n",
      "PctHousOccup \t\t 167.3922099265413\n",
      "PctHousOwnOcc \t\t 448.75871413842833\n",
      "PctVacantBoarded \t\t 489.30119433496407\n",
      "PctHousNoPhone \t\t 485.84208180386014\n",
      "PctWOFullPlumb \t\t 229.04098088357475\n",
      "MedRentPctHousInc \t\t 173.16720421853955\n",
      "NumInShelters \t\t 246.1347191820193\n",
      "NumStreet \t\t 176.23838096673327\n"
     ]
    }
   ],
   "source": [
    "for i in range(len(df_comm_x.columns.values)):\n",
    "    if fs.get_support()[i]:\n",
    "        print (df_comm_x.columns.values[i],'\\t\\t', fs.scores_[i])"
   ]
  },
  {
   "cell_type": "code",
   "execution_count": 45,
   "metadata": {},
   "outputs": [
    {
     "name": "stdout",
     "output_type": "stream",
     "text": [
      "Mean absolute Error (MAE) of the testing data is 0.09564769\n"
     ]
    }
   ],
   "source": [
    "\n",
    "# Calculating Mean absolute Error on the testing using 39 informatic features\n",
    "fs = feature_selection.SelectPercentile(feature_selection.f_regression, percentile=41)\n",
    "x_train_fs = fs.fit_transform(x_train, y_train)\n",
    "linreg = LinearRegression()\n",
    "linreg.fit(x_train_fs, y_train)\n",
    "x_test_fs = fs.transform(x_test)\n",
    "lr_pred = linreg.predict(x_test_fs)\n",
    "lr_mae = mean_absolute_error(y_test, lr_pred)\n",
    "\n",
    "print ('Mean absolute Error (MAE) of the testing data is %0.8f' % lr_mae)"
   ]
  },
  {
   "cell_type": "code",
   "execution_count": 46,
   "metadata": {},
   "outputs": [],
   "source": [
    "x_train, x_test, y_train, y_test = train_test_split(x_var, y, test_size=0.2, random_state=33)"
   ]
  },
  {
   "cell_type": "code",
   "execution_count": 48,
   "metadata": {},
   "outputs": [],
   "source": [
    "def calc_params(x, y, param_name, param_values, K, model, model_name):\n",
    "    \n",
    "    # Convert input to Numpy arrays\n",
    "    x = np.array(x)\n",
    "    y = np.array(y)\n",
    "\n",
    "    # Initialize training and testing scores with zeros\n",
    "    train_scores = np.zeros(len(param_values))\n",
    "    test_scores = np.zeros(len(param_values))\n",
    "    \n",
    "    # Iterate over the different parameter values\n",
    "    for i, param_value in enumerate(param_values):\n",
    "        \n",
    "        # Set classifier parameters\n",
    "        model.set_params(**{param_name:param_value})\n",
    "        \n",
    "        # Initialize the K scores obtained for each fold\n",
    "        k_train_scores = np.zeros(K)\n",
    "        k_test_scores = np.zeros(K)\n",
    "        \n",
    "        # Create KFold cross validation\n",
    "        cv = KFold(len(x), K, shuffle=True, random_state=0)\n",
    "        \n",
    "        # Iterate over the K folds\n",
    "        for j, (train, test) in enumerate(cv):\n",
    "            # Fit the classifier in the corresponding fold\n",
    "            # and obtain the corresponding accuracy scores on train and test sets\n",
    "            model.fit([x[k] for k in train], y[train])\n",
    "            train_predict = model.predict(x[train])\n",
    "            test_predict = model.predict(x[test])\n",
    "            \n",
    "            k_train_scores = mean_absolute_error(y[train], train_predict)\n",
    "            k_test_scores = mean_absolute_error(y[test], test_predict)\n",
    "            \n",
    "        # Store the mean of the K fold scores\n",
    "        train_scores[i] = np.mean(k_train_scores)\n",
    "        test_scores[i] = np.mean(k_test_scores)\n",
    "        \n",
    "        #print (\"Alpha:\",param_value)\n",
    "        #print (\"MAE Cross Validation Train:\", train_scores[i])\n",
    "        #print (\"MAE Cross Validation Test:\", test_scores[i])\n",
    "        #print ('\\n')\n",
    "       \n",
    "    # Plot the training and testing scores in a log scale\n",
    "    plt.plot(param_values, train_scores, label='Train', alpha=0.4, lw=2, c='b')\n",
    "    plt.plot(param_values, test_scores, label='X-Val', alpha=0.4, lw=2, c='g')\n",
    "    plt.legend(loc=7)\n",
    "    plt.xlabel(param_name + \" values\")\n",
    "    plt.ylabel(\"Mean Cross Validation Error\")\n",
    "    plt.title(model_name)\n",
    "    \n",
    "    min_err_idx = np.where(test_scores == test_scores.min())\n",
    "    min_err_alpha = param_values[min_err_idx]\n",
    "    print ('The minimum MAE using cross validation is:', test_scores[min_err_idx][0],'with', param_name,':', min_err_alpha[0])"
   ]
  },
  {
   "cell_type": "code",
   "execution_count": 49,
   "metadata": {},
   "outputs": [],
   "source": [
    "# Alpha values\n",
    "alpha = np.linspace(0.001, 20, 100)\n",
    "alpha = np.array([float(e) for e in alpha])"
   ]
  },
  {
   "cell_type": "code",
   "execution_count": 50,
   "metadata": {},
   "outputs": [],
   "source": [
    "# Ridge and Lasso from sklean\n",
    "ridge = Ridge()\n",
    "lasso = Lasso()\n"
   ]
  },
  {
   "cell_type": "code",
   "execution_count": 56,
   "metadata": {
    "scrolled": true
   },
   "outputs": [
    {
     "ename": "NotFittedError",
     "evalue": "This Ridge instance is not fitted yet. Call 'fit' with appropriate arguments before using this estimator.",
     "output_type": "error",
     "traceback": [
      "\u001b[1;31m---------------------------------------------------------------------------\u001b[0m",
      "\u001b[1;31mNotFittedError\u001b[0m                            Traceback (most recent call last)",
      "\u001b[1;32m<ipython-input-56-f709860eaa02>\u001b[0m in \u001b[0;36m<module>\u001b[1;34m\u001b[0m\n\u001b[1;32m----> 1\u001b[1;33m \u001b[0mp\u001b[0m\u001b[1;33m=\u001b[0m\u001b[0mridge\u001b[0m\u001b[1;33m.\u001b[0m\u001b[0mpredict\u001b[0m\u001b[1;33m(\u001b[0m\u001b[0mx_var\u001b[0m\u001b[1;33m)\u001b[0m\u001b[1;33m\u001b[0m\u001b[1;33m\u001b[0m\u001b[0m\n\u001b[0m\u001b[0;32m      2\u001b[0m \u001b[0merr\u001b[0m\u001b[1;33m=\u001b[0m\u001b[0mp\u001b[0m\u001b[1;33m-\u001b[0m\u001b[0my\u001b[0m\u001b[1;33m\u001b[0m\u001b[1;33m\u001b[0m\u001b[0m\n\u001b[0;32m      3\u001b[0m \u001b[0mtotal_error\u001b[0m\u001b[1;33m=\u001b[0m\u001b[0mnp\u001b[0m\u001b[1;33m.\u001b[0m\u001b[0mdot\u001b[0m\u001b[1;33m(\u001b[0m\u001b[0merr\u001b[0m\u001b[1;33m,\u001b[0m\u001b[0merr\u001b[0m\u001b[1;33m)\u001b[0m\u001b[1;33m\u001b[0m\u001b[1;33m\u001b[0m\u001b[0m\n\u001b[0;32m      4\u001b[0m \u001b[0mrmse_train\u001b[0m\u001b[1;33m=\u001b[0m\u001b[0mnp\u001b[0m\u001b[1;33m.\u001b[0m\u001b[0msqrt\u001b[0m\u001b[1;33m(\u001b[0m\u001b[0mtotal_error\u001b[0m\u001b[1;33m/\u001b[0m\u001b[0mlen\u001b[0m\u001b[1;33m(\u001b[0m\u001b[0mp\u001b[0m\u001b[1;33m)\u001b[0m\u001b[1;33m)\u001b[0m\u001b[1;33m\u001b[0m\u001b[1;33m\u001b[0m\u001b[0m\n\u001b[0;32m      5\u001b[0m \u001b[1;33m\u001b[0m\u001b[0m\n",
      "\u001b[1;32m~\\anaconda3\\lib\\site-packages\\sklearn\\linear_model\\_base.py\u001b[0m in \u001b[0;36mpredict\u001b[1;34m(self, X)\u001b[0m\n\u001b[0;32m    234\u001b[0m             \u001b[0mReturns\u001b[0m \u001b[0mpredicted\u001b[0m \u001b[0mvalues\u001b[0m\u001b[1;33m.\u001b[0m\u001b[1;33m\u001b[0m\u001b[1;33m\u001b[0m\u001b[0m\n\u001b[0;32m    235\u001b[0m         \"\"\"\n\u001b[1;32m--> 236\u001b[1;33m         \u001b[1;32mreturn\u001b[0m \u001b[0mself\u001b[0m\u001b[1;33m.\u001b[0m\u001b[0m_decision_function\u001b[0m\u001b[1;33m(\u001b[0m\u001b[0mX\u001b[0m\u001b[1;33m)\u001b[0m\u001b[1;33m\u001b[0m\u001b[1;33m\u001b[0m\u001b[0m\n\u001b[0m\u001b[0;32m    237\u001b[0m \u001b[1;33m\u001b[0m\u001b[0m\n\u001b[0;32m    238\u001b[0m     \u001b[0m_preprocess_data\u001b[0m \u001b[1;33m=\u001b[0m \u001b[0mstaticmethod\u001b[0m\u001b[1;33m(\u001b[0m\u001b[0m_preprocess_data\u001b[0m\u001b[1;33m)\u001b[0m\u001b[1;33m\u001b[0m\u001b[1;33m\u001b[0m\u001b[0m\n",
      "\u001b[1;32m~\\anaconda3\\lib\\site-packages\\sklearn\\linear_model\\_base.py\u001b[0m in \u001b[0;36m_decision_function\u001b[1;34m(self, X)\u001b[0m\n\u001b[0;32m    214\u001b[0m \u001b[1;33m\u001b[0m\u001b[0m\n\u001b[0;32m    215\u001b[0m     \u001b[1;32mdef\u001b[0m \u001b[0m_decision_function\u001b[0m\u001b[1;33m(\u001b[0m\u001b[0mself\u001b[0m\u001b[1;33m,\u001b[0m \u001b[0mX\u001b[0m\u001b[1;33m)\u001b[0m\u001b[1;33m:\u001b[0m\u001b[1;33m\u001b[0m\u001b[1;33m\u001b[0m\u001b[0m\n\u001b[1;32m--> 216\u001b[1;33m         \u001b[0mcheck_is_fitted\u001b[0m\u001b[1;33m(\u001b[0m\u001b[0mself\u001b[0m\u001b[1;33m)\u001b[0m\u001b[1;33m\u001b[0m\u001b[1;33m\u001b[0m\u001b[0m\n\u001b[0m\u001b[0;32m    217\u001b[0m \u001b[1;33m\u001b[0m\u001b[0m\n\u001b[0;32m    218\u001b[0m         \u001b[0mX\u001b[0m \u001b[1;33m=\u001b[0m \u001b[0mcheck_array\u001b[0m\u001b[1;33m(\u001b[0m\u001b[0mX\u001b[0m\u001b[1;33m,\u001b[0m \u001b[0maccept_sparse\u001b[0m\u001b[1;33m=\u001b[0m\u001b[1;33m[\u001b[0m\u001b[1;34m'csr'\u001b[0m\u001b[1;33m,\u001b[0m \u001b[1;34m'csc'\u001b[0m\u001b[1;33m,\u001b[0m \u001b[1;34m'coo'\u001b[0m\u001b[1;33m]\u001b[0m\u001b[1;33m)\u001b[0m\u001b[1;33m\u001b[0m\u001b[1;33m\u001b[0m\u001b[0m\n",
      "\u001b[1;32m~\\anaconda3\\lib\\site-packages\\sklearn\\utils\\validation.py\u001b[0m in \u001b[0;36minner_f\u001b[1;34m(*args, **kwargs)\u001b[0m\n\u001b[0;32m     71\u001b[0m                           FutureWarning)\n\u001b[0;32m     72\u001b[0m         \u001b[0mkwargs\u001b[0m\u001b[1;33m.\u001b[0m\u001b[0mupdate\u001b[0m\u001b[1;33m(\u001b[0m\u001b[1;33m{\u001b[0m\u001b[0mk\u001b[0m\u001b[1;33m:\u001b[0m \u001b[0marg\u001b[0m \u001b[1;32mfor\u001b[0m \u001b[0mk\u001b[0m\u001b[1;33m,\u001b[0m \u001b[0marg\u001b[0m \u001b[1;32min\u001b[0m \u001b[0mzip\u001b[0m\u001b[1;33m(\u001b[0m\u001b[0msig\u001b[0m\u001b[1;33m.\u001b[0m\u001b[0mparameters\u001b[0m\u001b[1;33m,\u001b[0m \u001b[0margs\u001b[0m\u001b[1;33m)\u001b[0m\u001b[1;33m}\u001b[0m\u001b[1;33m)\u001b[0m\u001b[1;33m\u001b[0m\u001b[1;33m\u001b[0m\u001b[0m\n\u001b[1;32m---> 73\u001b[1;33m         \u001b[1;32mreturn\u001b[0m \u001b[0mf\u001b[0m\u001b[1;33m(\u001b[0m\u001b[1;33m**\u001b[0m\u001b[0mkwargs\u001b[0m\u001b[1;33m)\u001b[0m\u001b[1;33m\u001b[0m\u001b[1;33m\u001b[0m\u001b[0m\n\u001b[0m\u001b[0;32m     74\u001b[0m     \u001b[1;32mreturn\u001b[0m \u001b[0minner_f\u001b[0m\u001b[1;33m\u001b[0m\u001b[1;33m\u001b[0m\u001b[0m\n\u001b[0;32m     75\u001b[0m \u001b[1;33m\u001b[0m\u001b[0m\n",
      "\u001b[1;32m~\\anaconda3\\lib\\site-packages\\sklearn\\utils\\validation.py\u001b[0m in \u001b[0;36mcheck_is_fitted\u001b[1;34m(estimator, attributes, msg, all_or_any)\u001b[0m\n\u001b[0;32m   1018\u001b[0m \u001b[1;33m\u001b[0m\u001b[0m\n\u001b[0;32m   1019\u001b[0m     \u001b[1;32mif\u001b[0m \u001b[1;32mnot\u001b[0m \u001b[0mattrs\u001b[0m\u001b[1;33m:\u001b[0m\u001b[1;33m\u001b[0m\u001b[1;33m\u001b[0m\u001b[0m\n\u001b[1;32m-> 1020\u001b[1;33m         \u001b[1;32mraise\u001b[0m \u001b[0mNotFittedError\u001b[0m\u001b[1;33m(\u001b[0m\u001b[0mmsg\u001b[0m \u001b[1;33m%\u001b[0m \u001b[1;33m{\u001b[0m\u001b[1;34m'name'\u001b[0m\u001b[1;33m:\u001b[0m \u001b[0mtype\u001b[0m\u001b[1;33m(\u001b[0m\u001b[0mestimator\u001b[0m\u001b[1;33m)\u001b[0m\u001b[1;33m.\u001b[0m\u001b[0m__name__\u001b[0m\u001b[1;33m}\u001b[0m\u001b[1;33m)\u001b[0m\u001b[1;33m\u001b[0m\u001b[1;33m\u001b[0m\u001b[0m\n\u001b[0m\u001b[0;32m   1021\u001b[0m \u001b[1;33m\u001b[0m\u001b[0m\n\u001b[0;32m   1022\u001b[0m \u001b[1;33m\u001b[0m\u001b[0m\n",
      "\u001b[1;31mNotFittedError\u001b[0m: This Ridge instance is not fitted yet. Call 'fit' with appropriate arguments before using this estimator."
     ]
    }
   ],
   "source": [
    "\n",
    "p=ridge.predict(x_var)\n",
    "err=p-y\n",
    "total_error=np.dot(err,err)\n",
    "rmse_train=np.sqrt(total_error/len(p))\n",
    "\n",
    "kf=KFold(len(x_var), n_folds=10)\n",
    "xval_err=0\n",
    "for train, test in kf:\n",
    "    ridge.fit(x_var[train],y[train])\n",
    "    p=ridge.predict(x_var[test])\n",
    "    e=p-y[test]\n",
    "    xval_err+=np.dot(e,e)\n",
    "rmse_10cv=np.sqrt(xval_err/len(x_var))\n",
    "\n",
    "print(\"Ridge Regression\")\n",
    "print('RMSE on training: ', rmse_train)\n",
    "print('RMSE on 10-fold CV: ', rmse_10cv)"
   ]
  },
  {
   "cell_type": "code",
   "execution_count": 3,
   "metadata": {},
   "outputs": [],
   "source": [
    "\n",
    "# Import modules\n",
    "import numpy as np\n",
    "import pandas as pd\n",
    "import matplotlib.pyplot as plt\n",
    "%matplotlib inline\n",
    "import os \n",
    "import math\n",
    "\n",
    "from sklearn.linear_model import LinearRegression, Lasso, Ridge, ElasticNet, SGDRegressor\n",
    "from sklearn import feature_selection\n",
    "from sklearn import model_selection\n",
    "from sklearn.metrics import mean_absolute_error\n",
    "from sklearn.preprocessing import StandardScaler\n",
    "from sklearn.model_selection import GridSearchCV\n",
    "from sklearn.model_selection import KFold\n",
    "from sklearn.model_selection import train_test_split\n",
    "from sklearn.feature_selection import SelectPercentile, f_regression"
   ]
  },
  {
   "cell_type": "code",
   "execution_count": 14,
   "metadata": {},
   "outputs": [],
   "source": [
    "Comms = pd.read_csv(r\"C:\\Users\\Owner\\Documents\\DSC 478\\communities.csv\")\n"
   ]
  },
  {
   "cell_type": "code",
   "execution_count": 15,
   "metadata": {},
   "outputs": [
    {
     "data": {
      "text/html": [
       "<div>\n",
       "<style scoped>\n",
       "    .dataframe tbody tr th:only-of-type {\n",
       "        vertical-align: middle;\n",
       "    }\n",
       "\n",
       "    .dataframe tbody tr th {\n",
       "        vertical-align: top;\n",
       "    }\n",
       "\n",
       "    .dataframe thead th {\n",
       "        text-align: right;\n",
       "    }\n",
       "</style>\n",
       "<table border=\"1\" class=\"dataframe\">\n",
       "  <thead>\n",
       "    <tr style=\"text-align: right;\">\n",
       "      <th></th>\n",
       "      <th>state</th>\n",
       "      <th>communityname</th>\n",
       "      <th>population</th>\n",
       "      <th>householdsize</th>\n",
       "      <th>racepctblack</th>\n",
       "      <th>racePctWhite</th>\n",
       "      <th>racePctAsian</th>\n",
       "      <th>racePctHisp</th>\n",
       "      <th>agePct12t21</th>\n",
       "      <th>agePct12t29</th>\n",
       "      <th>...</th>\n",
       "      <th>NumStreet</th>\n",
       "      <th>PctForeignBorn</th>\n",
       "      <th>PctBornSameState</th>\n",
       "      <th>PctSameHouse85</th>\n",
       "      <th>PctSameCity85</th>\n",
       "      <th>PctSameState85</th>\n",
       "      <th>LandArea</th>\n",
       "      <th>PopDens</th>\n",
       "      <th>PctUsePubTrans</th>\n",
       "      <th>ViolentCrimesPerPop</th>\n",
       "    </tr>\n",
       "  </thead>\n",
       "  <tbody>\n",
       "    <tr>\n",
       "      <th>0</th>\n",
       "      <td>8</td>\n",
       "      <td>Lakewoodcity</td>\n",
       "      <td>0.19</td>\n",
       "      <td>0.33</td>\n",
       "      <td>0.02</td>\n",
       "      <td>0.90</td>\n",
       "      <td>0.12</td>\n",
       "      <td>0.17</td>\n",
       "      <td>0.34</td>\n",
       "      <td>0.47</td>\n",
       "      <td>...</td>\n",
       "      <td>0.0</td>\n",
       "      <td>0.12</td>\n",
       "      <td>0.42</td>\n",
       "      <td>0.50</td>\n",
       "      <td>0.51</td>\n",
       "      <td>0.64</td>\n",
       "      <td>0.12</td>\n",
       "      <td>0.26</td>\n",
       "      <td>0.20</td>\n",
       "      <td>0.20</td>\n",
       "    </tr>\n",
       "    <tr>\n",
       "      <th>1</th>\n",
       "      <td>53</td>\n",
       "      <td>Tukwilacity</td>\n",
       "      <td>0.00</td>\n",
       "      <td>0.16</td>\n",
       "      <td>0.12</td>\n",
       "      <td>0.74</td>\n",
       "      <td>0.45</td>\n",
       "      <td>0.07</td>\n",
       "      <td>0.26</td>\n",
       "      <td>0.59</td>\n",
       "      <td>...</td>\n",
       "      <td>0.0</td>\n",
       "      <td>0.21</td>\n",
       "      <td>0.50</td>\n",
       "      <td>0.34</td>\n",
       "      <td>0.60</td>\n",
       "      <td>0.52</td>\n",
       "      <td>0.02</td>\n",
       "      <td>0.12</td>\n",
       "      <td>0.45</td>\n",
       "      <td>0.67</td>\n",
       "    </tr>\n",
       "    <tr>\n",
       "      <th>2</th>\n",
       "      <td>24</td>\n",
       "      <td>Aberdeentown</td>\n",
       "      <td>0.00</td>\n",
       "      <td>0.42</td>\n",
       "      <td>0.49</td>\n",
       "      <td>0.56</td>\n",
       "      <td>0.17</td>\n",
       "      <td>0.04</td>\n",
       "      <td>0.39</td>\n",
       "      <td>0.47</td>\n",
       "      <td>...</td>\n",
       "      <td>0.0</td>\n",
       "      <td>0.14</td>\n",
       "      <td>0.49</td>\n",
       "      <td>0.54</td>\n",
       "      <td>0.67</td>\n",
       "      <td>0.56</td>\n",
       "      <td>0.01</td>\n",
       "      <td>0.21</td>\n",
       "      <td>0.02</td>\n",
       "      <td>0.43</td>\n",
       "    </tr>\n",
       "    <tr>\n",
       "      <th>3</th>\n",
       "      <td>34</td>\n",
       "      <td>Willingborotownship</td>\n",
       "      <td>0.04</td>\n",
       "      <td>0.77</td>\n",
       "      <td>1.00</td>\n",
       "      <td>0.08</td>\n",
       "      <td>0.12</td>\n",
       "      <td>0.10</td>\n",
       "      <td>0.51</td>\n",
       "      <td>0.50</td>\n",
       "      <td>...</td>\n",
       "      <td>0.0</td>\n",
       "      <td>0.19</td>\n",
       "      <td>0.30</td>\n",
       "      <td>0.73</td>\n",
       "      <td>0.64</td>\n",
       "      <td>0.65</td>\n",
       "      <td>0.02</td>\n",
       "      <td>0.39</td>\n",
       "      <td>0.28</td>\n",
       "      <td>0.12</td>\n",
       "    </tr>\n",
       "    <tr>\n",
       "      <th>4</th>\n",
       "      <td>42</td>\n",
       "      <td>Bethlehemtownship</td>\n",
       "      <td>0.01</td>\n",
       "      <td>0.55</td>\n",
       "      <td>0.02</td>\n",
       "      <td>0.95</td>\n",
       "      <td>0.09</td>\n",
       "      <td>0.05</td>\n",
       "      <td>0.38</td>\n",
       "      <td>0.38</td>\n",
       "      <td>...</td>\n",
       "      <td>0.0</td>\n",
       "      <td>0.11</td>\n",
       "      <td>0.72</td>\n",
       "      <td>0.64</td>\n",
       "      <td>0.61</td>\n",
       "      <td>0.53</td>\n",
       "      <td>0.04</td>\n",
       "      <td>0.09</td>\n",
       "      <td>0.02</td>\n",
       "      <td>0.03</td>\n",
       "    </tr>\n",
       "  </tbody>\n",
       "</table>\n",
       "<p>5 rows × 100 columns</p>\n",
       "</div>"
      ],
      "text/plain": [
       "   state        communityname  population  householdsize  racepctblack  \\\n",
       "0      8         Lakewoodcity        0.19           0.33          0.02   \n",
       "1     53          Tukwilacity        0.00           0.16          0.12   \n",
       "2     24         Aberdeentown        0.00           0.42          0.49   \n",
       "3     34  Willingborotownship        0.04           0.77          1.00   \n",
       "4     42    Bethlehemtownship        0.01           0.55          0.02   \n",
       "\n",
       "   racePctWhite  racePctAsian  racePctHisp  agePct12t21  agePct12t29  ...  \\\n",
       "0          0.90          0.12         0.17         0.34         0.47  ...   \n",
       "1          0.74          0.45         0.07         0.26         0.59  ...   \n",
       "2          0.56          0.17         0.04         0.39         0.47  ...   \n",
       "3          0.08          0.12         0.10         0.51         0.50  ...   \n",
       "4          0.95          0.09         0.05         0.38         0.38  ...   \n",
       "\n",
       "   NumStreet  PctForeignBorn  PctBornSameState  PctSameHouse85  PctSameCity85  \\\n",
       "0        0.0            0.12              0.42            0.50           0.51   \n",
       "1        0.0            0.21              0.50            0.34           0.60   \n",
       "2        0.0            0.14              0.49            0.54           0.67   \n",
       "3        0.0            0.19              0.30            0.73           0.64   \n",
       "4        0.0            0.11              0.72            0.64           0.61   \n",
       "\n",
       "   PctSameState85  LandArea  PopDens  PctUsePubTrans  ViolentCrimesPerPop  \n",
       "0            0.64      0.12     0.26            0.20                 0.20  \n",
       "1            0.52      0.02     0.12            0.45                 0.67  \n",
       "2            0.56      0.01     0.21            0.02                 0.43  \n",
       "3            0.65      0.02     0.39            0.28                 0.12  \n",
       "4            0.53      0.04     0.09            0.02                 0.03  \n",
       "\n",
       "[5 rows x 100 columns]"
      ]
     },
     "execution_count": 15,
     "metadata": {},
     "output_type": "execute_result"
    }
   ],
   "source": [
    "Comms.head()"
   ]
  },
  {
   "cell_type": "code",
   "execution_count": 16,
   "metadata": {},
   "outputs": [
    {
     "data": {
      "text/plain": [
       "(1994, 100)"
      ]
     },
     "execution_count": 16,
     "metadata": {},
     "output_type": "execute_result"
    }
   ],
   "source": [
    "Comms.shape"
   ]
  },
  {
   "cell_type": "code",
   "execution_count": 17,
   "metadata": {},
   "outputs": [
    {
     "data": {
      "text/html": [
       "<div>\n",
       "<style scoped>\n",
       "    .dataframe tbody tr th:only-of-type {\n",
       "        vertical-align: middle;\n",
       "    }\n",
       "\n",
       "    .dataframe tbody tr th {\n",
       "        vertical-align: top;\n",
       "    }\n",
       "\n",
       "    .dataframe thead th {\n",
       "        text-align: right;\n",
       "    }\n",
       "</style>\n",
       "<table border=\"1\" class=\"dataframe\">\n",
       "  <thead>\n",
       "    <tr style=\"text-align: right;\">\n",
       "      <th></th>\n",
       "      <th>state</th>\n",
       "      <th>communityname</th>\n",
       "      <th>population</th>\n",
       "      <th>householdsize</th>\n",
       "      <th>racepctblack</th>\n",
       "      <th>racePctWhite</th>\n",
       "      <th>racePctAsian</th>\n",
       "      <th>racePctHisp</th>\n",
       "      <th>agePct12t21</th>\n",
       "      <th>agePct12t29</th>\n",
       "      <th>...</th>\n",
       "      <th>NumStreet</th>\n",
       "      <th>PctForeignBorn</th>\n",
       "      <th>PctBornSameState</th>\n",
       "      <th>PctSameHouse85</th>\n",
       "      <th>PctSameCity85</th>\n",
       "      <th>PctSameState85</th>\n",
       "      <th>LandArea</th>\n",
       "      <th>PopDens</th>\n",
       "      <th>PctUsePubTrans</th>\n",
       "      <th>ViolentCrimesPerPop</th>\n",
       "    </tr>\n",
       "  </thead>\n",
       "  <tbody>\n",
       "    <tr>\n",
       "      <th>count</th>\n",
       "      <td>1994.000000</td>\n",
       "      <td>1994</td>\n",
       "      <td>1994.000000</td>\n",
       "      <td>1994.000000</td>\n",
       "      <td>1994.000000</td>\n",
       "      <td>1994.000000</td>\n",
       "      <td>1994.000000</td>\n",
       "      <td>1994.000000</td>\n",
       "      <td>1994.000000</td>\n",
       "      <td>1994.000000</td>\n",
       "      <td>...</td>\n",
       "      <td>1994.000000</td>\n",
       "      <td>1994.000000</td>\n",
       "      <td>1994.000000</td>\n",
       "      <td>1994.000000</td>\n",
       "      <td>1994.000000</td>\n",
       "      <td>1994.000000</td>\n",
       "      <td>1994.000000</td>\n",
       "      <td>1994.000000</td>\n",
       "      <td>1994.000000</td>\n",
       "      <td>1994.000000</td>\n",
       "    </tr>\n",
       "    <tr>\n",
       "      <th>unique</th>\n",
       "      <td>NaN</td>\n",
       "      <td>1828</td>\n",
       "      <td>NaN</td>\n",
       "      <td>NaN</td>\n",
       "      <td>NaN</td>\n",
       "      <td>NaN</td>\n",
       "      <td>NaN</td>\n",
       "      <td>NaN</td>\n",
       "      <td>NaN</td>\n",
       "      <td>NaN</td>\n",
       "      <td>...</td>\n",
       "      <td>NaN</td>\n",
       "      <td>NaN</td>\n",
       "      <td>NaN</td>\n",
       "      <td>NaN</td>\n",
       "      <td>NaN</td>\n",
       "      <td>NaN</td>\n",
       "      <td>NaN</td>\n",
       "      <td>NaN</td>\n",
       "      <td>NaN</td>\n",
       "      <td>NaN</td>\n",
       "    </tr>\n",
       "    <tr>\n",
       "      <th>top</th>\n",
       "      <td>NaN</td>\n",
       "      <td>Auburncity</td>\n",
       "      <td>NaN</td>\n",
       "      <td>NaN</td>\n",
       "      <td>NaN</td>\n",
       "      <td>NaN</td>\n",
       "      <td>NaN</td>\n",
       "      <td>NaN</td>\n",
       "      <td>NaN</td>\n",
       "      <td>NaN</td>\n",
       "      <td>...</td>\n",
       "      <td>NaN</td>\n",
       "      <td>NaN</td>\n",
       "      <td>NaN</td>\n",
       "      <td>NaN</td>\n",
       "      <td>NaN</td>\n",
       "      <td>NaN</td>\n",
       "      <td>NaN</td>\n",
       "      <td>NaN</td>\n",
       "      <td>NaN</td>\n",
       "      <td>NaN</td>\n",
       "    </tr>\n",
       "    <tr>\n",
       "      <th>freq</th>\n",
       "      <td>NaN</td>\n",
       "      <td>5</td>\n",
       "      <td>NaN</td>\n",
       "      <td>NaN</td>\n",
       "      <td>NaN</td>\n",
       "      <td>NaN</td>\n",
       "      <td>NaN</td>\n",
       "      <td>NaN</td>\n",
       "      <td>NaN</td>\n",
       "      <td>NaN</td>\n",
       "      <td>...</td>\n",
       "      <td>NaN</td>\n",
       "      <td>NaN</td>\n",
       "      <td>NaN</td>\n",
       "      <td>NaN</td>\n",
       "      <td>NaN</td>\n",
       "      <td>NaN</td>\n",
       "      <td>NaN</td>\n",
       "      <td>NaN</td>\n",
       "      <td>NaN</td>\n",
       "      <td>NaN</td>\n",
       "    </tr>\n",
       "    <tr>\n",
       "      <th>mean</th>\n",
       "      <td>28.683551</td>\n",
       "      <td>NaN</td>\n",
       "      <td>0.057593</td>\n",
       "      <td>0.463395</td>\n",
       "      <td>0.179629</td>\n",
       "      <td>0.753716</td>\n",
       "      <td>0.153681</td>\n",
       "      <td>0.144022</td>\n",
       "      <td>0.424218</td>\n",
       "      <td>0.493867</td>\n",
       "      <td>...</td>\n",
       "      <td>0.022778</td>\n",
       "      <td>0.215552</td>\n",
       "      <td>0.608892</td>\n",
       "      <td>0.535050</td>\n",
       "      <td>0.626424</td>\n",
       "      <td>0.651530</td>\n",
       "      <td>0.065231</td>\n",
       "      <td>0.232854</td>\n",
       "      <td>0.161685</td>\n",
       "      <td>0.237979</td>\n",
       "    </tr>\n",
       "    <tr>\n",
       "      <th>std</th>\n",
       "      <td>16.397553</td>\n",
       "      <td>NaN</td>\n",
       "      <td>0.126906</td>\n",
       "      <td>0.163717</td>\n",
       "      <td>0.253442</td>\n",
       "      <td>0.244039</td>\n",
       "      <td>0.208877</td>\n",
       "      <td>0.232492</td>\n",
       "      <td>0.155196</td>\n",
       "      <td>0.143564</td>\n",
       "      <td>...</td>\n",
       "      <td>0.100400</td>\n",
       "      <td>0.231134</td>\n",
       "      <td>0.204329</td>\n",
       "      <td>0.181352</td>\n",
       "      <td>0.200521</td>\n",
       "      <td>0.198221</td>\n",
       "      <td>0.109459</td>\n",
       "      <td>0.203092</td>\n",
       "      <td>0.229055</td>\n",
       "      <td>0.232985</td>\n",
       "    </tr>\n",
       "    <tr>\n",
       "      <th>min</th>\n",
       "      <td>1.000000</td>\n",
       "      <td>NaN</td>\n",
       "      <td>0.000000</td>\n",
       "      <td>0.000000</td>\n",
       "      <td>0.000000</td>\n",
       "      <td>0.000000</td>\n",
       "      <td>0.000000</td>\n",
       "      <td>0.000000</td>\n",
       "      <td>0.000000</td>\n",
       "      <td>0.000000</td>\n",
       "      <td>...</td>\n",
       "      <td>0.000000</td>\n",
       "      <td>0.000000</td>\n",
       "      <td>0.000000</td>\n",
       "      <td>0.000000</td>\n",
       "      <td>0.000000</td>\n",
       "      <td>0.000000</td>\n",
       "      <td>0.000000</td>\n",
       "      <td>0.000000</td>\n",
       "      <td>0.000000</td>\n",
       "      <td>0.000000</td>\n",
       "    </tr>\n",
       "    <tr>\n",
       "      <th>25%</th>\n",
       "      <td>12.000000</td>\n",
       "      <td>NaN</td>\n",
       "      <td>0.010000</td>\n",
       "      <td>0.350000</td>\n",
       "      <td>0.020000</td>\n",
       "      <td>0.630000</td>\n",
       "      <td>0.040000</td>\n",
       "      <td>0.010000</td>\n",
       "      <td>0.340000</td>\n",
       "      <td>0.410000</td>\n",
       "      <td>...</td>\n",
       "      <td>0.000000</td>\n",
       "      <td>0.060000</td>\n",
       "      <td>0.470000</td>\n",
       "      <td>0.420000</td>\n",
       "      <td>0.520000</td>\n",
       "      <td>0.560000</td>\n",
       "      <td>0.020000</td>\n",
       "      <td>0.100000</td>\n",
       "      <td>0.020000</td>\n",
       "      <td>0.070000</td>\n",
       "    </tr>\n",
       "    <tr>\n",
       "      <th>50%</th>\n",
       "      <td>34.000000</td>\n",
       "      <td>NaN</td>\n",
       "      <td>0.020000</td>\n",
       "      <td>0.440000</td>\n",
       "      <td>0.060000</td>\n",
       "      <td>0.850000</td>\n",
       "      <td>0.070000</td>\n",
       "      <td>0.040000</td>\n",
       "      <td>0.400000</td>\n",
       "      <td>0.480000</td>\n",
       "      <td>...</td>\n",
       "      <td>0.000000</td>\n",
       "      <td>0.130000</td>\n",
       "      <td>0.630000</td>\n",
       "      <td>0.540000</td>\n",
       "      <td>0.670000</td>\n",
       "      <td>0.700000</td>\n",
       "      <td>0.040000</td>\n",
       "      <td>0.170000</td>\n",
       "      <td>0.070000</td>\n",
       "      <td>0.150000</td>\n",
       "    </tr>\n",
       "    <tr>\n",
       "      <th>75%</th>\n",
       "      <td>42.000000</td>\n",
       "      <td>NaN</td>\n",
       "      <td>0.050000</td>\n",
       "      <td>0.540000</td>\n",
       "      <td>0.230000</td>\n",
       "      <td>0.940000</td>\n",
       "      <td>0.170000</td>\n",
       "      <td>0.160000</td>\n",
       "      <td>0.470000</td>\n",
       "      <td>0.540000</td>\n",
       "      <td>...</td>\n",
       "      <td>0.000000</td>\n",
       "      <td>0.280000</td>\n",
       "      <td>0.777500</td>\n",
       "      <td>0.660000</td>\n",
       "      <td>0.770000</td>\n",
       "      <td>0.790000</td>\n",
       "      <td>0.070000</td>\n",
       "      <td>0.280000</td>\n",
       "      <td>0.190000</td>\n",
       "      <td>0.330000</td>\n",
       "    </tr>\n",
       "    <tr>\n",
       "      <th>max</th>\n",
       "      <td>56.000000</td>\n",
       "      <td>NaN</td>\n",
       "      <td>1.000000</td>\n",
       "      <td>1.000000</td>\n",
       "      <td>1.000000</td>\n",
       "      <td>1.000000</td>\n",
       "      <td>1.000000</td>\n",
       "      <td>1.000000</td>\n",
       "      <td>1.000000</td>\n",
       "      <td>1.000000</td>\n",
       "      <td>...</td>\n",
       "      <td>1.000000</td>\n",
       "      <td>1.000000</td>\n",
       "      <td>1.000000</td>\n",
       "      <td>1.000000</td>\n",
       "      <td>1.000000</td>\n",
       "      <td>1.000000</td>\n",
       "      <td>1.000000</td>\n",
       "      <td>1.000000</td>\n",
       "      <td>1.000000</td>\n",
       "      <td>1.000000</td>\n",
       "    </tr>\n",
       "  </tbody>\n",
       "</table>\n",
       "<p>11 rows × 100 columns</p>\n",
       "</div>"
      ],
      "text/plain": [
       "              state communityname   population  householdsize  racepctblack  \\\n",
       "count   1994.000000          1994  1994.000000    1994.000000   1994.000000   \n",
       "unique          NaN          1828          NaN            NaN           NaN   \n",
       "top             NaN    Auburncity          NaN            NaN           NaN   \n",
       "freq            NaN             5          NaN            NaN           NaN   \n",
       "mean      28.683551           NaN     0.057593       0.463395      0.179629   \n",
       "std       16.397553           NaN     0.126906       0.163717      0.253442   \n",
       "min        1.000000           NaN     0.000000       0.000000      0.000000   \n",
       "25%       12.000000           NaN     0.010000       0.350000      0.020000   \n",
       "50%       34.000000           NaN     0.020000       0.440000      0.060000   \n",
       "75%       42.000000           NaN     0.050000       0.540000      0.230000   \n",
       "max       56.000000           NaN     1.000000       1.000000      1.000000   \n",
       "\n",
       "        racePctWhite  racePctAsian  racePctHisp  agePct12t21  agePct12t29  \\\n",
       "count    1994.000000   1994.000000  1994.000000  1994.000000  1994.000000   \n",
       "unique           NaN           NaN          NaN          NaN          NaN   \n",
       "top              NaN           NaN          NaN          NaN          NaN   \n",
       "freq             NaN           NaN          NaN          NaN          NaN   \n",
       "mean        0.753716      0.153681     0.144022     0.424218     0.493867   \n",
       "std         0.244039      0.208877     0.232492     0.155196     0.143564   \n",
       "min         0.000000      0.000000     0.000000     0.000000     0.000000   \n",
       "25%         0.630000      0.040000     0.010000     0.340000     0.410000   \n",
       "50%         0.850000      0.070000     0.040000     0.400000     0.480000   \n",
       "75%         0.940000      0.170000     0.160000     0.470000     0.540000   \n",
       "max         1.000000      1.000000     1.000000     1.000000     1.000000   \n",
       "\n",
       "        ...    NumStreet  PctForeignBorn  PctBornSameState  PctSameHouse85  \\\n",
       "count   ...  1994.000000     1994.000000       1994.000000     1994.000000   \n",
       "unique  ...          NaN             NaN               NaN             NaN   \n",
       "top     ...          NaN             NaN               NaN             NaN   \n",
       "freq    ...          NaN             NaN               NaN             NaN   \n",
       "mean    ...     0.022778        0.215552          0.608892        0.535050   \n",
       "std     ...     0.100400        0.231134          0.204329        0.181352   \n",
       "min     ...     0.000000        0.000000          0.000000        0.000000   \n",
       "25%     ...     0.000000        0.060000          0.470000        0.420000   \n",
       "50%     ...     0.000000        0.130000          0.630000        0.540000   \n",
       "75%     ...     0.000000        0.280000          0.777500        0.660000   \n",
       "max     ...     1.000000        1.000000          1.000000        1.000000   \n",
       "\n",
       "        PctSameCity85  PctSameState85     LandArea      PopDens  \\\n",
       "count     1994.000000     1994.000000  1994.000000  1994.000000   \n",
       "unique            NaN             NaN          NaN          NaN   \n",
       "top               NaN             NaN          NaN          NaN   \n",
       "freq              NaN             NaN          NaN          NaN   \n",
       "mean         0.626424        0.651530     0.065231     0.232854   \n",
       "std          0.200521        0.198221     0.109459     0.203092   \n",
       "min          0.000000        0.000000     0.000000     0.000000   \n",
       "25%          0.520000        0.560000     0.020000     0.100000   \n",
       "50%          0.670000        0.700000     0.040000     0.170000   \n",
       "75%          0.770000        0.790000     0.070000     0.280000   \n",
       "max          1.000000        1.000000     1.000000     1.000000   \n",
       "\n",
       "        PctUsePubTrans  ViolentCrimesPerPop  \n",
       "count      1994.000000          1994.000000  \n",
       "unique             NaN                  NaN  \n",
       "top                NaN                  NaN  \n",
       "freq               NaN                  NaN  \n",
       "mean          0.161685             0.237979  \n",
       "std           0.229055             0.232985  \n",
       "min           0.000000             0.000000  \n",
       "25%           0.020000             0.070000  \n",
       "50%           0.070000             0.150000  \n",
       "75%           0.190000             0.330000  \n",
       "max           1.000000             1.000000  \n",
       "\n",
       "[11 rows x 100 columns]"
      ]
     },
     "execution_count": 17,
     "metadata": {},
     "output_type": "execute_result"
    }
   ],
   "source": [
    "# what are the basic statistics for each of the variable?\n",
    "Comms.describe(include=\"all\")"
   ]
  },
  {
   "cell_type": "code",
   "execution_count": 18,
   "metadata": {},
   "outputs": [
    {
     "data": {
      "text/plain": [
       "array([0, 0, 0, 0, 0, 0, 0, 0, 0, 0, 0, 0, 0, 0, 0, 0, 0, 0, 0, 0, 0, 0,\n",
       "       0, 0, 0, 0, 0, 0, 0, 0, 0, 0, 0, 0, 0, 0, 0, 0, 0, 0, 0, 0, 0, 0,\n",
       "       0, 0, 0, 0, 0, 0, 0, 0, 0, 0, 0, 0, 0, 0, 0, 0, 0, 0, 0, 0, 0, 0,\n",
       "       0, 0, 0, 0, 0, 0, 0, 0, 0, 0, 0, 0, 0, 0, 0, 0, 0, 0, 0, 0, 0, 0,\n",
       "       0, 0, 0, 0, 0, 0, 0, 0, 0, 0, 0, 0])"
      ]
     },
     "execution_count": 18,
     "metadata": {},
     "output_type": "execute_result"
    }
   ],
   "source": [
    "# handle missing data\n",
    "np.sum(np.array(pd.isnull(Comms)),0)"
   ]
  },
  {
   "cell_type": "code",
   "execution_count": 19,
   "metadata": {},
   "outputs": [
    {
     "data": {
      "text/plain": [
       "array(['0.36', '0.22', '0.28', '0.51', '0.48', '0.24', '0.18', '0.29',\n",
       "       '0.17', '0.34', '0.35', '0.13', '0.33', '0.2', '1', '0.72', '0',\n",
       "       '0.19', '0.3', '0.38', '0.14', '0.26', '0.64', '0.25', '0.37',\n",
       "       '0.16', '0.15', '0.76', '0.4', '0.42', '0.23', '0.31', '0.32',\n",
       "       '0.5', '0.66', '0.21', '0.7', '0.27', '0.11', '0.55', '0.95',\n",
       "       '0.03', '0.45', '0.08', '0.43', '0.62', '0.02', '0.41', '?',\n",
       "       '0.39', '0.88', '0.71', '0.44', '0.47', '0.09', '0.53', '0.1',\n",
       "       '0.46', '0.05', '0.52', '0.75', '0.06', '0.93', '0.12', '0.77',\n",
       "       '0.69', '0.86', '0.73', '0.67', '0.84', '0.81', '0.54', '0.59',\n",
       "       '0.01', '0.68', '0.98', '0.04', '0.61', '0.9', '0.57', '0.49',\n",
       "       '0.56', '0.07', '0.92', '0.6', '0.94', '0.63', '0.87', '0.79',\n",
       "       '0.99', '0.58', '0.83', '0.85', '0.8', '0.82', '0.74', '0.65',\n",
       "       '0.89'], dtype=object)"
      ]
     },
     "execution_count": 19,
     "metadata": {},
     "output_type": "execute_result"
    }
   ],
   "source": [
    "Comms[\"OtherPerCap\"].unique()"
   ]
  },
  {
   "cell_type": "code",
   "execution_count": 20,
   "metadata": {},
   "outputs": [
    {
     "data": {
      "text/plain": [
       "state                    int64\n",
       "communityname           object\n",
       "population             float64\n",
       "householdsize          float64\n",
       "racepctblack           float64\n",
       "                        ...   \n",
       "PctSameState85         float64\n",
       "LandArea               float64\n",
       "PopDens                float64\n",
       "PctUsePubTrans         float64\n",
       "ViolentCrimesPerPop    float64\n",
       "Length: 100, dtype: object"
      ]
     },
     "execution_count": 20,
     "metadata": {},
     "output_type": "execute_result"
    }
   ],
   "source": [
    "Comms.dtypes\n"
   ]
  },
  {
   "cell_type": "code",
   "execution_count": 21,
   "metadata": {},
   "outputs": [
    {
     "data": {
      "text/plain": [
       "state                    int64\n",
       "communityname           object\n",
       "population             float64\n",
       "householdsize          float64\n",
       "racepctblack           float64\n",
       "                        ...   \n",
       "PctSameState85         float64\n",
       "LandArea               float64\n",
       "PopDens                float64\n",
       "PctUsePubTrans         float64\n",
       "ViolentCrimesPerPop    float64\n",
       "Length: 100, dtype: object"
      ]
     },
     "execution_count": 21,
     "metadata": {},
     "output_type": "execute_result"
    }
   ],
   "source": [
    "Comms.OtherPerCap = pd.to_numeric(Comms.OtherPerCap, errors='coerce') # coerce arg turns failures into NaN\n",
    "Comms.dtypes"
   ]
  },
  {
   "cell_type": "code",
   "execution_count": 22,
   "metadata": {},
   "outputs": [],
   "source": [
    "Comms = Comms.dropna(axis=0)"
   ]
  },
  {
   "cell_type": "code",
   "execution_count": 23,
   "metadata": {},
   "outputs": [],
   "source": [
    "# seperate the target attribute\n",
    "y = np.array(Comms.ViolentCrimesPerPop)\n",
    "\n",
    "x = np.array(Comms.drop(['ViolentCrimesPerPop', 'state', 'communityname'], axis=1))"
   ]
  },
  {
   "cell_type": "code",
   "execution_count": 24,
   "metadata": {},
   "outputs": [
    {
     "data": {
      "text/plain": [
       "(1993, 97)"
      ]
     },
     "execution_count": 24,
     "metadata": {},
     "output_type": "execute_result"
    }
   ],
   "source": [
    "x.shape\n"
   ]
  },
  {
   "cell_type": "code",
   "execution_count": 25,
   "metadata": {},
   "outputs": [
    {
     "data": {
      "text/plain": [
       "(1993,)"
      ]
     },
     "execution_count": 25,
     "metadata": {},
     "output_type": "execute_result"
    }
   ],
   "source": [
    "y.shape"
   ]
  },
  {
   "cell_type": "code",
   "execution_count": 26,
   "metadata": {},
   "outputs": [],
   "source": [
    "# Function from Machine Learning in Action Book\n",
    "\n",
    "def standRegres(xArr, yArr):\n",
    "    xMat = np.matrix(xArr); yMat = np.matrix(yArr).T\n",
    "    xTx = xMat.T*xMat\n",
    "    if np.linalg.det(xTx) == 0.0:\n",
    "        print(\"This matrix is singular, cannot do inverse\")\n",
    "        return\n",
    "    else:\n",
    "        ws = xTx.I * (xMat.T*yMat)\n",
    "        return ws"
   ]
  },
  {
   "cell_type": "code",
   "execution_count": 27,
   "metadata": {},
   "outputs": [
    {
     "data": {
      "text/plain": [
       "array([[0.19, 0.33, 0.02, ..., 0.26, 0.2 , 1.  ],\n",
       "       [0.  , 0.16, 0.12, ..., 0.12, 0.45, 1.  ],\n",
       "       [0.  , 0.42, 0.49, ..., 0.21, 0.02, 1.  ],\n",
       "       ...,\n",
       "       [0.16, 0.37, 0.25, ..., 0.32, 0.18, 1.  ],\n",
       "       [0.08, 0.51, 0.06, ..., 0.38, 0.33, 1.  ],\n",
       "       [0.2 , 0.78, 0.14, ..., 0.3 , 0.05, 1.  ]])"
      ]
     },
     "execution_count": 27,
     "metadata": {},
     "output_type": "execute_result"
    }
   ],
   "source": [
    "# Prep the x_var set such that we can have a constant\n",
    "x_var = np.array(x)\n",
    "x_var = np.array([np.concatenate((v,[1])) for v in x_var])\n",
    "x_var"
   ]
  },
  {
   "cell_type": "code",
   "execution_count": 28,
   "metadata": {},
   "outputs": [
    {
     "data": {
      "text/plain": [
       "matrix([[ 1.58394687e-01],\n",
       "        [-3.02481869e-02],\n",
       "        [ 2.12229063e-01],\n",
       "        [-3.97237986e-02],\n",
       "        [-1.27930326e-02],\n",
       "        [ 6.36900639e-02],\n",
       "        [ 1.22194419e-01],\n",
       "        [-2.23124229e-01],\n",
       "        [-1.42627637e-01],\n",
       "        [ 5.64658800e-02],\n",
       "        [-2.60230134e-01],\n",
       "        [ 4.65037847e-02],\n",
       "        [-2.00798143e-01],\n",
       "        [-2.08126761e-01],\n",
       "        [ 4.70792802e-02],\n",
       "        [-1.73534979e-01],\n",
       "        [ 5.82291674e-02],\n",
       "        [ 1.05064444e-02],\n",
       "        [-9.22106451e-02],\n",
       "        [ 2.72565616e-01],\n",
       "        [ 9.72713359e-02],\n",
       "        [-3.26302914e-01],\n",
       "        [-2.89431388e-02],\n",
       "        [-3.59461641e-02],\n",
       "        [ 2.28885702e-02],\n",
       "        [ 4.31169895e-02],\n",
       "        [ 3.76737976e-02],\n",
       "        [ 1.19950473e-01],\n",
       "        [-1.83693623e-01],\n",
       "        [-9.47657739e-02],\n",
       "        [ 5.55240764e-02],\n",
       "        [ 1.07281673e-01],\n",
       "        [ 3.24692051e-03],\n",
       "        [ 2.34646790e-01],\n",
       "        [-3.87649999e-02],\n",
       "        [-1.03179240e-02],\n",
       "        [ 4.87331629e-01],\n",
       "        [ 2.23501778e-01],\n",
       "        [ 1.95680279e-01],\n",
       "        [-6.09603366e-01],\n",
       "        [-1.37531328e-01],\n",
       "        [ 5.78881584e-02],\n",
       "        [-3.48705517e-01],\n",
       "        [-3.63011027e-02],\n",
       "        [ 3.18567061e-04],\n",
       "        [ 5.73144283e-02],\n",
       "        [-1.83223819e-01],\n",
       "        [-1.56736510e-01],\n",
       "        [ 1.30876568e-01],\n",
       "        [-1.42989741e-01],\n",
       "        [ 2.41003168e-02],\n",
       "        [ 3.51231959e-02],\n",
       "        [-7.51880947e-02],\n",
       "        [ 3.13067150e-02],\n",
       "        [-3.09769559e-02],\n",
       "        [-2.23123389e-01],\n",
       "        [ 4.44778318e-01],\n",
       "        [-1.90505607e-01],\n",
       "        [-2.11867268e-02],\n",
       "        [-1.39832020e-01],\n",
       "        [ 5.72276516e-02],\n",
       "        [-2.07798143e-01],\n",
       "        [ 6.47474344e-01],\n",
       "        [-7.48614235e-02],\n",
       "        [-2.50464211e-01],\n",
       "        [-6.69267650e-01],\n",
       "        [ 1.97555120e-01],\n",
       "        [ 1.03772298e-01],\n",
       "        [ 2.93735670e-02],\n",
       "        [ 1.66760060e-01],\n",
       "        [-4.08619231e-02],\n",
       "        [ 5.60042500e-01],\n",
       "        [ 4.53308898e-02],\n",
       "        [-7.74693964e-02],\n",
       "        [-2.95662893e-02],\n",
       "        [ 8.75265792e-03],\n",
       "        [-1.36583666e-02],\n",
       "        [-3.44122989e-01],\n",
       "        [ 2.70216168e-01],\n",
       "        [ 8.56985376e-03],\n",
       "        [-2.34032103e-01],\n",
       "        [-3.72752186e-02],\n",
       "        [-6.34433398e-02],\n",
       "        [ 3.76117090e-01],\n",
       "        [ 3.92332673e-02],\n",
       "        [-4.37652624e-02],\n",
       "        [-8.08701392e-02],\n",
       "        [ 1.31163307e-01],\n",
       "        [ 1.83394279e-01],\n",
       "        [ 1.22680856e-01],\n",
       "        [ 6.42109584e-03],\n",
       "        [-2.03383095e-02],\n",
       "        [ 2.94915376e-02],\n",
       "        [ 1.14868587e-02],\n",
       "        [ 2.59657369e-02],\n",
       "        [-1.25052609e-02],\n",
       "        [-3.78848193e-02],\n",
       "        [ 5.74152313e-01]])"
      ]
     },
     "execution_count": 28,
     "metadata": {},
     "output_type": "execute_result"
    }
   ],
   "source": [
    "\n",
    "# Perform the standard linear reg\n",
    "std_reg = standRegres(x_var, y)\n",
    "# Display the obtained regression coefficients (weights).\n",
    "std_reg"
   ]
  },
  {
   "cell_type": "code",
   "execution_count": null,
   "metadata": {},
   "outputs": [],
   "source": [
    "std_linear"
   ]
  },
  {
   "cell_type": "code",
   "execution_count": 29,
   "metadata": {},
   "outputs": [
    {
     "name": "stdout",
     "output_type": "stream",
     "text": [
      "[[0.12869119]]\n"
     ]
    }
   ],
   "source": [
    "# Compute the RMSE value on the full training data\n",
    "yHat = x_var * std_reg\n",
    "yHatT = yHat.T\n",
    "err = abs(yHatT - y)\n",
    "\n",
    "# Dot product of error vector with itself gives us the sum of squared errors\n",
    "total_error = np.dot(err, err.T)\n",
    "\n",
    "rmse = np.sqrt(total_error/len(yHat))\n",
    "print(rmse) \n",
    "#print(yHatT,y)"
   ]
  },
  {
   "cell_type": "code",
   "execution_count": 30,
   "metadata": {},
   "outputs": [
    {
     "data": {
      "image/png": "[encoded data removed]",
      "text/plain": [
       "<Figure size 432x288 with 1 Axes>"
      ]
     },
     "metadata": {
      "needs_background": "light"
     },
     "output_type": "display_data"
    }
   ],
   "source": [
    "# Plot the correlation between the predicted and actual values of the target attribute.\n",
    "\n",
    "plt.plot(y, yHat, 'bo')\n",
    "plt.plot([0,1.2,0.2],[0,1.2,0.2])\n",
    "plt.xlabel('Actual Values')\n",
    "plt.ylabel('Predicted Values(YHAT)')\n",
    "plt.show()"
   ]
  },
  {
   "cell_type": "code",
   "execution_count": 31,
   "metadata": {},
   "outputs": [
    {
     "data": {
      "text/plain": [
       "array([[1.        , 0.83360656],\n",
       "       [0.83360656, 1.        ]])"
      ]
     },
     "execution_count": 31,
     "metadata": {},
     "output_type": "execute_result"
    }
   ],
   "source": [
    "np.corrcoef(yHatT, y)"
   ]
  },
  {
   "cell_type": "code",
   "execution_count": 35,
   "metadata": {},
   "outputs": [
    {
     "name": "stdout",
     "output_type": "stream",
     "text": [
      "Original rmse: 0.12869119      10 fold rmse: 0.13589813\n"
     ]
    }
   ],
   "source": [
    "## 10 fold cross vaidation\n",
    "lin_reg = LinearRegression()\n",
    "# Train the model using the training sets\n",
    "fit_linreg = lin_reg.fit(x_var, y)\n",
    "\n",
    "# Create the prediction\n",
    "linreg_p = lin_reg.predict(x_var)\n",
    "error = abs(linreg_p - y)\n",
    "totalErr = np.dot(error, error)\n",
    "rmse_train = np.sqrt(totalErr/len(linreg_p))\n",
    "\n",
    "\n",
    "# Now let's compute RMSE using 10-fold x-validation\n",
    "n = 10\n",
    "#kf = KFold(len(x),n_splits=n)\n",
    "\n",
    "kf = KFold(n_splits=n)\n",
    "kf.get_n_splits(x)\n",
    "\n",
    "#print(kf)  \n",
    "#KFold(n_splits=n,random_state=None, shuffle=False)\n",
    " \n",
    "\n",
    "xval_err = 0\n",
    "#or train,test in kf:\n",
    "for train, test in kf.split(x):\n",
    "    lin_reg.fit(x[train],y[train])\n",
    "    p = lin_reg.predict(x[test])\n",
    "    e = p-y[test]\n",
    "    xval_err += np.sqrt(np.dot(e,e)/len(x[test]))\n",
    "       \n",
    "rmse_10cv = xval_err/n\n",
    "\n",
    "print(\"Original rmse: {:.8f}\".format(rmse_train) , \"     10 fold rmse: {:.8f}\".format(rmse_10cv))\n"
   ]
  },
  {
   "cell_type": "markdown",
   "metadata": {},
   "source": [
    "## c. Feature Selection: use the scikit-learn regression model from sklearn.linear_model with a subset of features to perform linear regression.\n",
    "\n",
    "For feature selection, write a script or function that takes as input the training data, target attribute; the model; and any other parameters you find necessary, and returns the optimal percentage of the most informative features to use. Your approach should use k-fold cross-validation on the training data (you can use k=5). You can use feature_selection.SelectPercentile to find the most informative variables. Show the list of most informative variables and their weights"
   ]
  },
  {
   "cell_type": "code",
   "execution_count": 36,
   "metadata": {},
   "outputs": [],
   "source": [
    "# Create a train test split\n",
    "x_train, x_test, y_train, y_test = train_test_split(x, y, test_size = 0.2, random_state = 33)"
   ]
  },
  {
   "cell_type": "code",
   "execution_count": 37,
   "metadata": {},
   "outputs": [
    {
     "data": {
      "text/plain": [
       "(1594,)"
      ]
     },
     "execution_count": 37,
     "metadata": {},
     "output_type": "execute_result"
    }
   ],
   "source": [
    "y_train.shape\n"
   ]
  },
  {
   "cell_type": "code",
   "execution_count": 39,
   "metadata": {},
   "outputs": [
    {
     "name": "stdout",
     "output_type": "stream",
     "text": [
      "1 0.11311687423270647\n",
      "6 0.10161771123123191\n",
      "11 0.10143611386778435\n",
      "16 0.10151188293290565\n",
      "21 0.09947901014349206\n",
      "26 0.09866057027037715\n",
      "31 0.09778947530573433\n",
      "36 0.09726265948360677\n",
      "41 0.09694532318179708\n",
      "46 0.09768092373591217\n",
      "51 0.09755830708127304\n",
      "56 0.0980911518000123\n",
      "61 0.09865252579040365\n",
      "66 0.09883931494279079\n",
      "71 0.09902672428247236\n",
      "76 0.09891114498141652\n",
      "81 0.09863681767006674\n",
      "86 0.09811756164340193\n",
      "91 0.09830813736813948\n",
      "96 0.09739148948426005\n",
      "Optimal percentile of features:41 \n",
      "\n",
      "Optimal number of features:39 \n",
      "\n"
     ]
    },
    {
     "data": {
      "text/plain": [
       "[<matplotlib.lines.Line2D at 0x1d100b154f0>]"
      ]
     },
     "execution_count": 39,
     "metadata": {},
     "output_type": "execute_result"
    },
    {
     "data": {
      "image/png": "[encoded data removed]",
      "text/plain": [
       "<Figure size 432x288 with 1 Axes>"
      ]
     },
     "metadata": {
      "needs_background": "light"
     },
     "output_type": "display_data"
    }
   ],
   "source": [
    "linreg = LinearRegression()\n",
    "\n",
    "percentiles = range(1, 100, 5)\n",
    "results = []\n",
    "\n",
    "for i in range(1, 100, 5):\n",
    "    fs = SelectPercentile(feature_selection.f_regression, percentile=i)\n",
    "    x_train_fs = fs.fit_transform(x_train, y_train)\n",
    "    \"\"\" DeprecationWarning: Scoring method 'mean_absolute_error' was renamed to 'neg_mean_absolute_error' in version 0.18 and will be removed in 0.20  \"\"\"\n",
    "    scores = abs(model_selection.cross_val_score(linreg, x_train_fs, y_train, cv=5, scoring='neg_mean_absolute_error'))\n",
    "    print (i,scores.mean())\n",
    "    results = np.append(results, scores.mean())\n",
    "\n",
    "optimal_percentile = np.where(results == results.min())[0]\n",
    "print (\"Optimal percentile of features:{0}\".format(percentiles[int(optimal_percentile)]), \"\\n\")\n",
    "optimal_num_features = int(math.floor(percentiles[int(optimal_percentile)]*x.shape[1]/100))\n",
    "print (\"Optimal number of features:{0}\".format(optimal_num_features), \"\\n\")\n",
    "\n",
    "# Plot percentile of features VS. cross-validation scores\n",
    "import pylab as pl\n",
    "pl.figure()\n",
    "pl.xlabel(\"Percentage of features selected\")\n",
    "pl.ylabel(\"Cross validation accuracy\")\n",
    "pl.plot(percentiles,results,label=' Best Percentile Graph')"
   ]
  },
  {
   "cell_type": "code",
   "execution_count": 40,
   "metadata": {},
   "outputs": [],
   "source": [
    "# Using optimal percentile\n",
    "\n",
    "fs = SelectPercentile(feature_selection.f_regression, percentile=41)\n",
    "x_train_fs = fs.fit_transform(x_train, y_train)"
   ]
  },
  {
   "cell_type": "code",
   "execution_count": 42,
   "metadata": {},
   "outputs": [],
   "source": [
    "df_comm_x = Comms.drop(['ViolentCrimesPerPop', 'state', 'communityname'], axis=1, inplace = False)\n"
   ]
  },
  {
   "cell_type": "code",
   "execution_count": 43,
   "metadata": {},
   "outputs": [
    {
     "name": "stdout",
     "output_type": "stream",
     "text": [
      "population \t\t 229.5994387214831\n",
      "racepctblack \t\t 992.1643850847802\n",
      "racePctWhite \t\t 1304.8806138268185\n",
      "numbUrban \t\t 223.6167381922968\n",
      "medIncome \t\t 341.30957351605133\n",
      "pctWWage \t\t 170.55412925955008\n",
      "pctWInvInc \t\t 761.0568397801967\n",
      "pctWPubAsst \t\t 783.2243592146212\n",
      "medFamInc \t\t 374.4346957111201\n",
      "perCapInc \t\t 214.96942659482838\n",
      "NumUnderPov \t\t 361.9594023390105\n",
      "PctPopUnderPov \t\t 569.4858535418615\n",
      "PctLess9thGrade \t\t 296.0320417055503\n",
      "PctNotHSGrad \t\t 461.0577920924575\n",
      "PctBSorMore \t\t 169.0417896192204\n",
      "PctUnemployed \t\t 532.3616336751985\n",
      "PctEmploy \t\t 196.38435597335186\n",
      "MalePctDivorce \t\t 580.3420144382127\n",
      "FemalePctDiv \t\t 693.8626992089273\n",
      "TotalPctDiv \t\t 677.2286585312042\n",
      "PctFam2Par \t\t 1596.8391699129975\n",
      "PctKids2Par \t\t 1901.3001500117093\n",
      "PctYoungKids2Par \t\t 1269.9824661860791\n",
      "PctTeen2Par \t\t 1231.3207931534812\n",
      "NumIlleg \t\t 399.82784277918284\n",
      "PctIlleg \t\t 1856.8497011201284\n",
      "PctLargHouseFam \t\t 240.00861647110156\n",
      "PctPersOwnOccup \t\t 600.098573514707\n",
      "PctPersDenseHous \t\t 348.8080905576246\n",
      "PctHousLess3BR \t\t 446.4782895921319\n",
      "MedNumBR \t\t 237.21372639671586\n",
      "HousVacant \t\t 314.7249171324914\n",
      "PctHousOccup \t\t 167.3922099265413\n",
      "PctHousOwnOcc \t\t 448.75871413842833\n",
      "PctVacantBoarded \t\t 489.30119433496407\n",
      "PctHousNoPhone \t\t 485.84208180386014\n",
      "PctWOFullPlumb \t\t 229.04098088357475\n",
      "MedRentPctHousInc \t\t 173.16720421853955\n",
      "NumInShelters \t\t 246.1347191820193\n",
      "NumStreet \t\t 176.23838096673327\n"
     ]
    }
   ],
   "source": [
    "for i in range(len(df_comm_x.columns.values)):\n",
    "    if fs.get_support()[i]:\n",
    "        print (df_comm_x.columns.values[i],'\\t\\t', fs.scores_[i])"
   ]
  },
  {
   "cell_type": "code",
   "execution_count": 81,
   "metadata": {},
   "outputs": [
    {
     "name": "stdout",
     "output_type": "stream",
     "text": [
      "Mean absolute Error (MAE) of the testing data is 0.01944931\n"
     ]
    },
    {
     "name": "stderr",
     "output_type": "stream",
     "text": [
      "C:\\Users\\Owner\\anaconda3\\lib\\site-packages\\sklearn\\feature_selection\\_univariate_selection.py:302: RuntimeWarning: divide by zero encountered in true_divide\n",
      "  corr /= X_norms\n",
      "C:\\Users\\Owner\\anaconda3\\lib\\site-packages\\sklearn\\feature_selection\\_univariate_selection.py:307: RuntimeWarning: invalid value encountered in true_divide\n",
      "  F = corr ** 2 / (1 - corr ** 2) * degrees_of_freedom\n",
      "C:\\Users\\Owner\\anaconda3\\lib\\site-packages\\scipy\\stats\\_distn_infrastructure.py:1932: RuntimeWarning: invalid value encountered in less_equal\n",
      "  cond2 = cond0 & (x <= _a)\n"
     ]
    }
   ],
   "source": [
    "from sklearn.metrics import mean_squared_error\n",
    "\n",
    "# Calculating Mean absolute Error on the testing using 39 informatic features\n",
    "fs = feature_selection.SelectPercentile(feature_selection.f_regression, percentile=41)\n",
    "x_train_fs = fs.fit_transform(x_train, y_train)\n",
    "linreg = LinearRegression()\n",
    "linreg.fit(x_train_fs, y_train)\n",
    "x_test_fs = fs.transform(x_test)\n",
    "lr_pred = linreg.predict(x_test_fs)\n",
    "lr_mae = mean_squared_error(y_test, lr_pred)\n",
    "\n",
    "print ('Mean absolute Error (MAE) of the testing data is %0.8f' % lr_mae)"
   ]
  },
  {
   "cell_type": "code",
   "execution_count": 46,
   "metadata": {},
   "outputs": [],
   "source": [
    "x_train, x_test, y_train, y_test = train_test_split(x_var, y, test_size=0.2, random_state=33)"
   ]
  },
  {
   "cell_type": "code",
   "execution_count": 82,
   "metadata": {},
   "outputs": [],
   "source": [
    "def calc_params(X, Y, param_values, param_name, K, model, model_name):\n",
    "    X = np.array(X)\n",
    "    Y = np.array(Y)\n",
    "    \n",
    "    train_scores = np.zeros(len(param_values))\n",
    "    test_scores = np.zeros(len(param_values))\n",
    "    \n",
    "    for i, param_value in enumerate(param_values):\n",
    "        \n",
    "        model.set_params(**{param_name:param_value})\n",
    "        \n",
    "        k_train_scores = np.zeros(K)\n",
    "        k_test_scores = np.zeros(K)\n",
    "    \n",
    "        cv = KFold(len(X), K, shuffle=True, random_state=0)\n",
    "        \n",
    "        for j, (train, test) in enumerate(cv):\n",
    "            model.fit([X[k] for k in train], y[train])\n",
    "            train_predict = model.predict(X[train])\n",
    "            test_predict = model.predict(X[test])\n",
    "            \n",
    "            k_train_scores = mean_absolute_error(y[train], train_predict)\n",
    "            k_test_scores = mean_absolute_error(y[test], test_predict)\n",
    "            \n",
    "        train_scores[i] = np.mean(k_train_scores)\n",
    "        test_scores[i] = np.mean(k_test_scores)\n",
    "       \n",
    "    plt.plot(param_values, train_scores, label = 'Train', alpha = 0.4, lw = 2, c = 'b')\n",
    "    plt.plot(param_values, test_scores, label = 'X-Val', alpha = 0.4, lw = 2, c = 'r')\n",
    "    plt.legend(loc=7)\n",
    "    plt.xlabel(param_name + \" values\")\n",
    "    plt.ylabel(\"Mean cross validation error\")\n",
    "    \n",
    "    min_err = np.where(test_scores == test_scores.min())\n",
    "    min_err_alpha = param_values[min_err]\n",
    "    print('The minimum Mean absolute error is:', test_scores[min_err][0],'alpha is', min_err_alpha[0])"
   ]
  },
  {
   "cell_type": "code",
   "execution_count": 75,
   "metadata": {},
   "outputs": [],
   "source": [
    "# Alpha values\n",
    "alpha = np.linspace(0.001, 20, 100)\n",
    "alpha = np.array([float(e) for e in alpha])"
   ]
  },
  {
   "cell_type": "code",
   "execution_count": 76,
   "metadata": {},
   "outputs": [],
   "source": [
    "# Ridge and Lasso from sklean\n",
    "ridge = Ridge()\n",
    "lasso = Lasso()"
   ]
  },
  {
   "cell_type": "code",
   "execution_count": 87,
   "metadata": {
    "scrolled": true
   },
   "outputs": [
    {
     "ename": "SyntaxError",
     "evalue": "invalid syntax (<ipython-input-87-4c150a73ba45>, line 1)",
     "output_type": "error",
     "traceback": [
      "\u001b[1;36m  File \u001b[1;32m\"<ipython-input-87-4c150a73ba45>\"\u001b[1;36m, line \u001b[1;32m1\u001b[0m\n\u001b[1;33m    calc_params(x_train, y_train, alpha, \"alpha\", 5 ridge, \"Ridge Regression\")\u001b[0m\n\u001b[1;37m                                                    ^\u001b[0m\n\u001b[1;31mSyntaxError\u001b[0m\u001b[1;31m:\u001b[0m invalid syntax\n"
     ]
    }
   ],
   "source": [
    "calc_params(x_train, y_train, alpha, \"alpha\", 5 ridge, \"Ridge Regression\")"
   ]
  },
  {
   "cell_type": "code",
   "execution_count": 66,
   "metadata": {},
   "outputs": [
    {
     "ename": "SyntaxError",
     "evalue": "positional argument follows keyword argument (<ipython-input-66-e25386fe5b2b>, line 2)",
     "output_type": "error",
     "traceback": [
      "\u001b[1;36m  File \u001b[1;32m\"<ipython-input-66-e25386fe5b2b>\"\u001b[1;36m, line \u001b[1;32m2\u001b[0m\n\u001b[1;33m    calc_params(x_train, y_train, \"alpha\", alpha, K=5, lasso, \"Lasso Regression\")\u001b[0m\n\u001b[1;37m                                                       ^\u001b[0m\n\u001b[1;31mSyntaxError\u001b[0m\u001b[1;31m:\u001b[0m positional argument follows keyword argument\n"
     ]
    }
   ],
   "source": [
    " # Lasso Regression\n",
    "calc_params(x_train, y_train, \"alpha\", alpha, K=5, lasso, \"Lasso Regression\")"
   ]
  },
  {
   "cell_type": "code",
   "execution_count": 83,
   "metadata": {},
   "outputs": [
    {
     "name": "stdout",
     "output_type": "stream",
     "text": [
      "Mean absolute error on test data: 0.02096295\n"
     ]
    }
   ],
   "source": [
    "from sklearn.metrics import mean_squared_error\n",
    "ridge = Ridge(fit_intercept = True, alpha = 96.4875879397)\n",
    "ridge.fit(x_train, y_train)    \n",
    "pred = ridge.predict(x_test)\n",
    "mae = mean_squared_error(y_test, pred)\n",
    "print('Mean absolute error on test data: %0.8f' % mae)"
   ]
  },
  {
   "cell_type": "markdown",
   "metadata": {},
   "source": [
    "## e. Next, perform regression using Stochastic Gradient Descent for regression.\n",
    "\n",
    "For this part, you should use the SGDRegessor module from sklearn.linear_model. Again, start with creating randomized 80%-20% train-test split. SGDRegessor requires that features be standardized (with 0 mean and scaled by standard deviation).\n",
    "Prior to fiting the model, perform the scaling using StandardScaler from sklearn.preprocessing. For this problem, perform a grid search (using GridSearchCV from sklearn.grid_search) Your grid search should compare combinations of two penalty parameters ('l2', 'l1') and different values of alpha (alpha could vary from 0.0001 which is the default to relatively large values).\n",
    "Using the best parameters, apply the model to the set-aside test data.\n",
    "Finally, perform model selection (similar to part d, above) to find the best \"l1_ratio\" parameter using SGDRegressor with the \"elasticnet\" penalty parameter. [Note: \"l1_ratio\" is The Elastic Net mixing parameter, with 0 <= l1_ratio <= 1; l1_ratio=0 corresponds to L2 penalty, l1_ratio=1 to L1 penalty; defaults to 0.15.] Using the best mixing ratio, apply the Elastic Net model to the set-aside test data. Provide a summary of your findings from the above experiments."
   ]
  },
  {
   "cell_type": "code",
   "execution_count": 95,
   "metadata": {},
   "outputs": [
    {
     "name": "stdout",
     "output_type": "stream",
     "text": [
      "[[ 1.04322451 -0.8151013  -0.62983779 ...  0.13339736  0.16703946\n",
      "   0.        ]\n",
      " [-0.45398157 -1.85354783 -0.23427886 ... -0.5559994   1.25854648\n",
      "   0.        ]\n",
      " [-0.45398157 -0.26533549  1.22928918 ... -0.11281577 -0.6188456\n",
      "   0.        ]\n",
      " ...\n",
      " [ 0.80682355 -0.57076094  0.27994775 ...  0.42885311  0.0797189\n",
      "   0.        ]\n",
      " [ 0.17642099  0.28443032 -0.47161421 ...  0.72430886  0.73462311\n",
      "   0.        ]\n",
      " [ 1.12202483  1.93372776 -0.15516707 ...  0.33036786 -0.48786475\n",
      "   0.        ]]\n",
      "Method: Stochastic Gradient Descent Regression\n",
      "RMSE on training: 0.1329\n",
      "RMSE on 10-fold CV: 0.1393\n"
     ]
    }
   ],
   "source": [
    "from sklearn.preprocessing import StandardScaler\n",
    "from sklearn.model_selection import GridSearchCV\n",
    "scaler = StandardScaler()\n",
    "scaler.fit(x)\n",
    "x_s = scaler.transform(x)\n",
    "\n",
    "print(x_s)\n",
    "\n",
    "sgdreg = SGDRegressor(penalty='l2', alpha=0.1, max_iter=300)\n",
    "\n",
    "# Compute RMSE on training data\n",
    "sgdreg.fit(x_s,y)\n",
    "p = sgdreg.predict(x_s)\n",
    "err = p-y\n",
    "total_error = np.dot(err,err)\n",
    "rmse_train = np.sqrt(total_error/len(p))\n",
    "\n",
    "# Compute RMSE using 10-fold x-validation\n",
    "#kf = KFold(len(x), n_folds=10)\n",
    "kf = KFold(n_splits=10)\n",
    "kf.get_n_splits(x)\n",
    "\n",
    "KFold(n_splits=n,random_state=None, shuffle=False)\n",
    "xval_err = 0\n",
    "for train,test in kf.split(x):\n",
    "    scaler = StandardScaler()\n",
    "    scaler.fit(x[train])  # Don't cheat - fit only on training data\n",
    "    xtrain_s = scaler.transform(x[train])\n",
    "    xtest_s = scaler.transform(x[test])  # apply same transformation to test data\n",
    "    sgdreg.fit(xtrain_s,y[train])\n",
    "    p = sgdreg.predict(xtest_s)\n",
    "    e = p-y[test]\n",
    "    xval_err += np.dot(e,e)\n",
    "rmse_10cv = np.sqrt(xval_err/len(x))\n",
    "\n",
    "method_name = 'Stochastic Gradient Descent Regression'\n",
    "print('Method: %s' %method_name)\n",
    "print('RMSE on training: %.4f' %rmse_train)\n",
    "print('RMSE on 10-fold CV: %.4f' %rmse_10cv)"
   ]
  },
  {
   "cell_type": "code",
   "execution_count": 96,
   "metadata": {},
   "outputs": [],
   "source": [
    "sgdr = SGDRegressor()\n",
    "para = {'penalty': ['l2', 'l1'], 'alpha': np.linspace(0.0001, 200, 400)}\n",
    "\n",
    "gs = GridSearchCV(sgdr, para, verbose = 1, cv = 5)"
   ]
  },
  {
   "cell_type": "code",
   "execution_count": 97,
   "metadata": {},
   "outputs": [
    {
     "name": "stdout",
     "output_type": "stream",
     "text": [
      "Fitting 5 folds for each of 800 candidates, totalling 4000 fits\n"
     ]
    },
    {
     "name": "stderr",
     "output_type": "stream",
     "text": [
      "[Parallel(n_jobs=1)]: Using backend SequentialBackend with 1 concurrent workers.\n"
     ]
    },
    {
     "name": "stdout",
     "output_type": "stream",
     "text": [
      "Wall time: 29.1 s\n"
     ]
    },
    {
     "name": "stderr",
     "output_type": "stream",
     "text": [
      "[Parallel(n_jobs=1)]: Done 4000 out of 4000 | elapsed:   28.8s finished\n"
     ]
    },
    {
     "data": {
      "text/plain": [
       "({'alpha': 0.0001, 'penalty': 'l2'}, 0.6278406847840431)"
      ]
     },
     "execution_count": 97,
     "metadata": {},
     "output_type": "execute_result"
    }
   ],
   "source": [
    "%time _ = gs.fit(x_train, y_train)\n",
    "\n",
    "gs.best_params_, gs.best_score_"
   ]
  },
  {
   "cell_type": "code",
   "execution_count": 98,
   "metadata": {},
   "outputs": [
    {
     "name": "stdout",
     "output_type": "stream",
     "text": [
      "The optimum value of alpha is estimated as 0.0001 \n",
      "\n",
      "The optimum value of penalty is estimated as l2 \n",
      "\n"
     ]
    }
   ],
   "source": [
    "for (i, j) in gs.best_params_.items():\n",
    "    sgdr.set_params(**{i:j})\n",
    "    print (\"The optimum value of\", i, \"is estimated as\", j, \"\\n\")"
   ]
  },
  {
   "cell_type": "code",
   "execution_count": 99,
   "metadata": {},
   "outputs": [
    {
     "name": "stdout",
     "output_type": "stream",
     "text": [
      "Mean Absolute error of set-aside test data set: 0.02044067\n"
     ]
    }
   ],
   "source": [
    "\n",
    "sgdr = SGDRegressor(penalty = 'l1', alpha = 0.0001)\n",
    "sgdr.fit(x_train, y_train)\n",
    "pred = sgdr.predict(x_test)\n",
    "mae = mean_squared_error(y_test, pred)\n",
    "\n",
    "print ('Mean Absolute error of set-aside test data set: %0.8f' % mae)"
   ]
  },
  {
   "cell_type": "code",
   "execution_count": null,
   "metadata": {},
   "outputs": [],
   "source": []
  },
  {
   "cell_type": "code",
   "execution_count": null,
   "metadata": {},
   "outputs": [],
   "source": []
  }
 ],
 "metadata": {
  "kernelspec": {
   "display_name": "Python 3",
   "language": "python",
   "name": "python3"
  },
  "language_info": {
   "codemirror_mode": {
    "name": "ipython",
    "version": 3
   },
   "file_extension": ".py",
   "mimetype": "text/x-python",
   "name": "python",
   "nbconvert_exporter": "python",
   "pygments_lexer": "ipython3",
   "version": "3.8.3"
  }
 },
 "nbformat": 4,
 "nbformat_minor": 4
}