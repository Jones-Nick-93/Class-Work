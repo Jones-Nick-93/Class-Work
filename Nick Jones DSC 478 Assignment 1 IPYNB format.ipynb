{
 "cells": [
  {
   "cell_type": "markdown",
   "metadata": {},
   "source": [
    "## Nick Jones DSC 478 Assignment 1"
   ]
  },
  {
   "cell_type": "code",
   "execution_count": 1,
   "metadata": {},
   "outputs": [],
   "source": [
    "## load libraries\n",
    "import sys\n",
    "import numpy as np\n",
    "import pandas as pd\n",
    "import matplotlib.pyplot as plt\n",
    "%matplotlib inline"
   ]
  },
  {
   "cell_type": "code",
   "execution_count": 2,
   "metadata": {},
   "outputs": [
    {
     "data": {
      "text/html": [
       "<div>\n",
       "<style scoped>\n",
       "    .dataframe tbody tr th:only-of-type {\n",
       "        vertical-align: middle;\n",
       "    }\n",
       "\n",
       "    .dataframe tbody tr th {\n",
       "        vertical-align: top;\n",
       "    }\n",
       "\n",
       "    .dataframe thead th {\n",
       "        text-align: right;\n",
       "    }\n",
       "</style>\n",
       "<table border=\"1\" class=\"dataframe\">\n",
       "  <thead>\n",
       "    <tr style=\"text-align: right;\">\n",
       "      <th></th>\n",
       "      <th>age</th>\n",
       "      <th>income</th>\n",
       "      <th>children</th>\n",
       "      <th>gender</th>\n",
       "      <th>region</th>\n",
       "      <th>married</th>\n",
       "      <th>car</th>\n",
       "      <th>savings_acct</th>\n",
       "      <th>current_acct</th>\n",
       "      <th>mortgage</th>\n",
       "      <th>pep</th>\n",
       "    </tr>\n",
       "  </thead>\n",
       "  <tbody>\n",
       "    <tr>\n",
       "      <th>0</th>\n",
       "      <td>48</td>\n",
       "      <td>17546.0</td>\n",
       "      <td>1</td>\n",
       "      <td>FEMALE</td>\n",
       "      <td>INNER_CITY</td>\n",
       "      <td>NO</td>\n",
       "      <td>NO</td>\n",
       "      <td>NO</td>\n",
       "      <td>NO</td>\n",
       "      <td>NO</td>\n",
       "      <td>YES</td>\n",
       "    </tr>\n",
       "    <tr>\n",
       "      <th>1</th>\n",
       "      <td>40</td>\n",
       "      <td>30085.1</td>\n",
       "      <td>3</td>\n",
       "      <td>MALE</td>\n",
       "      <td>TOWN</td>\n",
       "      <td>YES</td>\n",
       "      <td>YES</td>\n",
       "      <td>NO</td>\n",
       "      <td>YES</td>\n",
       "      <td>YES</td>\n",
       "      <td>NO</td>\n",
       "    </tr>\n",
       "    <tr>\n",
       "      <th>2</th>\n",
       "      <td>51</td>\n",
       "      <td>16575.4</td>\n",
       "      <td>0</td>\n",
       "      <td>FEMALE</td>\n",
       "      <td>INNER_CITY</td>\n",
       "      <td>YES</td>\n",
       "      <td>YES</td>\n",
       "      <td>YES</td>\n",
       "      <td>YES</td>\n",
       "      <td>NO</td>\n",
       "      <td>NO</td>\n",
       "    </tr>\n",
       "    <tr>\n",
       "      <th>3</th>\n",
       "      <td>23</td>\n",
       "      <td>20375.4</td>\n",
       "      <td>3</td>\n",
       "      <td>FEMALE</td>\n",
       "      <td>TOWN</td>\n",
       "      <td>YES</td>\n",
       "      <td>NO</td>\n",
       "      <td>NO</td>\n",
       "      <td>YES</td>\n",
       "      <td>NO</td>\n",
       "      <td>NO</td>\n",
       "    </tr>\n",
       "    <tr>\n",
       "      <th>4</th>\n",
       "      <td>57</td>\n",
       "      <td>50576.3</td>\n",
       "      <td>0</td>\n",
       "      <td>FEMALE</td>\n",
       "      <td>RURAL</td>\n",
       "      <td>YES</td>\n",
       "      <td>NO</td>\n",
       "      <td>YES</td>\n",
       "      <td>NO</td>\n",
       "      <td>NO</td>\n",
       "      <td>NO</td>\n",
       "    </tr>\n",
       "  </tbody>\n",
       "</table>\n",
       "</div>"
      ],
      "text/plain": [
       "   age   income  children  gender      region married  car savings_acct  \\\n",
       "0   48  17546.0         1  FEMALE  INNER_CITY      NO   NO           NO   \n",
       "1   40  30085.1         3    MALE        TOWN     YES  YES           NO   \n",
       "2   51  16575.4         0  FEMALE  INNER_CITY     YES  YES          YES   \n",
       "3   23  20375.4         3  FEMALE        TOWN     YES   NO           NO   \n",
       "4   57  50576.3         0  FEMALE       RURAL     YES   NO          YES   \n",
       "\n",
       "  current_acct mortgage  pep  \n",
       "0           NO       NO  YES  \n",
       "1          YES      YES   NO  \n",
       "2          YES       NO   NO  \n",
       "3          YES       NO   NO  \n",
       "4           NO       NO   NO  "
      ]
     },
     "execution_count": 2,
     "metadata": {},
     "output_type": "execute_result"
    }
   ],
   "source": [
    "bank_data = pd.read_csv(r\"C:\\Users\\Owner\\Documents\\bank_data.csv\")\n",
    "bank_data = bank_data.drop('id', 1) # drop id\n",
    "bank_data.head(n=5)"
   ]
  },
  {
   "cell_type": "code",
   "execution_count": 3,
   "metadata": {},
   "outputs": [
    {
     "data": {
      "text/plain": [
       "(600, 11)"
      ]
     },
     "execution_count": 3,
     "metadata": {},
     "output_type": "execute_result"
    }
   ],
   "source": [
    "bank_data.shape  # 600 rows, 12 columns"
   ]
  },
  {
   "cell_type": "markdown",
   "metadata": {},
   "source": [
    "\n",
    "## 1. Explore the general characteristics of the data as a whole: examine the means, standard deviations, and other statistics associated with the numerical attributes; show the distributions of values associated with categorical attributes; etc."
   ]
  },
  {
   "cell_type": "code",
   "execution_count": 4,
   "metadata": {},
   "outputs": [
    {
     "data": {
      "text/html": [
       "<div>\n",
       "<style scoped>\n",
       "    .dataframe tbody tr th:only-of-type {\n",
       "        vertical-align: middle;\n",
       "    }\n",
       "\n",
       "    .dataframe tbody tr th {\n",
       "        vertical-align: top;\n",
       "    }\n",
       "\n",
       "    .dataframe thead th {\n",
       "        text-align: right;\n",
       "    }\n",
       "</style>\n",
       "<table border=\"1\" class=\"dataframe\">\n",
       "  <thead>\n",
       "    <tr style=\"text-align: right;\">\n",
       "      <th></th>\n",
       "      <th>age</th>\n",
       "      <th>income</th>\n",
       "      <th>children</th>\n",
       "    </tr>\n",
       "  </thead>\n",
       "  <tbody>\n",
       "    <tr>\n",
       "      <th>count</th>\n",
       "      <td>600.000000</td>\n",
       "      <td>600.000000</td>\n",
       "      <td>600.000000</td>\n",
       "    </tr>\n",
       "    <tr>\n",
       "      <th>mean</th>\n",
       "      <td>42.395000</td>\n",
       "      <td>27524.031217</td>\n",
       "      <td>1.011667</td>\n",
       "    </tr>\n",
       "    <tr>\n",
       "      <th>std</th>\n",
       "      <td>14.424947</td>\n",
       "      <td>12899.468246</td>\n",
       "      <td>1.056752</td>\n",
       "    </tr>\n",
       "    <tr>\n",
       "      <th>min</th>\n",
       "      <td>18.000000</td>\n",
       "      <td>5014.210000</td>\n",
       "      <td>0.000000</td>\n",
       "    </tr>\n",
       "    <tr>\n",
       "      <th>25%</th>\n",
       "      <td>30.000000</td>\n",
       "      <td>17264.500000</td>\n",
       "      <td>0.000000</td>\n",
       "    </tr>\n",
       "    <tr>\n",
       "      <th>50%</th>\n",
       "      <td>42.000000</td>\n",
       "      <td>24925.300000</td>\n",
       "      <td>1.000000</td>\n",
       "    </tr>\n",
       "    <tr>\n",
       "      <th>75%</th>\n",
       "      <td>55.250000</td>\n",
       "      <td>36172.675000</td>\n",
       "      <td>2.000000</td>\n",
       "    </tr>\n",
       "    <tr>\n",
       "      <th>max</th>\n",
       "      <td>67.000000</td>\n",
       "      <td>63130.100000</td>\n",
       "      <td>3.000000</td>\n",
       "    </tr>\n",
       "  </tbody>\n",
       "</table>\n",
       "</div>"
      ],
      "text/plain": [
       "              age        income    children\n",
       "count  600.000000    600.000000  600.000000\n",
       "mean    42.395000  27524.031217    1.011667\n",
       "std     14.424947  12899.468246    1.056752\n",
       "min     18.000000   5014.210000    0.000000\n",
       "25%     30.000000  17264.500000    0.000000\n",
       "50%     42.000000  24925.300000    1.000000\n",
       "75%     55.250000  36172.675000    2.000000\n",
       "max     67.000000  63130.100000    3.000000"
      ]
     },
     "execution_count": 4,
     "metadata": {},
     "output_type": "execute_result"
    }
   ],
   "source": [
    "bank_data.describe() # include=\"all\""
   ]
  },
  {
   "cell_type": "code",
   "execution_count": 5,
   "metadata": {},
   "outputs": [
    {
     "data": {
      "text/plain": [
       "<matplotlib.axes._subplots.AxesSubplot at 0x112cd98ba90>"
      ]
     },
     "execution_count": 5,
     "metadata": {},
     "output_type": "execute_result"
    },
    {
     "data": {
      "image/png": "[encoded data removed]",
      "text/plain": [
       "<Figure size 432x288 with 1 Axes>"
      ]
     },
     "metadata": {
      "needs_background": "light"
     },
     "output_type": "display_data"
    }
   ],
   "source": [
    "bank_cats = ['gender', 'region', 'married', 'car', 'savings_acct', 'current_acct', 'mortgage', 'pep']\n",
    "\n",
    "bank_data['gender'].value_counts().plot(kind='bar')"
   ]
  },
  {
   "cell_type": "code",
   "execution_count": 6,
   "metadata": {},
   "outputs": [
    {
     "data": {
      "text/plain": [
       "<matplotlib.axes._subplots.AxesSubplot at 0x112ce0a7ca0>"
      ]
     },
     "execution_count": 6,
     "metadata": {},
     "output_type": "execute_result"
    },
    {
     "data": {
      "image/png": "[encoded data removed]",
      "text/plain": [
       "<Figure size 432x288 with 1 Axes>"
      ]
     },
     "metadata": {
      "needs_background": "light"
     },
     "output_type": "display_data"
    }
   ],
   "source": [
    "bank_data['region'].value_counts().plot(kind='bar')"
   ]
  },
  {
   "cell_type": "code",
   "execution_count": 7,
   "metadata": {},
   "outputs": [
    {
     "data": {
      "text/plain": [
       "<matplotlib.axes._subplots.AxesSubplot at 0x112ce121a30>"
      ]
     },
     "execution_count": 7,
     "metadata": {},
     "output_type": "execute_result"
    },
    {
     "data": {
      "image/png": "[encoded data removed]",
      "text/plain": [
       "<Figure size 432x288 with 1 Axes>"
      ]
     },
     "metadata": {
      "needs_background": "light"
     },
     "output_type": "display_data"
    }
   ],
   "source": [
    "bank_data['married'].value_counts().plot(kind='bar')"
   ]
  },
  {
   "cell_type": "code",
   "execution_count": 8,
   "metadata": {},
   "outputs": [
    {
     "data": {
      "text/plain": [
       "<matplotlib.axes._subplots.AxesSubplot at 0x112ce1b02e0>"
      ]
     },
     "execution_count": 8,
     "metadata": {},
     "output_type": "execute_result"
    },
    {
     "data": {
      "image/png": "[encoded data removed]",
      "text/plain": [
       "<Figure size 432x288 with 1 Axes>"
      ]
     },
     "metadata": {
      "needs_background": "light"
     },
     "output_type": "display_data"
    }
   ],
   "source": [
    "bank_data['car'].value_counts().plot(kind='bar')"
   ]
  },
  {
   "cell_type": "code",
   "execution_count": 10,
   "metadata": {},
   "outputs": [
    {
     "data": {
      "text/plain": [
       "<matplotlib.axes._subplots.AxesSubplot at 0x112ce1f2e50>"
      ]
     },
     "execution_count": 10,
     "metadata": {},
     "output_type": "execute_result"
    },
    {
     "data": {
      "image/png": "[encoded data removed]",
      "text/plain": [
       "<Figure size 432x288 with 1 Axes>"
      ]
     },
     "metadata": {
      "needs_background": "light"
     },
     "output_type": "display_data"
    }
   ],
   "source": [
    "bank_data['savings_acct'].value_counts().plot(kind='bar')"
   ]
  },
  {
   "cell_type": "code",
   "execution_count": 11,
   "metadata": {},
   "outputs": [
    {
     "data": {
      "text/plain": [
       "<matplotlib.axes._subplots.AxesSubplot at 0x112ce31c0d0>"
      ]
     },
     "execution_count": 11,
     "metadata": {},
     "output_type": "execute_result"
    },
    {
     "data": {
      "image/png": "[encoded data removed]",
      "text/plain": [
       "<Figure size 432x288 with 1 Axes>"
      ]
     },
     "metadata": {
      "needs_background": "light"
     },
     "output_type": "display_data"
    }
   ],
   "source": [
    "bank_data['current_acct'].value_counts().plot(kind='bar')"
   ]
  },
  {
   "cell_type": "code",
   "execution_count": 12,
   "metadata": {},
   "outputs": [
    {
     "data": {
      "text/plain": [
       "<matplotlib.axes._subplots.AxesSubplot at 0x112ce36a3a0>"
      ]
     },
     "execution_count": 12,
     "metadata": {},
     "output_type": "execute_result"
    },
    {
     "data": {
      "image/png": "[encoded data removed]",
      "text/plain": [
       "<Figure size 432x288 with 1 Axes>"
      ]
     },
     "metadata": {
      "needs_background": "light"
     },
     "output_type": "display_data"
    }
   ],
   "source": [
    "bank_data['mortgage'].value_counts().plot(kind='bar')"
   ]
  },
  {
   "cell_type": "code",
   "execution_count": 13,
   "metadata": {},
   "outputs": [
    {
     "data": {
      "text/plain": [
       "<matplotlib.axes._subplots.AxesSubplot at 0x112ce3cacd0>"
      ]
     },
     "execution_count": 13,
     "metadata": {},
     "output_type": "execute_result"
    },
    {
     "data": {
      "image/png": "[encoded data removed]",
      "text/plain": [
       "<Figure size 432x288 with 1 Axes>"
      ]
     },
     "metadata": {
      "needs_background": "light"
     },
     "output_type": "display_data"
    }
   ],
   "source": [
    "bank_data['pep'].value_counts().plot(kind='bar')"
   ]
  },
  {
   "cell_type": "markdown",
   "metadata": {},
   "source": [
    "The bar plots above show the distribution of the categorical variables by there unique levels. Understanding the underlying distribution can help lead to selecting appropriate data pre-processing techniques."
   ]
  },
  {
   "cell_type": "markdown",
   "metadata": {},
   "source": [
    "## 2. Suppose that because of the bank is particularly interested in customers who buy the PEP (Personal Equity Plan) product. Compare and contrast the subsets of customers who buy and don't buy the PEP. Compute summaries (as in part 1) of the selected data with respect to all other attributes. Can you observe any significant differences between these segments of customers? Discuss your observations"
   ]
  },
  {
   "cell_type": "code",
   "execution_count": 38,
   "metadata": {},
   "outputs": [
    {
     "data": {
      "text/html": [
       "<div>\n",
       "<style scoped>\n",
       "    .dataframe tbody tr th:only-of-type {\n",
       "        vertical-align: middle;\n",
       "    }\n",
       "\n",
       "    .dataframe tbody tr th {\n",
       "        vertical-align: top;\n",
       "    }\n",
       "\n",
       "    .dataframe thead tr th {\n",
       "        text-align: left;\n",
       "    }\n",
       "\n",
       "    .dataframe thead tr:last-of-type th {\n",
       "        text-align: right;\n",
       "    }\n",
       "</style>\n",
       "<table border=\"1\" class=\"dataframe\">\n",
       "  <thead>\n",
       "    <tr>\n",
       "      <th></th>\n",
       "      <th colspan=\"10\" halign=\"left\">age</th>\n",
       "      <th>...</th>\n",
       "      <th colspan=\"10\" halign=\"left\">mortgage</th>\n",
       "    </tr>\n",
       "    <tr>\n",
       "      <th></th>\n",
       "      <th>count</th>\n",
       "      <th>unique</th>\n",
       "      <th>top</th>\n",
       "      <th>freq</th>\n",
       "      <th>mean</th>\n",
       "      <th>std</th>\n",
       "      <th>min</th>\n",
       "      <th>25%</th>\n",
       "      <th>50%</th>\n",
       "      <th>75%</th>\n",
       "      <th>...</th>\n",
       "      <th>unique</th>\n",
       "      <th>top</th>\n",
       "      <th>freq</th>\n",
       "      <th>mean</th>\n",
       "      <th>std</th>\n",
       "      <th>min</th>\n",
       "      <th>25%</th>\n",
       "      <th>50%</th>\n",
       "      <th>75%</th>\n",
       "      <th>max</th>\n",
       "    </tr>\n",
       "    <tr>\n",
       "      <th>pep</th>\n",
       "      <th></th>\n",
       "      <th></th>\n",
       "      <th></th>\n",
       "      <th></th>\n",
       "      <th></th>\n",
       "      <th></th>\n",
       "      <th></th>\n",
       "      <th></th>\n",
       "      <th></th>\n",
       "      <th></th>\n",
       "      <th></th>\n",
       "      <th></th>\n",
       "      <th></th>\n",
       "      <th></th>\n",
       "      <th></th>\n",
       "      <th></th>\n",
       "      <th></th>\n",
       "      <th></th>\n",
       "      <th></th>\n",
       "      <th></th>\n",
       "      <th></th>\n",
       "    </tr>\n",
       "  </thead>\n",
       "  <tbody>\n",
       "    <tr>\n",
       "      <th>NO</th>\n",
       "      <td>326.0</td>\n",
       "      <td>NaN</td>\n",
       "      <td>NaN</td>\n",
       "      <td>NaN</td>\n",
       "      <td>0.450983</td>\n",
       "      <td>0.288235</td>\n",
       "      <td>0.0</td>\n",
       "      <td>0.183673</td>\n",
       "      <td>0.44898</td>\n",
       "      <td>0.673469</td>\n",
       "      <td>...</td>\n",
       "      <td>2</td>\n",
       "      <td>NO</td>\n",
       "      <td>209</td>\n",
       "      <td>NaN</td>\n",
       "      <td>NaN</td>\n",
       "      <td>NaN</td>\n",
       "      <td>NaN</td>\n",
       "      <td>NaN</td>\n",
       "      <td>NaN</td>\n",
       "      <td>NaN</td>\n",
       "    </tr>\n",
       "    <tr>\n",
       "      <th>YES</th>\n",
       "      <td>274.0</td>\n",
       "      <td>NaN</td>\n",
       "      <td>NaN</td>\n",
       "      <td>NaN</td>\n",
       "      <td>0.553627</td>\n",
       "      <td>0.292408</td>\n",
       "      <td>0.0</td>\n",
       "      <td>0.326531</td>\n",
       "      <td>0.55102</td>\n",
       "      <td>0.816327</td>\n",
       "      <td>...</td>\n",
       "      <td>2</td>\n",
       "      <td>NO</td>\n",
       "      <td>182</td>\n",
       "      <td>NaN</td>\n",
       "      <td>NaN</td>\n",
       "      <td>NaN</td>\n",
       "      <td>NaN</td>\n",
       "      <td>NaN</td>\n",
       "      <td>NaN</td>\n",
       "      <td>NaN</td>\n",
       "    </tr>\n",
       "  </tbody>\n",
       "</table>\n",
       "<p>2 rows × 110 columns</p>\n",
       "</div>"
      ],
      "text/plain": [
       "       age                                                              \\\n",
       "     count unique top freq      mean       std  min       25%      50%   \n",
       "pep                                                                      \n",
       "NO   326.0    NaN NaN  NaN  0.450983  0.288235  0.0  0.183673  0.44898   \n",
       "YES  274.0    NaN NaN  NaN  0.553627  0.292408  0.0  0.326531  0.55102   \n",
       "\n",
       "               ... mortgage                                              \n",
       "          75%  ...   unique top freq mean  std  min  25%  50%  75%  max  \n",
       "pep            ...                                                       \n",
       "NO   0.673469  ...        2  NO  209  NaN  NaN  NaN  NaN  NaN  NaN  NaN  \n",
       "YES  0.816327  ...        2  NO  182  NaN  NaN  NaN  NaN  NaN  NaN  NaN  \n",
       "\n",
       "[2 rows x 110 columns]"
      ]
     },
     "execution_count": 38,
     "metadata": {},
     "output_type": "execute_result"
    }
   ],
   "source": [
    "# get a statistical summary by pep respones\n",
    "bank_data.groupby('pep').describe(include='all')"
   ]
  },
  {
   "cell_type": "code",
   "execution_count": 41,
   "metadata": {},
   "outputs": [],
   "source": [
    "region_pep = pd.crosstab(bank_data[\"region\"], bank_data[\"pep\"])\n",
    "married_pep = pd.crosstab(bank_data[\"married\"], bank_data[\"pep\"])\n",
    "car_pep = pd.crosstab(bank_data[\"car\"], bank_data[\"pep\"])\n",
    "savings_pep = pd.crosstab(bank_data[\"savings_acct\"], bank_data[\"pep\"])\n",
    "current_pep = pd.crosstab(bank_data[\"current_acct\"], bank_data[\"pep\"])\n",
    "mortgage_pep = pd.crosstab(bank_data[\"mortgage\"], bank_data[\"pep\"])\n"
   ]
  },
  {
   "cell_type": "code",
   "execution_count": 42,
   "metadata": {
    "scrolled": true
   },
   "outputs": [
    {
     "data": {
      "text/plain": [
       "<matplotlib.axes._subplots.AxesSubplot at 0x112cf936040>"
      ]
     },
     "execution_count": 42,
     "metadata": {},
     "output_type": "execute_result"
    },
    {
     "data": {
      "image/png": "[encoded data removed]",
      "text/plain": [
       "<Figure size 1296x1152 with 6 Axes>"
      ]
     },
     "metadata": {
      "needs_background": "light"
     },
     "output_type": "display_data"
    }
   ],
   "source": [
    "fig, ((ax1, ax2), (ax3, ax4),\n",
    "      (ax5, ax6)) = plt.subplots(3, 2,figsize=(18,16),constrained_layout=True)\n",
    "\n",
    "region_pep.plot(ax=ax1, kind='bar',grid=True,title=\"PEP by Region\")\n",
    "married_pep.plot(ax=ax2, kind='bar',grid=True,title=\"PEP by Marital Status\")\n",
    "car_pep.plot(ax=ax3, kind='bar',grid=True,title=\"PEP by Car\")\n",
    "savings_pep.plot(ax=ax4, kind='bar',grid=True,title=\"PEP by Savings Account\")\n",
    "current_pep.plot(ax=ax5, kind='bar',grid=True,title=\"PEP by Current Account\")\n",
    "mortgage_pep.plot(ax=ax6, kind='bar',grid=True,title=\"PEP by Mortgage\")\n"
   ]
  },
  {
   "cell_type": "markdown",
   "metadata": {},
   "source": [
    "Yes to pep has greater mean age (45) than no pep (40)\n",
    "People with pep are more likely to be single\n",
    "In the suburbs is the only place you are more likely to have pep plan than no pep plan"
   ]
  },
  {
   "cell_type": "markdown",
   "metadata": {},
   "source": [
    "## 3. Use z-score normalization to standardize the values of the income attribute. [Do not change the original income attribute in the table.]"
   ]
  },
  {
   "cell_type": "code",
   "execution_count": 17,
   "metadata": {},
   "outputs": [
    {
     "data": {
      "text/plain": [
       "0   -0.773523\n",
       "1    0.198541\n",
       "2   -0.848766\n",
       "3   -0.554180\n",
       "4    1.787071\n",
       "5    0.802015\n",
       "6   -1.445560\n",
       "7   -0.199809\n",
       "8   -0.172079\n",
       "9   -0.256749\n",
       "Name: income, dtype: float64"
      ]
     },
     "execution_count": 17,
     "metadata": {},
     "output_type": "execute_result"
    }
   ],
   "source": [
    "income_z = (bank_data[\"income\"] - bank_data[\"income\"].mean()) / bank_data[\"income\"].std()\n",
    "income_z.head(n=10)\n"
   ]
  },
  {
   "cell_type": "markdown",
   "metadata": {},
   "source": [
    "## 4. Discretize the age attribute into 3 categories (corresponding to \"young\", \"mid-age\", and \"old\"). [Do not change the original age attribute in the table.]"
   ]
  },
  {
   "cell_type": "code",
   "execution_count": 18,
   "metadata": {},
   "outputs": [
    {
     "data": {
      "text/plain": [
       "(0      mid-age\n",
       " 1      mid-age\n",
       " 2          old\n",
       " 3        young\n",
       " 4          old\n",
       "         ...   \n",
       " 595        old\n",
       " 596      young\n",
       " 597      young\n",
       " 598      young\n",
       " 599    mid-age\n",
       " Name: age, Length: 600, dtype: category\n",
       " Categories (3, object): [young < mid-age < old],\n",
       " array([18., 35., 49., 67.]))"
      ]
     },
     "execution_count": 18,
     "metadata": {},
     "output_type": "execute_result"
    }
   ],
   "source": [
    "age_bins = pd.qcut(bank_data.age, [0, .33, .66, 1], labels=[\"young\", \"mid-age\", \"old\"], retbins=True)\n",
    "age_bins"
   ]
  },
  {
   "cell_type": "markdown",
   "metadata": {},
   "source": [
    "## 5. Use Min-Max Normalization to transform the values of all numeric attributes in the original table (income, age, children) onto the range 0.0-1.0.\n"
   ]
  },
  {
   "cell_type": "code",
   "execution_count": 22,
   "metadata": {},
   "outputs": [
    {
     "name": "stdout",
     "output_type": "stream",
     "text": [
      "age           18.00\n",
      "income      5014.21\n",
      "children       0.00\n",
      "dtype: float64\n",
      "age            67.0\n",
      "income      63130.1\n",
      "children        3.0\n",
      "dtype: float64\n"
     ]
    }
   ],
   "source": [
    "# vectorized operations done on each of the numeric vectors\n",
    "mins = bank_data[[\"age\", \"income\", \"children\"]].min()\n",
    "maxs = bank_data[[\"age\", \"income\", \"children\"]].max()\n",
    "print(mins)\n",
    "print(maxs)"
   ]
  },
  {
   "cell_type": "code",
   "execution_count": 37,
   "metadata": {},
   "outputs": [
    {
     "data": {
      "text/html": [
       "<div>\n",
       "<style scoped>\n",
       "    .dataframe tbody tr th:only-of-type {\n",
       "        vertical-align: middle;\n",
       "    }\n",
       "\n",
       "    .dataframe tbody tr th {\n",
       "        vertical-align: top;\n",
       "    }\n",
       "\n",
       "    .dataframe thead th {\n",
       "        text-align: right;\n",
       "    }\n",
       "</style>\n",
       "<table border=\"1\" class=\"dataframe\">\n",
       "  <thead>\n",
       "    <tr style=\"text-align: right;\">\n",
       "      <th></th>\n",
       "      <th>age</th>\n",
       "      <th>income</th>\n",
       "      <th>children</th>\n",
       "      <th>gender</th>\n",
       "      <th>region</th>\n",
       "      <th>married</th>\n",
       "      <th>car</th>\n",
       "      <th>savings_acct</th>\n",
       "      <th>current_acct</th>\n",
       "      <th>mortgage</th>\n",
       "      <th>pep</th>\n",
       "    </tr>\n",
       "  </thead>\n",
       "  <tbody>\n",
       "    <tr>\n",
       "      <th>0</th>\n",
       "      <td>0.612245</td>\n",
       "      <td>0.215634</td>\n",
       "      <td>0.333333</td>\n",
       "      <td>FEMALE</td>\n",
       "      <td>INNER_CITY</td>\n",
       "      <td>NO</td>\n",
       "      <td>NO</td>\n",
       "      <td>NO</td>\n",
       "      <td>NO</td>\n",
       "      <td>NO</td>\n",
       "      <td>YES</td>\n",
       "    </tr>\n",
       "    <tr>\n",
       "      <th>1</th>\n",
       "      <td>0.448980</td>\n",
       "      <td>0.431395</td>\n",
       "      <td>1.000000</td>\n",
       "      <td>MALE</td>\n",
       "      <td>TOWN</td>\n",
       "      <td>YES</td>\n",
       "      <td>YES</td>\n",
       "      <td>NO</td>\n",
       "      <td>YES</td>\n",
       "      <td>YES</td>\n",
       "      <td>NO</td>\n",
       "    </tr>\n",
       "    <tr>\n",
       "      <th>2</th>\n",
       "      <td>0.673469</td>\n",
       "      <td>0.198933</td>\n",
       "      <td>0.000000</td>\n",
       "      <td>FEMALE</td>\n",
       "      <td>INNER_CITY</td>\n",
       "      <td>YES</td>\n",
       "      <td>YES</td>\n",
       "      <td>YES</td>\n",
       "      <td>YES</td>\n",
       "      <td>NO</td>\n",
       "      <td>NO</td>\n",
       "    </tr>\n",
       "    <tr>\n",
       "      <th>3</th>\n",
       "      <td>0.102041</td>\n",
       "      <td>0.264320</td>\n",
       "      <td>1.000000</td>\n",
       "      <td>FEMALE</td>\n",
       "      <td>TOWN</td>\n",
       "      <td>YES</td>\n",
       "      <td>NO</td>\n",
       "      <td>NO</td>\n",
       "      <td>YES</td>\n",
       "      <td>NO</td>\n",
       "      <td>NO</td>\n",
       "    </tr>\n",
       "    <tr>\n",
       "      <th>4</th>\n",
       "      <td>0.795918</td>\n",
       "      <td>0.783987</td>\n",
       "      <td>0.000000</td>\n",
       "      <td>FEMALE</td>\n",
       "      <td>RURAL</td>\n",
       "      <td>YES</td>\n",
       "      <td>NO</td>\n",
       "      <td>YES</td>\n",
       "      <td>NO</td>\n",
       "      <td>NO</td>\n",
       "      <td>NO</td>\n",
       "    </tr>\n",
       "    <tr>\n",
       "      <th>5</th>\n",
       "      <td>0.795918</td>\n",
       "      <td>0.565343</td>\n",
       "      <td>0.666667</td>\n",
       "      <td>FEMALE</td>\n",
       "      <td>TOWN</td>\n",
       "      <td>YES</td>\n",
       "      <td>NO</td>\n",
       "      <td>YES</td>\n",
       "      <td>YES</td>\n",
       "      <td>NO</td>\n",
       "      <td>YES</td>\n",
       "    </tr>\n",
       "    <tr>\n",
       "      <th>6</th>\n",
       "      <td>0.081633</td>\n",
       "      <td>0.066468</td>\n",
       "      <td>0.000000</td>\n",
       "      <td>MALE</td>\n",
       "      <td>RURAL</td>\n",
       "      <td>NO</td>\n",
       "      <td>NO</td>\n",
       "      <td>NO</td>\n",
       "      <td>YES</td>\n",
       "      <td>NO</td>\n",
       "      <td>YES</td>\n",
       "    </tr>\n",
       "    <tr>\n",
       "      <th>7</th>\n",
       "      <td>0.816327</td>\n",
       "      <td>0.342977</td>\n",
       "      <td>0.000000</td>\n",
       "      <td>MALE</td>\n",
       "      <td>TOWN</td>\n",
       "      <td>YES</td>\n",
       "      <td>YES</td>\n",
       "      <td>YES</td>\n",
       "      <td>YES</td>\n",
       "      <td>NO</td>\n",
       "      <td>NO</td>\n",
       "    </tr>\n",
       "    <tr>\n",
       "      <th>8</th>\n",
       "      <td>0.387755</td>\n",
       "      <td>0.349132</td>\n",
       "      <td>0.666667</td>\n",
       "      <td>FEMALE</td>\n",
       "      <td>SUBURBAN</td>\n",
       "      <td>YES</td>\n",
       "      <td>YES</td>\n",
       "      <td>NO</td>\n",
       "      <td>NO</td>\n",
       "      <td>NO</td>\n",
       "      <td>NO</td>\n",
       "    </tr>\n",
       "    <tr>\n",
       "      <th>9</th>\n",
       "      <td>0.734694</td>\n",
       "      <td>0.330338</td>\n",
       "      <td>0.666667</td>\n",
       "      <td>MALE</td>\n",
       "      <td>TOWN</td>\n",
       "      <td>YES</td>\n",
       "      <td>YES</td>\n",
       "      <td>YES</td>\n",
       "      <td>YES</td>\n",
       "      <td>NO</td>\n",
       "      <td>NO</td>\n",
       "    </tr>\n",
       "  </tbody>\n",
       "</table>\n",
       "</div>"
      ],
      "text/plain": [
       "        age    income  children  gender      region married  car savings_acct  \\\n",
       "0  0.612245  0.215634  0.333333  FEMALE  INNER_CITY      NO   NO           NO   \n",
       "1  0.448980  0.431395  1.000000    MALE        TOWN     YES  YES           NO   \n",
       "2  0.673469  0.198933  0.000000  FEMALE  INNER_CITY     YES  YES          YES   \n",
       "3  0.102041  0.264320  1.000000  FEMALE        TOWN     YES   NO           NO   \n",
       "4  0.795918  0.783987  0.000000  FEMALE       RURAL     YES   NO          YES   \n",
       "5  0.795918  0.565343  0.666667  FEMALE        TOWN     YES   NO          YES   \n",
       "6  0.081633  0.066468  0.000000    MALE       RURAL      NO   NO           NO   \n",
       "7  0.816327  0.342977  0.000000    MALE        TOWN     YES  YES          YES   \n",
       "8  0.387755  0.349132  0.666667  FEMALE    SUBURBAN     YES  YES           NO   \n",
       "9  0.734694  0.330338  0.666667    MALE        TOWN     YES  YES          YES   \n",
       "\n",
       "  current_acct mortgage  pep  \n",
       "0           NO       NO  YES  \n",
       "1          YES      YES   NO  \n",
       "2          YES       NO   NO  \n",
       "3          YES       NO   NO  \n",
       "4           NO       NO   NO  \n",
       "5          YES       NO  YES  \n",
       "6          YES       NO  YES  \n",
       "7          YES       NO   NO  \n",
       "8           NO       NO   NO  \n",
       "9          YES       NO   NO  "
      ]
     },
     "execution_count": 37,
     "metadata": {},
     "output_type": "execute_result"
    }
   ],
   "source": [
    "bank_data.income=(bank_data.income - min(bank_data.income))/(max(bank_data.income)-min(bank_data.income))\n",
    "bank_data.age=(bank_data.age - min(bank_data.age))/(max(bank_data.age)-min(bank_data.age))\n",
    "bank_data.children=(bank_data.children - min(bank_data.children))/(max(bank_data.children)-min(bank_data.children))\n",
    "bank_data.head(10)\n"
   ]
  },
  {
   "cell_type": "markdown",
   "metadata": {},
   "source": [
    "## 6. Convert the table (after normalization in part 5) into the standard spreadsheet format. Note that this requires converting each categorical attribute into multiple binary (\"dummy\") attributes (one for each values of the categorical attribute) and assigning binary values corresponding to the presence or not presence of the attribute value in the original record). Then numeric attributes should remain unchanged. Save this new table into a file called bank_numeric.csv and submitit along with your assignment. [Hint: you might consider using the get_dummies for Pandas data frames.]"
   ]
  },
  {
   "cell_type": "code",
   "execution_count": 25,
   "metadata": {},
   "outputs": [
    {
     "data": {
      "text/html": [
       "<div>\n",
       "<style scoped>\n",
       "    .dataframe tbody tr th:only-of-type {\n",
       "        vertical-align: middle;\n",
       "    }\n",
       "\n",
       "    .dataframe tbody tr th {\n",
       "        vertical-align: top;\n",
       "    }\n",
       "\n",
       "    .dataframe thead th {\n",
       "        text-align: right;\n",
       "    }\n",
       "</style>\n",
       "<table border=\"1\" class=\"dataframe\">\n",
       "  <thead>\n",
       "    <tr style=\"text-align: right;\">\n",
       "      <th></th>\n",
       "      <th>age</th>\n",
       "      <th>income</th>\n",
       "      <th>children</th>\n",
       "      <th>gender_FEMALE</th>\n",
       "      <th>gender_MALE</th>\n",
       "      <th>region_INNER_CITY</th>\n",
       "      <th>region_RURAL</th>\n",
       "      <th>region_SUBURBAN</th>\n",
       "      <th>region_TOWN</th>\n",
       "      <th>married_NO</th>\n",
       "      <th>...</th>\n",
       "      <th>car_NO</th>\n",
       "      <th>car_YES</th>\n",
       "      <th>savings_acct_NO</th>\n",
       "      <th>savings_acct_YES</th>\n",
       "      <th>current_acct_NO</th>\n",
       "      <th>current_acct_YES</th>\n",
       "      <th>mortgage_NO</th>\n",
       "      <th>mortgage_YES</th>\n",
       "      <th>pep_NO</th>\n",
       "      <th>pep_YES</th>\n",
       "    </tr>\n",
       "  </thead>\n",
       "  <tbody>\n",
       "    <tr>\n",
       "      <th>0</th>\n",
       "      <td>48</td>\n",
       "      <td>17546.0</td>\n",
       "      <td>1</td>\n",
       "      <td>1</td>\n",
       "      <td>0</td>\n",
       "      <td>1</td>\n",
       "      <td>0</td>\n",
       "      <td>0</td>\n",
       "      <td>0</td>\n",
       "      <td>1</td>\n",
       "      <td>...</td>\n",
       "      <td>1</td>\n",
       "      <td>0</td>\n",
       "      <td>1</td>\n",
       "      <td>0</td>\n",
       "      <td>1</td>\n",
       "      <td>0</td>\n",
       "      <td>1</td>\n",
       "      <td>0</td>\n",
       "      <td>0</td>\n",
       "      <td>1</td>\n",
       "    </tr>\n",
       "    <tr>\n",
       "      <th>1</th>\n",
       "      <td>40</td>\n",
       "      <td>30085.1</td>\n",
       "      <td>3</td>\n",
       "      <td>0</td>\n",
       "      <td>1</td>\n",
       "      <td>0</td>\n",
       "      <td>0</td>\n",
       "      <td>0</td>\n",
       "      <td>1</td>\n",
       "      <td>0</td>\n",
       "      <td>...</td>\n",
       "      <td>0</td>\n",
       "      <td>1</td>\n",
       "      <td>1</td>\n",
       "      <td>0</td>\n",
       "      <td>0</td>\n",
       "      <td>1</td>\n",
       "      <td>0</td>\n",
       "      <td>1</td>\n",
       "      <td>1</td>\n",
       "      <td>0</td>\n",
       "    </tr>\n",
       "    <tr>\n",
       "      <th>2</th>\n",
       "      <td>51</td>\n",
       "      <td>16575.4</td>\n",
       "      <td>0</td>\n",
       "      <td>1</td>\n",
       "      <td>0</td>\n",
       "      <td>1</td>\n",
       "      <td>0</td>\n",
       "      <td>0</td>\n",
       "      <td>0</td>\n",
       "      <td>0</td>\n",
       "      <td>...</td>\n",
       "      <td>0</td>\n",
       "      <td>1</td>\n",
       "      <td>0</td>\n",
       "      <td>1</td>\n",
       "      <td>0</td>\n",
       "      <td>1</td>\n",
       "      <td>1</td>\n",
       "      <td>0</td>\n",
       "      <td>1</td>\n",
       "      <td>0</td>\n",
       "    </tr>\n",
       "    <tr>\n",
       "      <th>3</th>\n",
       "      <td>23</td>\n",
       "      <td>20375.4</td>\n",
       "      <td>3</td>\n",
       "      <td>1</td>\n",
       "      <td>0</td>\n",
       "      <td>0</td>\n",
       "      <td>0</td>\n",
       "      <td>0</td>\n",
       "      <td>1</td>\n",
       "      <td>0</td>\n",
       "      <td>...</td>\n",
       "      <td>1</td>\n",
       "      <td>0</td>\n",
       "      <td>1</td>\n",
       "      <td>0</td>\n",
       "      <td>0</td>\n",
       "      <td>1</td>\n",
       "      <td>1</td>\n",
       "      <td>0</td>\n",
       "      <td>1</td>\n",
       "      <td>0</td>\n",
       "    </tr>\n",
       "    <tr>\n",
       "      <th>4</th>\n",
       "      <td>57</td>\n",
       "      <td>50576.3</td>\n",
       "      <td>0</td>\n",
       "      <td>1</td>\n",
       "      <td>0</td>\n",
       "      <td>0</td>\n",
       "      <td>1</td>\n",
       "      <td>0</td>\n",
       "      <td>0</td>\n",
       "      <td>0</td>\n",
       "      <td>...</td>\n",
       "      <td>1</td>\n",
       "      <td>0</td>\n",
       "      <td>0</td>\n",
       "      <td>1</td>\n",
       "      <td>1</td>\n",
       "      <td>0</td>\n",
       "      <td>1</td>\n",
       "      <td>0</td>\n",
       "      <td>1</td>\n",
       "      <td>0</td>\n",
       "    </tr>\n",
       "  </tbody>\n",
       "</table>\n",
       "<p>5 rows × 21 columns</p>\n",
       "</div>"
      ],
      "text/plain": [
       "   age   income  children  gender_FEMALE  gender_MALE  region_INNER_CITY  \\\n",
       "0   48  17546.0         1              1            0                  1   \n",
       "1   40  30085.1         3              0            1                  0   \n",
       "2   51  16575.4         0              1            0                  1   \n",
       "3   23  20375.4         3              1            0                  0   \n",
       "4   57  50576.3         0              1            0                  0   \n",
       "\n",
       "   region_RURAL  region_SUBURBAN  region_TOWN  married_NO  ...  car_NO  \\\n",
       "0             0                0            0           1  ...       1   \n",
       "1             0                0            1           0  ...       0   \n",
       "2             0                0            0           0  ...       0   \n",
       "3             0                0            1           0  ...       1   \n",
       "4             1                0            0           0  ...       1   \n",
       "\n",
       "   car_YES  savings_acct_NO  savings_acct_YES  current_acct_NO  \\\n",
       "0        0                1                 0                1   \n",
       "1        1                1                 0                0   \n",
       "2        1                0                 1                0   \n",
       "3        0                1                 0                0   \n",
       "4        0                0                 1                1   \n",
       "\n",
       "   current_acct_YES  mortgage_NO  mortgage_YES  pep_NO  pep_YES  \n",
       "0                 0            1             0       0        1  \n",
       "1                 1            0             1       1        0  \n",
       "2                 1            1             0       1        0  \n",
       "3                 1            1             0       1        0  \n",
       "4                 0            1             0       1        0  \n",
       "\n",
       "[5 rows x 21 columns]"
      ]
     },
     "execution_count": 25,
     "metadata": {},
     "output_type": "execute_result"
    }
   ],
   "source": [
    "bank_numeric = pd.get_dummies(bank_data)\n",
    "bank_numeric.head(n=5)"
   ]
  },
  {
   "cell_type": "code",
   "execution_count": 27,
   "metadata": {},
   "outputs": [],
   "source": [
    "# save csv file\n",
    "bank_numeric.to_csv('bank_numeric.csv')"
   ]
  },
  {
   "cell_type": "markdown",
   "metadata": {},
   "source": [
    "## 7. Using the standardized data set (of the previous part), perform basic correlation analysis among the attributes. Discuss your results by indicating any significant positive or negative correlations among pairs of attributes. You need to construct a complete Correlation Matrix. Be sure to first remove the Customer ID column before creating the correlation matrix. [Hint: you can do this by using the corr() function in Pandas or corrcoef function in NumPy]"
   ]
  },
  {
   "cell_type": "code",
   "execution_count": 28,
   "metadata": {},
   "outputs": [
    {
     "data": {
      "text/html": [
       "<div>\n",
       "<style scoped>\n",
       "    .dataframe tbody tr th:only-of-type {\n",
       "        vertical-align: middle;\n",
       "    }\n",
       "\n",
       "    .dataframe tbody tr th {\n",
       "        vertical-align: top;\n",
       "    }\n",
       "\n",
       "    .dataframe thead th {\n",
       "        text-align: right;\n",
       "    }\n",
       "</style>\n",
       "<table border=\"1\" class=\"dataframe\">\n",
       "  <thead>\n",
       "    <tr style=\"text-align: right;\">\n",
       "      <th></th>\n",
       "      <th>age</th>\n",
       "      <th>income</th>\n",
       "      <th>children</th>\n",
       "      <th>gender_FEMALE</th>\n",
       "      <th>gender_MALE</th>\n",
       "      <th>region_INNER_CITY</th>\n",
       "      <th>region_RURAL</th>\n",
       "      <th>region_SUBURBAN</th>\n",
       "      <th>region_TOWN</th>\n",
       "      <th>married_NO</th>\n",
       "      <th>...</th>\n",
       "      <th>car_NO</th>\n",
       "      <th>car_YES</th>\n",
       "      <th>savings_acct_NO</th>\n",
       "      <th>savings_acct_YES</th>\n",
       "      <th>current_acct_NO</th>\n",
       "      <th>current_acct_YES</th>\n",
       "      <th>mortgage_NO</th>\n",
       "      <th>mortgage_YES</th>\n",
       "      <th>pep_NO</th>\n",
       "      <th>pep_YES</th>\n",
       "    </tr>\n",
       "  </thead>\n",
       "  <tbody>\n",
       "    <tr>\n",
       "      <th>age</th>\n",
       "      <td>1.000000</td>\n",
       "      <td>0.752726</td>\n",
       "      <td>0.023572</td>\n",
       "      <td>0.090081</td>\n",
       "      <td>-0.090081</td>\n",
       "      <td>-0.025171</td>\n",
       "      <td>0.018635</td>\n",
       "      <td>0.031345</td>\n",
       "      <td>-0.008510</td>\n",
       "      <td>-0.010394</td>\n",
       "      <td>...</td>\n",
       "      <td>-0.077733</td>\n",
       "      <td>0.077733</td>\n",
       "      <td>-0.184389</td>\n",
       "      <td>0.184389</td>\n",
       "      <td>0.035312</td>\n",
       "      <td>-0.035312</td>\n",
       "      <td>0.016154</td>\n",
       "      <td>-0.016154</td>\n",
       "      <td>-0.173825</td>\n",
       "      <td>0.173825</td>\n",
       "    </tr>\n",
       "    <tr>\n",
       "      <th>income</th>\n",
       "      <td>0.752726</td>\n",
       "      <td>1.000000</td>\n",
       "      <td>0.036761</td>\n",
       "      <td>0.023845</td>\n",
       "      <td>-0.023845</td>\n",
       "      <td>-0.047564</td>\n",
       "      <td>0.084776</td>\n",
       "      <td>0.029824</td>\n",
       "      <td>-0.036431</td>\n",
       "      <td>0.008386</td>\n",
       "      <td>...</td>\n",
       "      <td>-0.081556</td>\n",
       "      <td>0.081556</td>\n",
       "      <td>-0.266164</td>\n",
       "      <td>0.266164</td>\n",
       "      <td>-0.031616</td>\n",
       "      <td>0.031616</td>\n",
       "      <td>0.014662</td>\n",
       "      <td>-0.014662</td>\n",
       "      <td>-0.221991</td>\n",
       "      <td>0.221991</td>\n",
       "    </tr>\n",
       "    <tr>\n",
       "      <th>children</th>\n",
       "      <td>0.023572</td>\n",
       "      <td>0.036761</td>\n",
       "      <td>1.000000</td>\n",
       "      <td>0.014206</td>\n",
       "      <td>-0.014206</td>\n",
       "      <td>-0.051222</td>\n",
       "      <td>0.089902</td>\n",
       "      <td>-0.014122</td>\n",
       "      <td>-0.007033</td>\n",
       "      <td>0.048716</td>\n",
       "      <td>...</td>\n",
       "      <td>-0.036455</td>\n",
       "      <td>0.036455</td>\n",
       "      <td>-0.041536</td>\n",
       "      <td>0.041536</td>\n",
       "      <td>-0.006238</td>\n",
       "      <td>0.006238</td>\n",
       "      <td>0.074339</td>\n",
       "      <td>-0.074339</td>\n",
       "      <td>0.057663</td>\n",
       "      <td>-0.057663</td>\n",
       "    </tr>\n",
       "    <tr>\n",
       "      <th>gender_FEMALE</th>\n",
       "      <td>0.090081</td>\n",
       "      <td>0.023845</td>\n",
       "      <td>0.014206</td>\n",
       "      <td>1.000000</td>\n",
       "      <td>-1.000000</td>\n",
       "      <td>-0.023459</td>\n",
       "      <td>-0.009092</td>\n",
       "      <td>-0.010951</td>\n",
       "      <td>0.040472</td>\n",
       "      <td>0.021110</td>\n",
       "      <td>...</td>\n",
       "      <td>0.006667</td>\n",
       "      <td>-0.006667</td>\n",
       "      <td>0.007207</td>\n",
       "      <td>-0.007207</td>\n",
       "      <td>-0.019466</td>\n",
       "      <td>0.019466</td>\n",
       "      <td>0.066465</td>\n",
       "      <td>-0.066465</td>\n",
       "      <td>0.046843</td>\n",
       "      <td>-0.046843</td>\n",
       "    </tr>\n",
       "    <tr>\n",
       "      <th>gender_MALE</th>\n",
       "      <td>-0.090081</td>\n",
       "      <td>-0.023845</td>\n",
       "      <td>-0.014206</td>\n",
       "      <td>-1.000000</td>\n",
       "      <td>1.000000</td>\n",
       "      <td>0.023459</td>\n",
       "      <td>0.009092</td>\n",
       "      <td>0.010951</td>\n",
       "      <td>-0.040472</td>\n",
       "      <td>-0.021110</td>\n",
       "      <td>...</td>\n",
       "      <td>-0.006667</td>\n",
       "      <td>0.006667</td>\n",
       "      <td>-0.007207</td>\n",
       "      <td>0.007207</td>\n",
       "      <td>0.019466</td>\n",
       "      <td>-0.019466</td>\n",
       "      <td>-0.066465</td>\n",
       "      <td>0.066465</td>\n",
       "      <td>-0.046843</td>\n",
       "      <td>0.046843</td>\n",
       "    </tr>\n",
       "    <tr>\n",
       "      <th>region_INNER_CITY</th>\n",
       "      <td>-0.025171</td>\n",
       "      <td>-0.047564</td>\n",
       "      <td>-0.051222</td>\n",
       "      <td>-0.023459</td>\n",
       "      <td>0.023459</td>\n",
       "      <td>1.000000</td>\n",
       "      <td>-0.393444</td>\n",
       "      <td>-0.306032</td>\n",
       "      <td>-0.573814</td>\n",
       "      <td>-0.003254</td>\n",
       "      <td>...</td>\n",
       "      <td>0.018143</td>\n",
       "      <td>-0.018143</td>\n",
       "      <td>0.091373</td>\n",
       "      <td>-0.091373</td>\n",
       "      <td>-0.007894</td>\n",
       "      <td>0.007894</td>\n",
       "      <td>-0.002098</td>\n",
       "      <td>0.002098</td>\n",
       "      <td>-0.001054</td>\n",
       "      <td>0.001054</td>\n",
       "    </tr>\n",
       "    <tr>\n",
       "      <th>region_RURAL</th>\n",
       "      <td>0.018635</td>\n",
       "      <td>0.084776</td>\n",
       "      <td>0.089902</td>\n",
       "      <td>-0.009092</td>\n",
       "      <td>0.009092</td>\n",
       "      <td>-0.393444</td>\n",
       "      <td>1.000000</td>\n",
       "      <td>-0.148158</td>\n",
       "      <td>-0.277798</td>\n",
       "      <td>0.022649</td>\n",
       "      <td>...</td>\n",
       "      <td>-0.024006</td>\n",
       "      <td>0.024006</td>\n",
       "      <td>-0.036960</td>\n",
       "      <td>0.036960</td>\n",
       "      <td>0.008496</td>\n",
       "      <td>-0.008496</td>\n",
       "      <td>0.051908</td>\n",
       "      <td>-0.051908</td>\n",
       "      <td>-0.019714</td>\n",
       "      <td>0.019714</td>\n",
       "    </tr>\n",
       "    <tr>\n",
       "      <th>region_SUBURBAN</th>\n",
       "      <td>0.031345</td>\n",
       "      <td>0.029824</td>\n",
       "      <td>-0.014122</td>\n",
       "      <td>-0.010951</td>\n",
       "      <td>0.010951</td>\n",
       "      <td>-0.306032</td>\n",
       "      <td>-0.148158</td>\n",
       "      <td>1.000000</td>\n",
       "      <td>-0.216080</td>\n",
       "      <td>-0.012483</td>\n",
       "      <td>...</td>\n",
       "      <td>0.061184</td>\n",
       "      <td>-0.061184</td>\n",
       "      <td>-0.002605</td>\n",
       "      <td>0.002605</td>\n",
       "      <td>-0.038157</td>\n",
       "      <td>0.038157</td>\n",
       "      <td>-0.004635</td>\n",
       "      <td>0.004635</td>\n",
       "      <td>-0.062508</td>\n",
       "      <td>0.062508</td>\n",
       "    </tr>\n",
       "    <tr>\n",
       "      <th>region_TOWN</th>\n",
       "      <td>-0.008510</td>\n",
       "      <td>-0.036431</td>\n",
       "      <td>-0.007033</td>\n",
       "      <td>0.040472</td>\n",
       "      <td>-0.040472</td>\n",
       "      <td>-0.573814</td>\n",
       "      <td>-0.277798</td>\n",
       "      <td>-0.216080</td>\n",
       "      <td>1.000000</td>\n",
       "      <td>-0.006369</td>\n",
       "      <td>...</td>\n",
       "      <td>-0.041604</td>\n",
       "      <td>0.041604</td>\n",
       "      <td>-0.068654</td>\n",
       "      <td>0.068654</td>\n",
       "      <td>0.027431</td>\n",
       "      <td>-0.027431</td>\n",
       "      <td>-0.036591</td>\n",
       "      <td>0.036591</td>\n",
       "      <td>0.059115</td>\n",
       "      <td>-0.059115</td>\n",
       "    </tr>\n",
       "    <tr>\n",
       "      <th>married_NO</th>\n",
       "      <td>-0.010394</td>\n",
       "      <td>0.008386</td>\n",
       "      <td>0.048716</td>\n",
       "      <td>0.021110</td>\n",
       "      <td>-0.021110</td>\n",
       "      <td>-0.003254</td>\n",
       "      <td>0.022649</td>\n",
       "      <td>-0.012483</td>\n",
       "      <td>-0.006369</td>\n",
       "      <td>1.000000</td>\n",
       "      <td>...</td>\n",
       "      <td>-0.009571</td>\n",
       "      <td>0.009571</td>\n",
       "      <td>0.028604</td>\n",
       "      <td>-0.028604</td>\n",
       "      <td>-0.059996</td>\n",
       "      <td>0.059996</td>\n",
       "      <td>-0.021711</td>\n",
       "      <td>0.021711</td>\n",
       "      <td>-0.189578</td>\n",
       "      <td>0.189578</td>\n",
       "    </tr>\n",
       "    <tr>\n",
       "      <th>married_YES</th>\n",
       "      <td>0.010394</td>\n",
       "      <td>-0.008386</td>\n",
       "      <td>-0.048716</td>\n",
       "      <td>-0.021110</td>\n",
       "      <td>0.021110</td>\n",
       "      <td>0.003254</td>\n",
       "      <td>-0.022649</td>\n",
       "      <td>0.012483</td>\n",
       "      <td>0.006369</td>\n",
       "      <td>-1.000000</td>\n",
       "      <td>...</td>\n",
       "      <td>0.009571</td>\n",
       "      <td>-0.009571</td>\n",
       "      <td>-0.028604</td>\n",
       "      <td>0.028604</td>\n",
       "      <td>0.059996</td>\n",
       "      <td>-0.059996</td>\n",
       "      <td>0.021711</td>\n",
       "      <td>-0.021711</td>\n",
       "      <td>0.189578</td>\n",
       "      <td>-0.189578</td>\n",
       "    </tr>\n",
       "    <tr>\n",
       "      <th>car_NO</th>\n",
       "      <td>-0.077733</td>\n",
       "      <td>-0.081556</td>\n",
       "      <td>-0.036455</td>\n",
       "      <td>0.006667</td>\n",
       "      <td>-0.006667</td>\n",
       "      <td>0.018143</td>\n",
       "      <td>-0.024006</td>\n",
       "      <td>0.061184</td>\n",
       "      <td>-0.041604</td>\n",
       "      <td>-0.009571</td>\n",
       "      <td>...</td>\n",
       "      <td>1.000000</td>\n",
       "      <td>-1.000000</td>\n",
       "      <td>0.034310</td>\n",
       "      <td>-0.034310</td>\n",
       "      <td>-0.034783</td>\n",
       "      <td>0.034783</td>\n",
       "      <td>-0.007743</td>\n",
       "      <td>0.007743</td>\n",
       "      <td>0.018917</td>\n",
       "      <td>-0.018917</td>\n",
       "    </tr>\n",
       "    <tr>\n",
       "      <th>car_YES</th>\n",
       "      <td>0.077733</td>\n",
       "      <td>0.081556</td>\n",
       "      <td>0.036455</td>\n",
       "      <td>-0.006667</td>\n",
       "      <td>0.006667</td>\n",
       "      <td>-0.018143</td>\n",
       "      <td>0.024006</td>\n",
       "      <td>-0.061184</td>\n",
       "      <td>0.041604</td>\n",
       "      <td>0.009571</td>\n",
       "      <td>...</td>\n",
       "      <td>-1.000000</td>\n",
       "      <td>1.000000</td>\n",
       "      <td>-0.034310</td>\n",
       "      <td>0.034310</td>\n",
       "      <td>0.034783</td>\n",
       "      <td>-0.034783</td>\n",
       "      <td>0.007743</td>\n",
       "      <td>-0.007743</td>\n",
       "      <td>-0.018917</td>\n",
       "      <td>0.018917</td>\n",
       "    </tr>\n",
       "    <tr>\n",
       "      <th>savings_acct_NO</th>\n",
       "      <td>-0.184389</td>\n",
       "      <td>-0.266164</td>\n",
       "      <td>-0.041536</td>\n",
       "      <td>0.007207</td>\n",
       "      <td>-0.007207</td>\n",
       "      <td>0.091373</td>\n",
       "      <td>-0.036960</td>\n",
       "      <td>-0.002605</td>\n",
       "      <td>-0.068654</td>\n",
       "      <td>0.028604</td>\n",
       "      <td>...</td>\n",
       "      <td>0.034310</td>\n",
       "      <td>-0.034310</td>\n",
       "      <td>1.000000</td>\n",
       "      <td>-1.000000</td>\n",
       "      <td>0.042511</td>\n",
       "      <td>-0.042511</td>\n",
       "      <td>-0.001588</td>\n",
       "      <td>0.001588</td>\n",
       "      <td>-0.072779</td>\n",
       "      <td>0.072779</td>\n",
       "    </tr>\n",
       "    <tr>\n",
       "      <th>savings_acct_YES</th>\n",
       "      <td>0.184389</td>\n",
       "      <td>0.266164</td>\n",
       "      <td>0.041536</td>\n",
       "      <td>-0.007207</td>\n",
       "      <td>0.007207</td>\n",
       "      <td>-0.091373</td>\n",
       "      <td>0.036960</td>\n",
       "      <td>0.002605</td>\n",
       "      <td>0.068654</td>\n",
       "      <td>-0.028604</td>\n",
       "      <td>...</td>\n",
       "      <td>-0.034310</td>\n",
       "      <td>0.034310</td>\n",
       "      <td>-1.000000</td>\n",
       "      <td>1.000000</td>\n",
       "      <td>-0.042511</td>\n",
       "      <td>0.042511</td>\n",
       "      <td>0.001588</td>\n",
       "      <td>-0.001588</td>\n",
       "      <td>0.072779</td>\n",
       "      <td>-0.072779</td>\n",
       "    </tr>\n",
       "    <tr>\n",
       "      <th>current_acct_NO</th>\n",
       "      <td>0.035312</td>\n",
       "      <td>-0.031616</td>\n",
       "      <td>-0.006238</td>\n",
       "      <td>-0.019466</td>\n",
       "      <td>0.019466</td>\n",
       "      <td>-0.007894</td>\n",
       "      <td>0.008496</td>\n",
       "      <td>-0.038157</td>\n",
       "      <td>0.027431</td>\n",
       "      <td>-0.059996</td>\n",
       "      <td>...</td>\n",
       "      <td>-0.034783</td>\n",
       "      <td>0.034783</td>\n",
       "      <td>0.042511</td>\n",
       "      <td>-0.042511</td>\n",
       "      <td>1.000000</td>\n",
       "      <td>-1.000000</td>\n",
       "      <td>-0.036704</td>\n",
       "      <td>0.036704</td>\n",
       "      <td>0.025141</td>\n",
       "      <td>-0.025141</td>\n",
       "    </tr>\n",
       "    <tr>\n",
       "      <th>current_acct_YES</th>\n",
       "      <td>-0.035312</td>\n",
       "      <td>0.031616</td>\n",
       "      <td>0.006238</td>\n",
       "      <td>0.019466</td>\n",
       "      <td>-0.019466</td>\n",
       "      <td>0.007894</td>\n",
       "      <td>-0.008496</td>\n",
       "      <td>0.038157</td>\n",
       "      <td>-0.027431</td>\n",
       "      <td>0.059996</td>\n",
       "      <td>...</td>\n",
       "      <td>0.034783</td>\n",
       "      <td>-0.034783</td>\n",
       "      <td>-0.042511</td>\n",
       "      <td>0.042511</td>\n",
       "      <td>-1.000000</td>\n",
       "      <td>1.000000</td>\n",
       "      <td>0.036704</td>\n",
       "      <td>-0.036704</td>\n",
       "      <td>-0.025141</td>\n",
       "      <td>0.025141</td>\n",
       "    </tr>\n",
       "    <tr>\n",
       "      <th>mortgage_NO</th>\n",
       "      <td>0.016154</td>\n",
       "      <td>0.014662</td>\n",
       "      <td>0.074339</td>\n",
       "      <td>0.066465</td>\n",
       "      <td>-0.066465</td>\n",
       "      <td>-0.002098</td>\n",
       "      <td>0.051908</td>\n",
       "      <td>-0.004635</td>\n",
       "      <td>-0.036591</td>\n",
       "      <td>-0.021711</td>\n",
       "      <td>...</td>\n",
       "      <td>-0.007743</td>\n",
       "      <td>0.007743</td>\n",
       "      <td>-0.001588</td>\n",
       "      <td>0.001588</td>\n",
       "      <td>-0.036704</td>\n",
       "      <td>0.036704</td>\n",
       "      <td>1.000000</td>\n",
       "      <td>-1.000000</td>\n",
       "      <td>-0.024182</td>\n",
       "      <td>0.024182</td>\n",
       "    </tr>\n",
       "    <tr>\n",
       "      <th>mortgage_YES</th>\n",
       "      <td>-0.016154</td>\n",
       "      <td>-0.014662</td>\n",
       "      <td>-0.074339</td>\n",
       "      <td>-0.066465</td>\n",
       "      <td>0.066465</td>\n",
       "      <td>0.002098</td>\n",
       "      <td>-0.051908</td>\n",
       "      <td>0.004635</td>\n",
       "      <td>0.036591</td>\n",
       "      <td>0.021711</td>\n",
       "      <td>...</td>\n",
       "      <td>0.007743</td>\n",
       "      <td>-0.007743</td>\n",
       "      <td>0.001588</td>\n",
       "      <td>-0.001588</td>\n",
       "      <td>0.036704</td>\n",
       "      <td>-0.036704</td>\n",
       "      <td>-1.000000</td>\n",
       "      <td>1.000000</td>\n",
       "      <td>0.024182</td>\n",
       "      <td>-0.024182</td>\n",
       "    </tr>\n",
       "    <tr>\n",
       "      <th>pep_NO</th>\n",
       "      <td>-0.173825</td>\n",
       "      <td>-0.221991</td>\n",
       "      <td>0.057663</td>\n",
       "      <td>0.046843</td>\n",
       "      <td>-0.046843</td>\n",
       "      <td>-0.001054</td>\n",
       "      <td>-0.019714</td>\n",
       "      <td>-0.062508</td>\n",
       "      <td>0.059115</td>\n",
       "      <td>-0.189578</td>\n",
       "      <td>...</td>\n",
       "      <td>0.018917</td>\n",
       "      <td>-0.018917</td>\n",
       "      <td>-0.072779</td>\n",
       "      <td>0.072779</td>\n",
       "      <td>0.025141</td>\n",
       "      <td>-0.025141</td>\n",
       "      <td>-0.024182</td>\n",
       "      <td>0.024182</td>\n",
       "      <td>1.000000</td>\n",
       "      <td>-1.000000</td>\n",
       "    </tr>\n",
       "    <tr>\n",
       "      <th>pep_YES</th>\n",
       "      <td>0.173825</td>\n",
       "      <td>0.221991</td>\n",
       "      <td>-0.057663</td>\n",
       "      <td>-0.046843</td>\n",
       "      <td>0.046843</td>\n",
       "      <td>0.001054</td>\n",
       "      <td>0.019714</td>\n",
       "      <td>0.062508</td>\n",
       "      <td>-0.059115</td>\n",
       "      <td>0.189578</td>\n",
       "      <td>...</td>\n",
       "      <td>-0.018917</td>\n",
       "      <td>0.018917</td>\n",
       "      <td>0.072779</td>\n",
       "      <td>-0.072779</td>\n",
       "      <td>-0.025141</td>\n",
       "      <td>0.025141</td>\n",
       "      <td>0.024182</td>\n",
       "      <td>-0.024182</td>\n",
       "      <td>-1.000000</td>\n",
       "      <td>1.000000</td>\n",
       "    </tr>\n",
       "  </tbody>\n",
       "</table>\n",
       "<p>21 rows × 21 columns</p>\n",
       "</div>"
      ],
      "text/plain": [
       "                        age    income  children  gender_FEMALE  gender_MALE  \\\n",
       "age                1.000000  0.752726  0.023572       0.090081    -0.090081   \n",
       "income             0.752726  1.000000  0.036761       0.023845    -0.023845   \n",
       "children           0.023572  0.036761  1.000000       0.014206    -0.014206   \n",
       "gender_FEMALE      0.090081  0.023845  0.014206       1.000000    -1.000000   \n",
       "gender_MALE       -0.090081 -0.023845 -0.014206      -1.000000     1.000000   \n",
       "region_INNER_CITY -0.025171 -0.047564 -0.051222      -0.023459     0.023459   \n",
       "region_RURAL       0.018635  0.084776  0.089902      -0.009092     0.009092   \n",
       "region_SUBURBAN    0.031345  0.029824 -0.014122      -0.010951     0.010951   \n",
       "region_TOWN       -0.008510 -0.036431 -0.007033       0.040472    -0.040472   \n",
       "married_NO        -0.010394  0.008386  0.048716       0.021110    -0.021110   \n",
       "married_YES        0.010394 -0.008386 -0.048716      -0.021110     0.021110   \n",
       "car_NO            -0.077733 -0.081556 -0.036455       0.006667    -0.006667   \n",
       "car_YES            0.077733  0.081556  0.036455      -0.006667     0.006667   \n",
       "savings_acct_NO   -0.184389 -0.266164 -0.041536       0.007207    -0.007207   \n",
       "savings_acct_YES   0.184389  0.266164  0.041536      -0.007207     0.007207   \n",
       "current_acct_NO    0.035312 -0.031616 -0.006238      -0.019466     0.019466   \n",
       "current_acct_YES  -0.035312  0.031616  0.006238       0.019466    -0.019466   \n",
       "mortgage_NO        0.016154  0.014662  0.074339       0.066465    -0.066465   \n",
       "mortgage_YES      -0.016154 -0.014662 -0.074339      -0.066465     0.066465   \n",
       "pep_NO            -0.173825 -0.221991  0.057663       0.046843    -0.046843   \n",
       "pep_YES            0.173825  0.221991 -0.057663      -0.046843     0.046843   \n",
       "\n",
       "                   region_INNER_CITY  region_RURAL  region_SUBURBAN  \\\n",
       "age                        -0.025171      0.018635         0.031345   \n",
       "income                     -0.047564      0.084776         0.029824   \n",
       "children                   -0.051222      0.089902        -0.014122   \n",
       "gender_FEMALE              -0.023459     -0.009092        -0.010951   \n",
       "gender_MALE                 0.023459      0.009092         0.010951   \n",
       "region_INNER_CITY           1.000000     -0.393444        -0.306032   \n",
       "region_RURAL               -0.393444      1.000000        -0.148158   \n",
       "region_SUBURBAN            -0.306032     -0.148158         1.000000   \n",
       "region_TOWN                -0.573814     -0.277798        -0.216080   \n",
       "married_NO                 -0.003254      0.022649        -0.012483   \n",
       "married_YES                 0.003254     -0.022649         0.012483   \n",
       "car_NO                      0.018143     -0.024006         0.061184   \n",
       "car_YES                    -0.018143      0.024006        -0.061184   \n",
       "savings_acct_NO             0.091373     -0.036960        -0.002605   \n",
       "savings_acct_YES           -0.091373      0.036960         0.002605   \n",
       "current_acct_NO            -0.007894      0.008496        -0.038157   \n",
       "current_acct_YES            0.007894     -0.008496         0.038157   \n",
       "mortgage_NO                -0.002098      0.051908        -0.004635   \n",
       "mortgage_YES                0.002098     -0.051908         0.004635   \n",
       "pep_NO                     -0.001054     -0.019714        -0.062508   \n",
       "pep_YES                     0.001054      0.019714         0.062508   \n",
       "\n",
       "                   region_TOWN  married_NO  ...    car_NO   car_YES  \\\n",
       "age                  -0.008510   -0.010394  ... -0.077733  0.077733   \n",
       "income               -0.036431    0.008386  ... -0.081556  0.081556   \n",
       "children             -0.007033    0.048716  ... -0.036455  0.036455   \n",
       "gender_FEMALE         0.040472    0.021110  ...  0.006667 -0.006667   \n",
       "gender_MALE          -0.040472   -0.021110  ... -0.006667  0.006667   \n",
       "region_INNER_CITY    -0.573814   -0.003254  ...  0.018143 -0.018143   \n",
       "region_RURAL         -0.277798    0.022649  ... -0.024006  0.024006   \n",
       "region_SUBURBAN      -0.216080   -0.012483  ...  0.061184 -0.061184   \n",
       "region_TOWN           1.000000   -0.006369  ... -0.041604  0.041604   \n",
       "married_NO           -0.006369    1.000000  ... -0.009571  0.009571   \n",
       "married_YES           0.006369   -1.000000  ...  0.009571 -0.009571   \n",
       "car_NO               -0.041604   -0.009571  ...  1.000000 -1.000000   \n",
       "car_YES               0.041604    0.009571  ... -1.000000  1.000000   \n",
       "savings_acct_NO      -0.068654    0.028604  ...  0.034310 -0.034310   \n",
       "savings_acct_YES      0.068654   -0.028604  ... -0.034310  0.034310   \n",
       "current_acct_NO       0.027431   -0.059996  ... -0.034783  0.034783   \n",
       "current_acct_YES     -0.027431    0.059996  ...  0.034783 -0.034783   \n",
       "mortgage_NO          -0.036591   -0.021711  ... -0.007743  0.007743   \n",
       "mortgage_YES          0.036591    0.021711  ...  0.007743 -0.007743   \n",
       "pep_NO                0.059115   -0.189578  ...  0.018917 -0.018917   \n",
       "pep_YES              -0.059115    0.189578  ... -0.018917  0.018917   \n",
       "\n",
       "                   savings_acct_NO  savings_acct_YES  current_acct_NO  \\\n",
       "age                      -0.184389          0.184389         0.035312   \n",
       "income                   -0.266164          0.266164        -0.031616   \n",
       "children                 -0.041536          0.041536        -0.006238   \n",
       "gender_FEMALE             0.007207         -0.007207        -0.019466   \n",
       "gender_MALE              -0.007207          0.007207         0.019466   \n",
       "region_INNER_CITY         0.091373         -0.091373        -0.007894   \n",
       "region_RURAL             -0.036960          0.036960         0.008496   \n",
       "region_SUBURBAN          -0.002605          0.002605        -0.038157   \n",
       "region_TOWN              -0.068654          0.068654         0.027431   \n",
       "married_NO                0.028604         -0.028604        -0.059996   \n",
       "married_YES              -0.028604          0.028604         0.059996   \n",
       "car_NO                    0.034310         -0.034310        -0.034783   \n",
       "car_YES                  -0.034310          0.034310         0.034783   \n",
       "savings_acct_NO           1.000000         -1.000000         0.042511   \n",
       "savings_acct_YES         -1.000000          1.000000        -0.042511   \n",
       "current_acct_NO           0.042511         -0.042511         1.000000   \n",
       "current_acct_YES         -0.042511          0.042511        -1.000000   \n",
       "mortgage_NO              -0.001588          0.001588        -0.036704   \n",
       "mortgage_YES              0.001588         -0.001588         0.036704   \n",
       "pep_NO                   -0.072779          0.072779         0.025141   \n",
       "pep_YES                   0.072779         -0.072779        -0.025141   \n",
       "\n",
       "                   current_acct_YES  mortgage_NO  mortgage_YES    pep_NO  \\\n",
       "age                       -0.035312     0.016154     -0.016154 -0.173825   \n",
       "income                     0.031616     0.014662     -0.014662 -0.221991   \n",
       "children                   0.006238     0.074339     -0.074339  0.057663   \n",
       "gender_FEMALE              0.019466     0.066465     -0.066465  0.046843   \n",
       "gender_MALE               -0.019466    -0.066465      0.066465 -0.046843   \n",
       "region_INNER_CITY          0.007894    -0.002098      0.002098 -0.001054   \n",
       "region_RURAL              -0.008496     0.051908     -0.051908 -0.019714   \n",
       "region_SUBURBAN            0.038157    -0.004635      0.004635 -0.062508   \n",
       "region_TOWN               -0.027431    -0.036591      0.036591  0.059115   \n",
       "married_NO                 0.059996    -0.021711      0.021711 -0.189578   \n",
       "married_YES               -0.059996     0.021711     -0.021711  0.189578   \n",
       "car_NO                     0.034783    -0.007743      0.007743  0.018917   \n",
       "car_YES                   -0.034783     0.007743     -0.007743 -0.018917   \n",
       "savings_acct_NO           -0.042511    -0.001588      0.001588 -0.072779   \n",
       "savings_acct_YES           0.042511     0.001588     -0.001588  0.072779   \n",
       "current_acct_NO           -1.000000    -0.036704      0.036704  0.025141   \n",
       "current_acct_YES           1.000000     0.036704     -0.036704 -0.025141   \n",
       "mortgage_NO                0.036704     1.000000     -1.000000 -0.024182   \n",
       "mortgage_YES              -0.036704    -1.000000      1.000000  0.024182   \n",
       "pep_NO                    -0.025141    -0.024182      0.024182  1.000000   \n",
       "pep_YES                    0.025141     0.024182     -0.024182 -1.000000   \n",
       "\n",
       "                    pep_YES  \n",
       "age                0.173825  \n",
       "income             0.221991  \n",
       "children          -0.057663  \n",
       "gender_FEMALE     -0.046843  \n",
       "gender_MALE        0.046843  \n",
       "region_INNER_CITY  0.001054  \n",
       "region_RURAL       0.019714  \n",
       "region_SUBURBAN    0.062508  \n",
       "region_TOWN       -0.059115  \n",
       "married_NO         0.189578  \n",
       "married_YES       -0.189578  \n",
       "car_NO            -0.018917  \n",
       "car_YES            0.018917  \n",
       "savings_acct_NO    0.072779  \n",
       "savings_acct_YES  -0.072779  \n",
       "current_acct_NO   -0.025141  \n",
       "current_acct_YES   0.025141  \n",
       "mortgage_NO        0.024182  \n",
       "mortgage_YES      -0.024182  \n",
       "pep_NO            -1.000000  \n",
       "pep_YES            1.000000  \n",
       "\n",
       "[21 rows x 21 columns]"
      ]
     },
     "execution_count": 28,
     "metadata": {},
     "output_type": "execute_result"
    }
   ],
   "source": [
    "bank_numeric.corr()"
   ]
  },
  {
   "cell_type": "markdown",
   "metadata": {},
   "source": [
    "## 8. Using Matplotlib library and/or ploting capabilties of Pandas, create a scatter plot of the (non-normalized) Income attribute relative to Age. Be sure that your plot contains appropriate labels for the axes. Do these variables seem correlated?"
   ]
  },
  {
   "cell_type": "code",
   "execution_count": 30,
   "metadata": {},
   "outputs": [
    {
     "data": {
      "text/plain": [
       "<matplotlib.axes._subplots.AxesSubplot at 0x112ce655340>"
      ]
     },
     "execution_count": 30,
     "metadata": {},
     "output_type": "execute_result"
    },
    {
     "data": {
      "image/png": "[encoded data removed]",
      "text/plain": [
       "<Figure size 432x288 with 1 Axes>"
      ]
     },
     "metadata": {
      "needs_background": "light"
     },
     "output_type": "display_data"
    }
   ],
   "source": [
    "# read in the original file again to get the non-normalized data again\n",
    "bank_data.plot(x=\"income\", y=\"age\", kind=\"scatter\")"
   ]
  },
  {
   "cell_type": "markdown",
   "metadata": {},
   "source": [
    "## 9. Create histograms for (non-normalized) Income (using 9 bins) and Age (using 15 bins)."
   ]
  },
  {
   "cell_type": "code",
   "execution_count": 31,
   "metadata": {},
   "outputs": [
    {
     "data": {
      "text/plain": [
       "<matplotlib.axes._subplots.AxesSubplot at 0x112ce697760>"
      ]
     },
     "execution_count": 31,
     "metadata": {},
     "output_type": "execute_result"
    },
    {
     "data": {
      "image/png": "[encoded data removed]",
      "text/plain": [
       "<Figure size 432x288 with 1 Axes>"
      ]
     },
     "metadata": {
      "needs_background": "light"
     },
     "output_type": "display_data"
    }
   ],
   "source": [
    "bank_data[\"income\"].plot(kind=\"hist\", bins=9)\n"
   ]
  },
  {
   "cell_type": "code",
   "execution_count": 32,
   "metadata": {},
   "outputs": [
    {
     "data": {
      "text/plain": [
       "<matplotlib.axes._subplots.AxesSubplot at 0x112cf6d5be0>"
      ]
     },
     "execution_count": 32,
     "metadata": {},
     "output_type": "execute_result"
    },
    {
     "data": {
      "image/png": "[encoded data removed]",
      "text/plain": [
       "<Figure size 432x288 with 1 Axes>"
      ]
     },
     "metadata": {
      "needs_background": "light"
     },
     "output_type": "display_data"
    }
   ],
   "source": [
    "bank_data[\"age\"].plot(kind=\"hist\", bins=15)"
   ]
  },
  {
   "cell_type": "markdown",
   "metadata": {},
   "source": [
    "## 10. Using a bargraph, plot the distribution of the values of the region attribute."
   ]
  },
  {
   "cell_type": "code",
   "execution_count": 33,
   "metadata": {},
   "outputs": [
    {
     "data": {
      "text/plain": [
       "<matplotlib.axes._subplots.AxesSubplot at 0x112cf7334c0>"
      ]
     },
     "execution_count": 33,
     "metadata": {},
     "output_type": "execute_result"
    },
    {
     "data": {
      "image/png": "[encoded data removed]",
      "text/plain": [
       "<Figure size 432x288 with 1 Axes>"
      ]
     },
     "metadata": {
      "needs_background": "light"
     },
     "output_type": "display_data"
    }
   ],
   "source": [
    "bank_data['region'].value_counts().plot(kind='bar')"
   ]
  },
  {
   "cell_type": "markdown",
   "metadata": {},
   "source": [
    "## 11. Perform a cross-tabulation of the region attribute with the pep attribute. This requires the aggregation of the occurrences of each pep value (yes or no) separately for each value of the region attribute. Show the results as a 4 by 2 (region x pep) table with entries representing the counts. [Hint: you can either use Numpy or use aggregations fucntions in Pandas such as groupby() and cross-tab().] Then, either using Matplotlib directly or the plot() function in Pandas create a bar chart graph to visualize of the relationships between these sets of variables. [Hint: This example of creating simple bar charts using Matplotlib may be useful.]"
   ]
  },
  {
   "cell_type": "code",
   "execution_count": 34,
   "metadata": {},
   "outputs": [
    {
     "name": "stdout",
     "output_type": "stream",
     "text": [
      "pep          NO  YES\n",
      "region              \n",
      "INNER_CITY  146  123\n",
      "RURAL        50   46\n",
      "SUBURBAN     28   34\n",
      "TOWN        102   71\n"
     ]
    }
   ],
   "source": [
    "pr = pd.crosstab(bank_data.region, bank_data.pep) # region as rows, pep as columns\n",
    "print(pr)"
   ]
  },
  {
   "cell_type": "code",
   "execution_count": 35,
   "metadata": {},
   "outputs": [
    {
     "data": {
      "text/plain": [
       "<matplotlib.axes._subplots.AxesSubplot at 0x112cf797070>"
      ]
     },
     "execution_count": 35,
     "metadata": {},
     "output_type": "execute_result"
    },
    {
     "data": {
      "image/png": "[encoded data removed]",
      "text/plain": [
       "<Figure size 432x288 with 1 Axes>"
      ]
     },
     "metadata": {
      "needs_background": "light"
     },
     "output_type": "display_data"
    }
   ],
   "source": [
    "pr.plot(kind=\"bar\")"
   ]
  },
  {
   "cell_type": "code",
   "execution_count": null,
   "metadata": {},
   "outputs": [],
   "source": []
  }
 ],
 "metadata": {
  "kernelspec": {
   "display_name": "Python 3",
   "language": "python",
   "name": "python3"
  },
  "language_info": {
   "codemirror_mode": {
    "name": "ipython",
    "version": 3
   },
   "file_extension": ".py",
   "mimetype": "text/x-python",
   "name": "python",
   "nbconvert_exporter": "python",
   "pygments_lexer": "ipython3",
   "version": "3.8.3"
  }
 },
 "nbformat": 4,
 "nbformat_minor": 4
}