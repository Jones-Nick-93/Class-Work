{
 "cells": [
  {
   "cell_type": "code",
   "execution_count": 1,
   "metadata": {},
   "outputs": [],
   "source": [
    "# Import modules\n",
    "import numpy as np\n",
    "import pandas as pd\n",
    "import matplotlib.pyplot as plt\n",
    "%matplotlib inline\n",
    "import os \n",
    "\n",
    "from sklearn.model_selection import train_test_split\n",
    "from sklearn.metrics import completeness_score, homogeneity_score"
   ]
  },
  {
   "cell_type": "code",
   "execution_count": null,
   "metadata": {},
   "outputs": [],
   "source": [
    "#2A\n",
    "def cosSim(vecA, vecB):\n",
    "    #D_norm = array([linalg.norm(data[i]) for i in range(len(data))])\n",
    "    #x_norm = linalg.norm(inX)\n",
    "    #cosines = dot(data,inX)/(D_norm * x_norm)\n",
    "    #distances = 1 - cosines\n",
    "    \n",
    "    norm_A = linalg.norm(vecA)\n",
    "    norm_B = linalg.norm(vecB)\n",
    "    cosine = dot(vecA, vecB) / (norm_A * norm_B)\n",
    "    distance = 1 - cosine\n",
    "    return distance"
   ]
  },
  {
   "cell_type": "code",
   "execution_count": null,
   "metadata": {},
   "outputs": [],
   "source": [
    "#2B\n",
    "matrix = pd.DataFrame(np.genfromtxt(r\"C:\\Users\\Owner\\Documents\\DSC 478\\matrix.txt\", delimiter=',', dtype=int).T)\n",
    "classes = pd.DataFrame(np.genfromtxt(r\"C:\\Users\\Owner\\Documents\\DSC 478\\classes.txt\", delimiter=' ', dtype=int, skip_header=1))\n",
    "terms = np.array(pd.DataFrame(np.genfromtxt(r\"C:\\Users\\Owner\\Documents\\DSC 478\\terms.txt\", delimiter='\\t', dtype=str)))"
   ]
  },
  {
   "cell_type": "code",
   "execution_count": 4,
   "metadata": {},
   "outputs": [
    {
     "data": {
      "text/plain": [
       "(2500, 9328)"
      ]
     },
     "execution_count": 4,
     "metadata": {},
     "output_type": "execute_result"
    }
   ],
   "source": [
    "matrix.shape"
   ]
  },
  {
   "cell_type": "code",
   "execution_count": 5,
   "metadata": {},
   "outputs": [
    {
     "data": {
      "text/plain": [
       "(9328, 1)"
      ]
     },
     "execution_count": 5,
     "metadata": {},
     "output_type": "execute_result"
    }
   ],
   "source": [
    "terms.shape"
   ]
  },
  {
   "cell_type": "code",
   "execution_count": 6,
   "metadata": {},
   "outputs": [
    {
     "data": {
      "text/html": [
       "<div>\n",
       "<style scoped>\n",
       "    .dataframe tbody tr th:only-of-type {\n",
       "        vertical-align: middle;\n",
       "    }\n",
       "\n",
       "    .dataframe tbody tr th {\n",
       "        vertical-align: top;\n",
       "    }\n",
       "\n",
       "    .dataframe thead th {\n",
       "        text-align: right;\n",
       "    }\n",
       "</style>\n",
       "<table border=\"1\" class=\"dataframe\">\n",
       "  <thead>\n",
       "    <tr style=\"text-align: right;\">\n",
       "      <th></th>\n",
       "      <th>1</th>\n",
       "    </tr>\n",
       "  </thead>\n",
       "  <tbody>\n",
       "    <tr>\n",
       "      <th>0</th>\n",
       "      <td>0</td>\n",
       "    </tr>\n",
       "    <tr>\n",
       "      <th>1</th>\n",
       "      <td>1</td>\n",
       "    </tr>\n",
       "    <tr>\n",
       "      <th>2</th>\n",
       "      <td>1</td>\n",
       "    </tr>\n",
       "    <tr>\n",
       "      <th>3</th>\n",
       "      <td>1</td>\n",
       "    </tr>\n",
       "    <tr>\n",
       "      <th>4</th>\n",
       "      <td>2</td>\n",
       "    </tr>\n",
       "  </tbody>\n",
       "</table>\n",
       "</div>"
      ],
      "text/plain": [
       "   1\n",
       "0  0\n",
       "1  1\n",
       "2  1\n",
       "3  1\n",
       "4  2"
      ]
     },
     "execution_count": 6,
     "metadata": {},
     "output_type": "execute_result"
    }
   ],
   "source": [
    "classes = classes.drop(classes.columns[0], axis=1)\n",
    "classes.head()"
   ]
  },
  {
   "cell_type": "code",
   "execution_count": 5,
   "metadata": {},
   "outputs": [
    {
     "name": "stdout",
     "output_type": "stream",
     "text": [
      "(2000, 9328) (500, 9328) (2000, 2) (500, 2)\n"
     ]
    }
   ],
   "source": [
    "train, test, classes_train, classes_test = train_test_split(matrix, classes, test_size=0.2, random_state=33)\n",
    "print(train.shape, test.shape, classes_train.shape, classes_test.shape)"
   ]
  },
  {
   "cell_type": "code",
   "execution_count": 24,
   "metadata": {},
   "outputs": [
    {
     "name": "stderr",
     "output_type": "stream",
     "text": [
      "<ipython-input-24-6d75cd11c952>:16: RuntimeWarning: divide by zero encountered in true_divide\n",
      "  idf = np.log2(np.divide(newMatrix, df))\n"
     ]
    }
   ],
   "source": [
    "#2.c\n",
    "dt = train\n",
    "td = train.T\n",
    "\n",
    "dt_test = test\n",
    "td_test = test.T\n",
    "\n",
    "df = np.array([(td!=0).sum(1)]).T\n",
    "\n",
    "matrix_doc_number = dt.shape[0]\n",
    "matrix_term_number = dt.shape[1]\n",
    "term_freq = train.sum(axis = 1)\n",
    "\n",
    "newMatrix = np.ones(np.shape(td), dtype = float) * matrix_doc_number\n",
    "\n",
    "idf = np.log2(np.divide(newMatrix, df))\n",
    "\n",
    "td_tfidf_train = np.array(td * idf)\n",
    "td_tfidf_test = np.array(td_test * idf[:, :500])\n",
    "dt_tfidf_train = td_tfidf_train.T\n",
    "dt_tfidf_test = td_tfidf_test.T\n",
    "\n",
    "dt_tfidf_train[np.isnan(dt_tfidf_train)] = 0\n",
    "dt_tfidf_test[np.isnan(dt_tfidf_test)] = 0\n",
    "dt_tfidf_train[dt_tfidf_train == inf] = 0\n",
    "dt_tfidf_train[dt_tfidf_train == -inf] = 0\n",
    "dt_tfidf_test[dt_tfidf_test == inf] = 0\n",
    "dt_tfidf_test[dt_tfidf_test == -inf] = 0"
   ]
  },
  {
   "cell_type": "code",
   "execution_count": 18,
   "metadata": {},
   "outputs": [],
   "source": [
    "from numpy import *\n",
    "\n",
    "def distEuc(va, vb):\n",
    "    return sqrt(sum(power(va - vb, 2)))\n",
    "\n",
    "def randomCent(ds, k):\n",
    "    n = shape(ds)[1]\n",
    "    cent = zeros((k,n), dtype = float)\n",
    "    for j in range(n):\n",
    "        j_min = min(ds[:, j])\n",
    "        j_range = float(max(ds[:, j]) - j_min)\n",
    "        cent[:, j] = j_min + j_range * random.rand(k)    \n",
    "    return cent\n",
    "\n",
    "def kMeans(ds, k, distMeas = cosSim, createCent = randomCent):\n",
    "    m = shape(ds)[0]\n",
    "    cent = createCent(ds, k)\n",
    "    c_assment = zeros((m, 2))\n",
    "    c_changed = True\n",
    "    while c_changed:\n",
    "        c_changed = False\n",
    "        for i in range(m):\n",
    "            min_dist = inf \n",
    "            min_index = -1\n",
    "            for j in range(k):\n",
    "                ji_dist = distMeas(cent[j, :],ds[i, :])\n",
    "                if ji_dist < min_dist:\n",
    "                    min_dist = ji_dist \n",
    "                    min_index = j\n",
    "            if c_assment[i,0] != min_index: \n",
    "                c_changed = True\n",
    "            c_assment[i, :] = min_index, min_dist ** 2\n",
    "        for c in range(k):\n",
    "            pts = ds[nonzero(c_assment[:, 0] == c)[0]]\n",
    "            if(len(pts)!=0):\n",
    "                cent[c,:] = mean(pts, axis=0)\n",
    "    return cent, c_assment"
   ]
  },
  {
   "cell_type": "code",
   "execution_count": null,
   "metadata": {},
   "outputs": [],
   "source": [
    "def top_terms(data, K, numterms):\n",
    "    cent, c_assment = kMeans(mat(data), K, distMeas = cosSim)\n",
    "    for i in range(K):\n",
    "        print('Cluster', i+1, ': ')\n",
    "        c_matrix = data[c_assment[:, 0] == i]\n",
    "        print('Number of items in Cluster ',i+1 ,': ', c_matrix.shape[0])\n",
    "        c_freq = np.array([(c_matrix.T != 0).sum(1)]).T\n",
    "        \n",
    "        mc = c_freq / float(c_matrix.shape[0])\n",
    "        mc = map(list, mc)\n",
    "        mc = [m[0] for m in mc]\n",
    "        c_freq = [m[0] for m in c_freq]\n",
    "        n = sorted(zip(terms, c_freq, mc),key = lambda x:x[2], reverse = True)\n",
    "        for m in n[:numterms]:\n",
    "            print('Term: ',m[0])\n",
    "            print('Frequency: ',m[1])\n",
    "            print('Percent of docs contain term ', m[0], ': ', m[2] * 100,'\\n')\n",
    "        print('\\n')\n",
    "    return cent, c_assment\n",
    "\n",
    "cent, c_assment = top_terms(dt_tfidf_train, 5, 10)"
   ]
  },
  {
   "cell_type": "code",
   "execution_count": null,
   "metadata": {},
   "outputs": [],
   "source": [
    "#2D\n",
    "from sklearn.metrics import completeness_score, homogeneity_score\n",
    "\n",
    "cs = completeness_score(np.array(classes_train.T)[0],c_assment[:,0])\n",
    "hs = homogeneity_score(np.array(classes_train.T)[0],c_assment[:,0])\n",
    "\n",
    "print('Completeness score: %0.8f' % cs)\n",
    "print('Homogeneity of Clusters: %0.8f' % hs)"
   ]
  },
  {
   "cell_type": "code",
   "execution_count": null,
   "metadata": {},
   "outputs": [],
   "source": [
    "#2E\n",
    "results = []\n",
    "for d in dt_tfidf_test:  \n",
    "    dic = {}\n",
    "    sim = []\n",
    "    c = 0\n",
    "    for centroid in cent:\n",
    "        c += 1\n",
    "        cmatrix_sim = 1 - cosineSim(d, centroid)\n",
    "        sim.append(cmatrix_sim) \n",
    "        dic['Cosine Similarity' + str(c)] = cmatrix_sim\n",
    "    dic['Predicted Cluster'] = sim.index(max(sim)) + 1\n",
    "    results.append(dic)\n",
    "test_cluster = pd.DataFrame(results)"
   ]
  },
  {
   "cell_type": "code",
   "execution_count": null,
   "metadata": {},
   "outputs": [],
   "source": [
    "test_cluster.head(5)"
   ]
  }
 ],
 "metadata": {
  "kernelspec": {
   "display_name": "Python 3",
   "language": "python",
   "name": "python3"
  },
  "language_info": {
   "codemirror_mode": {
    "name": "ipython",
    "version": 3
   },
   "file_extension": ".py",
   "mimetype": "text/x-python",
   "name": "python",
   "nbconvert_exporter": "python",
   "pygments_lexer": "ipython3",
   "version": "3.8.3"
  }
 },
 "nbformat": 4,
 "nbformat_minor": 4
}
