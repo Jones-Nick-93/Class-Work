{
 "cells": [
  {
   "cell_type": "code",
   "execution_count": 1,
   "metadata": {},
   "outputs": [],
   "source": [
    "# Import modules\n",
    "import numpy as np\n",
    "import pandas as pd\n",
    "import matplotlib.pyplot as plt\n",
    "%matplotlib inline\n",
    "import os \n",
    "\n",
    "from sklearn import preprocessing\n",
    "from sklearn.cluster import KMeans\n",
    "from sklearn.metrics import completeness_score, homogeneity_score\n",
    "from sklearn import decomposition"
   ]
  },
  {
   "cell_type": "markdown",
   "metadata": {},
   "source": [
    "## a. Load in the image data matrix (with rows as images and columns as features). Also load in the numeric class labels from the segmentation class file. Using your favorite method (e.g., sklearn's min-max scaler), perform min-max normalization on the data matrix so that each feature is scaled to [0,1] range"
   ]
  },
  {
   "cell_type": "code",
   "execution_count": 35,
   "metadata": {},
   "outputs": [
    {
     "data": {
      "text/plain": [
       "<bound method NDFrame.head of          0      1   2         3    4         5         6         7         8   \\\n",
       "0     110.0  189.0   9  0.000000  0.0  1.000000  0.666667  1.222222  1.186342   \n",
       "1      86.0  187.0   9  0.000000  0.0  1.111111  0.720082  1.444444  0.750309   \n",
       "2     225.0  244.0   9  0.000000  0.0  3.388889  2.195113  3.000000  1.520234   \n",
       "3      47.0  232.0   9  0.000000  0.0  1.277778  1.254621  1.000000  0.894427   \n",
       "4      97.0  186.0   9  0.000000  0.0  1.166667  0.691215  1.166667  1.005540   \n",
       "...     ...    ...  ..       ...  ...       ...       ...       ...       ...   \n",
       "2095   32.0  158.0   9  0.000000  0.0  0.944445  0.862963  0.833333  0.611111   \n",
       "2096    8.0  162.0   9  0.111111  0.0  1.611111  2.062962  0.333333  0.133333   \n",
       "2097  128.0  161.0   9  0.000000  0.0  0.555555  0.251852  0.777778  0.162963   \n",
       "2098  150.0  158.0   9  0.000000  0.0  2.166667  1.633334  1.388889  0.418518   \n",
       "2099  124.0  162.0   9  0.111111  0.0  1.388889  1.129630  2.000000  0.888889   \n",
       "\n",
       "             9          10         11         12        13         14  \\\n",
       "0     12.925926  10.888889   9.222222  18.666668 -6.111111 -11.111111   \n",
       "1     13.740741  11.666667  10.333334  19.222221 -6.222222 -10.222222   \n",
       "2     12.259259  10.333334   9.333334  17.111110 -5.777778  -8.777778   \n",
       "3     12.703704  11.000000   9.000000  18.111110 -5.111111 -11.111111   \n",
       "4     15.592592  13.888889  11.777778  21.111110 -5.111111 -11.444445   \n",
       "...         ...        ...        ...        ...       ...        ...   \n",
       "2095   7.962963   6.333334  11.888889   5.666666 -4.888889  11.777778   \n",
       "2096   8.370370   6.666666  12.000000   6.444445 -5.111111  10.888889   \n",
       "2097   7.148148   5.555555  10.888889   5.000000 -4.777778  11.222222   \n",
       "2098   8.444445   7.000000  12.222222   6.111111 -4.333334  11.333333   \n",
       "2099  10.037037   8.000000  14.555555   7.555555 -6.111111  13.555555   \n",
       "\n",
       "             15         16        17        18  \n",
       "0     17.222221  18.666668  0.508139  1.910864  \n",
       "1     16.444445  19.222221  0.463329  1.941465  \n",
       "2     14.555555  17.111110  0.480149  1.987902  \n",
       "3     16.222221  18.111110  0.500966  1.875362  \n",
       "4     16.555555  21.111110  0.442661  1.863654  \n",
       "...         ...        ...       ...       ...  \n",
       "2095  -6.888889  11.888889  0.520578 -1.982834  \n",
       "2096  -5.777778  12.000000  0.484805 -2.044946  \n",
       "2097  -6.444445  10.888889  0.540918 -1.996307  \n",
       "2098  -7.000000  12.222222  0.503086 -1.943449  \n",
       "2099  -7.444445  14.555555  0.479931 -2.029312  \n",
       "\n",
       "[2100 rows x 19 columns]>"
      ]
     },
     "execution_count": 35,
     "metadata": {},
     "output_type": "execute_result"
    }
   ],
   "source": [
    "SegData = pd.read_csv(r\"C:\\Users\\Owner\\Documents\\DSC 478\\segmentation_data.txt\", header = None)\n",
    "SegData.head"
   ]
  },
  {
   "cell_type": "code",
   "execution_count": 36,
   "metadata": {},
   "outputs": [
    {
     "data": {
      "text/html": [
       "<div>\n",
       "<style scoped>\n",
       "    .dataframe tbody tr th:only-of-type {\n",
       "        vertical-align: middle;\n",
       "    }\n",
       "\n",
       "    .dataframe tbody tr th {\n",
       "        vertical-align: top;\n",
       "    }\n",
       "\n",
       "    .dataframe thead th {\n",
       "        text-align: right;\n",
       "    }\n",
       "</style>\n",
       "<table border=\"1\" class=\"dataframe\">\n",
       "  <thead>\n",
       "    <tr style=\"text-align: right;\">\n",
       "      <th></th>\n",
       "      <th>Name</th>\n",
       "      <th>Value</th>\n",
       "    </tr>\n",
       "  </thead>\n",
       "  <tbody>\n",
       "    <tr>\n",
       "      <th>0</th>\n",
       "      <td>GRASS</td>\n",
       "      <td>0</td>\n",
       "    </tr>\n",
       "    <tr>\n",
       "      <th>1</th>\n",
       "      <td>GRASS</td>\n",
       "      <td>0</td>\n",
       "    </tr>\n",
       "    <tr>\n",
       "      <th>2</th>\n",
       "      <td>GRASS</td>\n",
       "      <td>0</td>\n",
       "    </tr>\n",
       "    <tr>\n",
       "      <th>3</th>\n",
       "      <td>GRASS</td>\n",
       "      <td>0</td>\n",
       "    </tr>\n",
       "    <tr>\n",
       "      <th>4</th>\n",
       "      <td>GRASS</td>\n",
       "      <td>0</td>\n",
       "    </tr>\n",
       "  </tbody>\n",
       "</table>\n",
       "</div>"
      ],
      "text/plain": [
       "    Name  Value\n",
       "0  GRASS      0\n",
       "1  GRASS      0\n",
       "2  GRASS      0\n",
       "3  GRASS      0\n",
       "4  GRASS      0"
      ]
     },
     "execution_count": 36,
     "metadata": {},
     "output_type": "execute_result"
    }
   ],
   "source": [
    "\n",
    "SegClass = pd.read_csv(r\"C:\\Users\\Owner\\Documents\\DSC 478\\segmentation_classes.txt\", header = None, sep = '\\t', names = ['Name','Value'])\n",
    "SegClass.head()"
   ]
  },
  {
   "cell_type": "code",
   "execution_count": 37,
   "metadata": {},
   "outputs": [],
   "source": [
    "\n",
    "x_train = np.array(SegData)"
   ]
  },
  {
   "cell_type": "code",
   "execution_count": 38,
   "metadata": {},
   "outputs": [
    {
     "data": {
      "text/html": [
       "<div>\n",
       "<style scoped>\n",
       "    .dataframe tbody tr th:only-of-type {\n",
       "        vertical-align: middle;\n",
       "    }\n",
       "\n",
       "    .dataframe tbody tr th {\n",
       "        vertical-align: top;\n",
       "    }\n",
       "\n",
       "    .dataframe thead th {\n",
       "        text-align: right;\n",
       "    }\n",
       "</style>\n",
       "<table border=\"1\" class=\"dataframe\">\n",
       "  <thead>\n",
       "    <tr style=\"text-align: right;\">\n",
       "      <th></th>\n",
       "      <th>0</th>\n",
       "    </tr>\n",
       "  </thead>\n",
       "  <tbody>\n",
       "    <tr>\n",
       "      <th>0</th>\n",
       "      <td>REGION-CENTROID-COL</td>\n",
       "    </tr>\n",
       "    <tr>\n",
       "      <th>1</th>\n",
       "      <td>REGION-CENTROID-ROW</td>\n",
       "    </tr>\n",
       "    <tr>\n",
       "      <th>2</th>\n",
       "      <td>REGION-PIXEL-COUNT</td>\n",
       "    </tr>\n",
       "    <tr>\n",
       "      <th>3</th>\n",
       "      <td>SHORT-LINE-DENSITY-5</td>\n",
       "    </tr>\n",
       "    <tr>\n",
       "      <th>4</th>\n",
       "      <td>SHORT-LINE-DENSITY-2</td>\n",
       "    </tr>\n",
       "    <tr>\n",
       "      <th>5</th>\n",
       "      <td>VEDGE-MEAN</td>\n",
       "    </tr>\n",
       "    <tr>\n",
       "      <th>6</th>\n",
       "      <td>VEDGE-SD</td>\n",
       "    </tr>\n",
       "    <tr>\n",
       "      <th>7</th>\n",
       "      <td>HEDGE-MEAN</td>\n",
       "    </tr>\n",
       "    <tr>\n",
       "      <th>8</th>\n",
       "      <td>HEDGE-SD</td>\n",
       "    </tr>\n",
       "    <tr>\n",
       "      <th>9</th>\n",
       "      <td>INTENSITY-MEAN</td>\n",
       "    </tr>\n",
       "    <tr>\n",
       "      <th>10</th>\n",
       "      <td>RAWRED-MEAN</td>\n",
       "    </tr>\n",
       "    <tr>\n",
       "      <th>11</th>\n",
       "      <td>RAWBLUE-MEAN</td>\n",
       "    </tr>\n",
       "    <tr>\n",
       "      <th>12</th>\n",
       "      <td>RAWGREEN-MEAN</td>\n",
       "    </tr>\n",
       "    <tr>\n",
       "      <th>13</th>\n",
       "      <td>EXRED-MEAN</td>\n",
       "    </tr>\n",
       "    <tr>\n",
       "      <th>14</th>\n",
       "      <td>EXBLUE-MEAN</td>\n",
       "    </tr>\n",
       "    <tr>\n",
       "      <th>15</th>\n",
       "      <td>EXGREEN-MEAN</td>\n",
       "    </tr>\n",
       "    <tr>\n",
       "      <th>16</th>\n",
       "      <td>VALUE-MEAN</td>\n",
       "    </tr>\n",
       "    <tr>\n",
       "      <th>17</th>\n",
       "      <td>SATURATION-MEAN</td>\n",
       "    </tr>\n",
       "    <tr>\n",
       "      <th>18</th>\n",
       "      <td>HUE-MEAN</td>\n",
       "    </tr>\n",
       "  </tbody>\n",
       "</table>\n",
       "</div>"
      ],
      "text/plain": [
       "                       0\n",
       "0    REGION-CENTROID-COL\n",
       "1    REGION-CENTROID-ROW\n",
       "2     REGION-PIXEL-COUNT\n",
       "3   SHORT-LINE-DENSITY-5\n",
       "4   SHORT-LINE-DENSITY-2\n",
       "5             VEDGE-MEAN\n",
       "6               VEDGE-SD\n",
       "7             HEDGE-MEAN\n",
       "8               HEDGE-SD\n",
       "9         INTENSITY-MEAN\n",
       "10           RAWRED-MEAN\n",
       "11          RAWBLUE-MEAN\n",
       "12         RAWGREEN-MEAN\n",
       "13            EXRED-MEAN\n",
       "14           EXBLUE-MEAN\n",
       "15          EXGREEN-MEAN\n",
       "16            VALUE-MEAN\n",
       "17       SATURATION-MEAN\n",
       "18              HUE-MEAN"
      ]
     },
     "execution_count": 38,
     "metadata": {},
     "output_type": "execute_result"
    }
   ],
   "source": [
    "SegNames = pd.read_csv(r\"C:\\Users\\Owner\\Documents\\DSC 478\\segmentation_names.txt\", header = None)\n",
    "SegNames"
   ]
  },
  {
   "cell_type": "code",
   "execution_count": 39,
   "metadata": {},
   "outputs": [
    {
     "data": {
      "text/plain": [
       "array([[0.43, 0.74, 0.  , ..., 0.12, 0.51, 0.83],\n",
       "       [0.34, 0.73, 0.  , ..., 0.13, 0.46, 0.84],\n",
       "       [0.89, 0.97, 0.  , ..., 0.11, 0.48, 0.84],\n",
       "       ...,\n",
       "       [0.5 , 0.62, 0.  , ..., 0.07, 0.54, 0.18],\n",
       "       [0.59, 0.61, 0.  , ..., 0.08, 0.5 , 0.18],\n",
       "       [0.49, 0.63, 0.  , ..., 0.1 , 0.48, 0.17]])"
      ]
     },
     "execution_count": 39,
     "metadata": {},
     "output_type": "execute_result"
    }
   ],
   "source": [
    "min_max_scaler = preprocessing.MinMaxScaler().fit(SegData)\n",
    "s_data_norm = min_max_scaler.transform(SegData)\n",
    "s_data_norm"
   ]
  },
  {
   "cell_type": "markdown",
   "metadata": {},
   "source": [
    "## b. Next, Perform Kmeans clustering (for this problem, use the Kmeans implementation in scikit-learn) on the image data (since there are a total 7 pre-assigned image classes, you should use K = 7 in your clustering). Use Euclidean distance as your distance measure for the clustering. Print the cluster centroids (use some formatting so that they are visually understandable). Compare your 7 clusters to the 7 pre-assigned classes by computing the Completeness and Homogeneity values of the generated clusters.¶\n"
   ]
  },
  {
   "cell_type": "code",
   "execution_count": 40,
   "metadata": {},
   "outputs": [],
   "source": [
    "from sklearn.cluster import KMeans\n",
    "\n",
    "kMeans = KMeans(n_clusters = 7)"
   ]
  },
  {
   "cell_type": "code",
   "execution_count": 41,
   "metadata": {},
   "outputs": [
    {
     "data": {
      "text/plain": [
       "KMeans(n_clusters=7)"
      ]
     },
     "execution_count": 41,
     "metadata": {},
     "output_type": "execute_result"
    }
   ],
   "source": [
    "kMeans.fit(s_data_norm)"
   ]
  },
  {
   "cell_type": "code",
   "execution_count": 42,
   "metadata": {},
   "outputs": [
    {
     "data": {
      "text/plain": [
       "array([5, 5, 4, ..., 3, 3, 0])"
      ]
     },
     "execution_count": 42,
     "metadata": {},
     "output_type": "execute_result"
    }
   ],
   "source": [
    "kMeans.labels_"
   ]
  },
  {
   "cell_type": "code",
   "execution_count": 43,
   "metadata": {},
   "outputs": [
    {
     "data": {
      "text/plain": [
       "array([[0.21, 0.42, 0.  , 0.06, 0.02, 0.06, 0.  , 0.05, 0.  , 0.09, 0.08,\n",
       "        0.12, 0.07, 0.75, 0.28, 0.42, 0.12, 0.56, 0.2 ],\n",
       "       [0.54, 0.15, 0.  , 0.03, 0.  , 0.03, 0.  , 0.03, 0.  , 0.82, 0.78,\n",
       "        0.89, 0.79, 0.27, 0.67, 0.29, 0.89, 0.21, 0.13],\n",
       "       [0.74, 0.52, 0.  , 0.04, 0.04, 0.11, 0.02, 0.1 , 0.02, 0.29, 0.26,\n",
       "        0.34, 0.25, 0.6 , 0.44, 0.32, 0.34, 0.31, 0.17],\n",
       "       [0.7 , 0.43, 0.  , 0.01, 0.02, 0.04, 0.  , 0.02, 0.  , 0.04, 0.03,\n",
       "        0.06, 0.02, 0.77, 0.23, 0.49, 0.06, 0.7 , 0.19],\n",
       "       [0.78, 0.73, 0.  , 0.07, 0.01, 0.04, 0.  , 0.04, 0.  , 0.08, 0.07,\n",
       "        0.07, 0.11, 0.71, 0.09, 0.77, 0.11, 0.33, 0.82],\n",
       "       [0.29, 0.82, 0.  , 0.07, 0.  , 0.06, 0.  , 0.05, 0.  , 0.11, 0.09,\n",
       "        0.09, 0.14, 0.68, 0.07, 0.82, 0.14, 0.41, 0.89],\n",
       "       [0.3 , 0.53, 0.  , 0.05, 0.04, 0.11, 0.01, 0.09, 0.01, 0.39, 0.36,\n",
       "        0.46, 0.34, 0.51, 0.56, 0.22, 0.46, 0.3 , 0.16]])"
      ]
     },
     "execution_count": 43,
     "metadata": {},
     "output_type": "execute_result"
    }
   ],
   "source": [
    "kMeans.cluster_centers_"
   ]
  },
  {
   "cell_type": "code",
   "execution_count": 44,
   "metadata": {},
   "outputs": [
    {
     "data": {
      "text/html": [
       "<div>\n",
       "<style scoped>\n",
       "    .dataframe tbody tr th:only-of-type {\n",
       "        vertical-align: middle;\n",
       "    }\n",
       "\n",
       "    .dataframe tbody tr th {\n",
       "        vertical-align: top;\n",
       "    }\n",
       "\n",
       "    .dataframe thead th {\n",
       "        text-align: right;\n",
       "    }\n",
       "</style>\n",
       "<table border=\"1\" class=\"dataframe\">\n",
       "  <thead>\n",
       "    <tr style=\"text-align: right;\">\n",
       "      <th></th>\n",
       "      <th>Cluster 1</th>\n",
       "      <th>Cluster 2</th>\n",
       "      <th>Cluster 3</th>\n",
       "      <th>Cluster 4</th>\n",
       "      <th>Cluster 5</th>\n",
       "      <th>Cluster 6</th>\n",
       "      <th>Cluster 7</th>\n",
       "    </tr>\n",
       "  </thead>\n",
       "  <tbody>\n",
       "    <tr>\n",
       "      <th>(REGION-CENTROID-COL,)</th>\n",
       "      <td>0.213105</td>\n",
       "      <td>0.535099</td>\n",
       "      <td>0.735167</td>\n",
       "      <td>0.702216</td>\n",
       "      <td>0.775046</td>\n",
       "      <td>0.285321</td>\n",
       "      <td>0.301520</td>\n",
       "    </tr>\n",
       "    <tr>\n",
       "      <th>(REGION-CENTROID-ROW,)</th>\n",
       "      <td>0.415349</td>\n",
       "      <td>0.150167</td>\n",
       "      <td>0.515328</td>\n",
       "      <td>0.431349</td>\n",
       "      <td>0.734200</td>\n",
       "      <td>0.820833</td>\n",
       "      <td>0.529343</td>\n",
       "    </tr>\n",
       "    <tr>\n",
       "      <th>(REGION-PIXEL-COUNT,)</th>\n",
       "      <td>0.000000</td>\n",
       "      <td>0.000000</td>\n",
       "      <td>0.000000</td>\n",
       "      <td>0.000000</td>\n",
       "      <td>0.000000</td>\n",
       "      <td>0.000000</td>\n",
       "      <td>0.000000</td>\n",
       "    </tr>\n",
       "    <tr>\n",
       "      <th>(SHORT-LINE-DENSITY-5,)</th>\n",
       "      <td>0.058939</td>\n",
       "      <td>0.027778</td>\n",
       "      <td>0.044321</td>\n",
       "      <td>0.012897</td>\n",
       "      <td>0.069364</td>\n",
       "      <td>0.068323</td>\n",
       "      <td>0.047436</td>\n",
       "    </tr>\n",
       "    <tr>\n",
       "      <th>(SHORT-LINE-DENSITY-2,)</th>\n",
       "      <td>0.018664</td>\n",
       "      <td>0.001667</td>\n",
       "      <td>0.036011</td>\n",
       "      <td>0.022321</td>\n",
       "      <td>0.005780</td>\n",
       "      <td>0.003106</td>\n",
       "      <td>0.042308</td>\n",
       "    </tr>\n",
       "    <tr>\n",
       "      <th>(VEDGE-MEAN,)</th>\n",
       "      <td>0.058200</td>\n",
       "      <td>0.030228</td>\n",
       "      <td>0.108591</td>\n",
       "      <td>0.040682</td>\n",
       "      <td>0.040847</td>\n",
       "      <td>0.056597</td>\n",
       "      <td>0.108226</td>\n",
       "    </tr>\n",
       "    <tr>\n",
       "      <th>(VEDGE-SD,)</th>\n",
       "      <td>0.003649</td>\n",
       "      <td>0.000543</td>\n",
       "      <td>0.017546</td>\n",
       "      <td>0.002971</td>\n",
       "      <td>0.000961</td>\n",
       "      <td>0.001563</td>\n",
       "      <td>0.008912</td>\n",
       "    </tr>\n",
       "    <tr>\n",
       "      <th>(HEDGE-MEAN,)</th>\n",
       "      <td>0.047469</td>\n",
       "      <td>0.026766</td>\n",
       "      <td>0.101227</td>\n",
       "      <td>0.024933</td>\n",
       "      <td>0.035623</td>\n",
       "      <td>0.047197</td>\n",
       "      <td>0.085155</td>\n",
       "    </tr>\n",
       "    <tr>\n",
       "      <th>(HEDGE-SD,)</th>\n",
       "      <td>0.003833</td>\n",
       "      <td>0.000587</td>\n",
       "      <td>0.016658</td>\n",
       "      <td>0.002190</td>\n",
       "      <td>0.001060</td>\n",
       "      <td>0.001446</td>\n",
       "      <td>0.010311</td>\n",
       "    </tr>\n",
       "    <tr>\n",
       "      <th>(INTENSITY-MEAN,)</th>\n",
       "      <td>0.090886</td>\n",
       "      <td>0.823246</td>\n",
       "      <td>0.285093</td>\n",
       "      <td>0.036642</td>\n",
       "      <td>0.084752</td>\n",
       "      <td>0.109619</td>\n",
       "      <td>0.390750</td>\n",
       "    </tr>\n",
       "    <tr>\n",
       "      <th>(RAWRED-MEAN,)</th>\n",
       "      <td>0.082865</td>\n",
       "      <td>0.779716</td>\n",
       "      <td>0.264958</td>\n",
       "      <td>0.028672</td>\n",
       "      <td>0.070516</td>\n",
       "      <td>0.092841</td>\n",
       "      <td>0.361327</td>\n",
       "    </tr>\n",
       "    <tr>\n",
       "      <th>(RAWBLUE-MEAN,)</th>\n",
       "      <td>0.117942</td>\n",
       "      <td>0.894170</td>\n",
       "      <td>0.335325</td>\n",
       "      <td>0.055513</td>\n",
       "      <td>0.072752</td>\n",
       "      <td>0.092303</td>\n",
       "      <td>0.460757</td>\n",
       "    </tr>\n",
       "    <tr>\n",
       "      <th>(RAWGREEN-MEAN,)</th>\n",
       "      <td>0.069822</td>\n",
       "      <td>0.788761</td>\n",
       "      <td>0.250847</td>\n",
       "      <td>0.024276</td>\n",
       "      <td>0.111011</td>\n",
       "      <td>0.143913</td>\n",
       "      <td>0.344340</td>\n",
       "    </tr>\n",
       "    <tr>\n",
       "      <th>(EXRED-MEAN,)</th>\n",
       "      <td>0.749560</td>\n",
       "      <td>0.270665</td>\n",
       "      <td>0.603935</td>\n",
       "      <td>0.767219</td>\n",
       "      <td>0.708599</td>\n",
       "      <td>0.683102</td>\n",
       "      <td>0.506078</td>\n",
       "    </tr>\n",
       "    <tr>\n",
       "      <th>(EXBLUE-MEAN,)</th>\n",
       "      <td>0.282933</td>\n",
       "      <td>0.666373</td>\n",
       "      <td>0.439938</td>\n",
       "      <td>0.230879</td>\n",
       "      <td>0.094294</td>\n",
       "      <td>0.074695</td>\n",
       "      <td>0.559706</td>\n",
       "    </tr>\n",
       "    <tr>\n",
       "      <th>(EXGREEN-MEAN,)</th>\n",
       "      <td>0.420764</td>\n",
       "      <td>0.289386</td>\n",
       "      <td>0.315642</td>\n",
       "      <td>0.486762</td>\n",
       "      <td>0.766680</td>\n",
       "      <td>0.824225</td>\n",
       "      <td>0.221997</td>\n",
       "    </tr>\n",
       "    <tr>\n",
       "      <th>(VALUE-MEAN,)</th>\n",
       "      <td>0.118720</td>\n",
       "      <td>0.894170</td>\n",
       "      <td>0.335411</td>\n",
       "      <td>0.056320</td>\n",
       "      <td>0.105025</td>\n",
       "      <td>0.136001</td>\n",
       "      <td>0.460757</td>\n",
       "    </tr>\n",
       "    <tr>\n",
       "      <th>(SATURATION-MEAN,)</th>\n",
       "      <td>0.559588</td>\n",
       "      <td>0.211804</td>\n",
       "      <td>0.310711</td>\n",
       "      <td>0.699437</td>\n",
       "      <td>0.326246</td>\n",
       "      <td>0.414058</td>\n",
       "      <td>0.302275</td>\n",
       "    </tr>\n",
       "    <tr>\n",
       "      <th>(HUE-MEAN,)</th>\n",
       "      <td>0.202715</td>\n",
       "      <td>0.125066</td>\n",
       "      <td>0.166045</td>\n",
       "      <td>0.192674</td>\n",
       "      <td>0.816265</td>\n",
       "      <td>0.886447</td>\n",
       "      <td>0.163931</td>\n",
       "    </tr>\n",
       "  </tbody>\n",
       "</table>\n",
       "</div>"
      ],
      "text/plain": [
       "                         Cluster 1  Cluster 2  Cluster 3  Cluster 4  \\\n",
       "(REGION-CENTROID-COL,)    0.213105   0.535099   0.735167   0.702216   \n",
       "(REGION-CENTROID-ROW,)    0.415349   0.150167   0.515328   0.431349   \n",
       "(REGION-PIXEL-COUNT,)     0.000000   0.000000   0.000000   0.000000   \n",
       "(SHORT-LINE-DENSITY-5,)   0.058939   0.027778   0.044321   0.012897   \n",
       "(SHORT-LINE-DENSITY-2,)   0.018664   0.001667   0.036011   0.022321   \n",
       "(VEDGE-MEAN,)             0.058200   0.030228   0.108591   0.040682   \n",
       "(VEDGE-SD,)               0.003649   0.000543   0.017546   0.002971   \n",
       "(HEDGE-MEAN,)             0.047469   0.026766   0.101227   0.024933   \n",
       "(HEDGE-SD,)               0.003833   0.000587   0.016658   0.002190   \n",
       "(INTENSITY-MEAN,)         0.090886   0.823246   0.285093   0.036642   \n",
       "(RAWRED-MEAN,)            0.082865   0.779716   0.264958   0.028672   \n",
       "(RAWBLUE-MEAN,)           0.117942   0.894170   0.335325   0.055513   \n",
       "(RAWGREEN-MEAN,)          0.069822   0.788761   0.250847   0.024276   \n",
       "(EXRED-MEAN,)             0.749560   0.270665   0.603935   0.767219   \n",
       "(EXBLUE-MEAN,)            0.282933   0.666373   0.439938   0.230879   \n",
       "(EXGREEN-MEAN,)           0.420764   0.289386   0.315642   0.486762   \n",
       "(VALUE-MEAN,)             0.118720   0.894170   0.335411   0.056320   \n",
       "(SATURATION-MEAN,)        0.559588   0.211804   0.310711   0.699437   \n",
       "(HUE-MEAN,)               0.202715   0.125066   0.166045   0.192674   \n",
       "\n",
       "                         Cluster 5   Cluster 6  Cluster 7  \n",
       "(REGION-CENTROID-COL,)    0.775046    0.285321   0.301520  \n",
       "(REGION-CENTROID-ROW,)    0.734200    0.820833   0.529343  \n",
       "(REGION-PIXEL-COUNT,)     0.000000    0.000000   0.000000  \n",
       "(SHORT-LINE-DENSITY-5,)   0.069364    0.068323   0.047436  \n",
       "(SHORT-LINE-DENSITY-2,)   0.005780    0.003106   0.042308  \n",
       "(VEDGE-MEAN,)             0.040847    0.056597   0.108226  \n",
       "(VEDGE-SD,)               0.000961    0.001563   0.008912  \n",
       "(HEDGE-MEAN,)             0.035623    0.047197   0.085155  \n",
       "(HEDGE-SD,)               0.001060    0.001446   0.010311  \n",
       "(INTENSITY-MEAN,)         0.084752    0.109619   0.390750  \n",
       "(RAWRED-MEAN,)            0.070516    0.092841   0.361327  \n",
       "(RAWBLUE-MEAN,)           0.072752    0.092303   0.460757  \n",
       "(RAWGREEN-MEAN,)          0.111011    0.143913   0.344340  \n",
       "(EXRED-MEAN,)             0.708599    0.683102   0.506078  \n",
       "(EXBLUE-MEAN,)            0.094294    0.074695   0.559706  \n",
       "(EXGREEN-MEAN,)           0.766680    0.824225   0.221997  \n",
       "(VALUE-MEAN,)             0.105025    0.136001   0.460757  \n",
       "(SATURATION-MEAN,)        0.326246    0.414058   0.302275  \n",
       "(HUE-MEAN,)               0.816265    0.886447   0.163931  "
      ]
     },
     "execution_count": 44,
     "metadata": {},
     "output_type": "execute_result"
    }
   ],
   "source": [
    "pd.DataFrame(kMeans.cluster_centers_.T, index = SegNames, columns = ['Cluster 1', 'Cluster 2','Cluster 3','Cluster 4','Cluster 5',' Cluster 6','Cluster 7'])\n"
   ]
  },
  {
   "cell_type": "code",
   "execution_count": 45,
   "metadata": {},
   "outputs": [
    {
     "name": "stdout",
     "output_type": "stream",
     "text": [
      "0.5854447686577433\n"
     ]
    }
   ],
   "source": [
    "from sklearn.metrics import completeness_score, homogeneity_score\n",
    "c_score = completeness_score(SegClass['Value'], kMeans.labels_)\n",
    "print(c_score)"
   ]
  },
  {
   "cell_type": "code",
   "execution_count": 46,
   "metadata": {},
   "outputs": [
    {
     "name": "stdout",
     "output_type": "stream",
     "text": [
      "0.5652540023720359\n"
     ]
    }
   ],
   "source": [
    "h_score = homogeneity_score(SegClass['Value'], kMeans.labels_)\n",
    "print(h_score)"
   ]
  },
  {
   "cell_type": "markdown",
   "metadata": {},
   "source": [
    "## 2C Perform PCA on the normalized image data matrix. You may use the linear algebra package in Numpy or the Decomposition module in scikit-learn (the latter is much more efficient). Analyze the principal components to determine the number, r, of PCs needed to capture at least 95% of variance in the data. Then use these r components as features to transform the data into a reduced dimension space. \n"
   ]
  },
  {
   "cell_type": "code",
   "execution_count": 47,
   "metadata": {},
   "outputs": [],
   "source": [
    "pca = decomposition.PCA(n_components=10)\n"
   ]
  },
  {
   "cell_type": "code",
   "execution_count": 48,
   "metadata": {},
   "outputs": [],
   "source": [
    "imageTrans = pca.fit(s_data_norm).transform(s_data_norm)"
   ]
  },
  {
   "cell_type": "code",
   "execution_count": 49,
   "metadata": {},
   "outputs": [
    {
     "name": "stdout",
     "output_type": "stream",
     "text": [
      "[0.61 0.13 0.1  0.05 0.04 0.02 0.02 0.02 0.01 0.01]\n"
     ]
    }
   ],
   "source": [
    "print(pca.explained_variance_ratio_)"
   ]
  },
  {
   "cell_type": "code",
   "execution_count": 50,
   "metadata": {},
   "outputs": [
    {
     "data": {
      "image/png": "[encoded data removed]",
      "text/plain": [
       "<Figure size 432x288 with 1 Axes>"
      ]
     },
     "metadata": {
      "needs_background": "light"
     },
     "output_type": "display_data"
    }
   ],
   "source": [
    "\n",
    "fig = plt.figure()\n",
    "ax = fig.add_subplot(111)\n",
    "ax.plot(range(1, 11), pca.explained_variance_ratio_*100, marker='^')\n",
    "plt.xlabel('Principal Component')\n",
    "plt.ylabel('Percentage of Variance (%)')\n",
    "plt.show()"
   ]
  },
  {
   "cell_type": "code",
   "execution_count": 51,
   "metadata": {},
   "outputs": [
    {
     "name": "stdout",
     "output_type": "stream",
     "text": [
      "Variance captured by PC 1: 60.714233968533236\n",
      "Variance captured by PC 2: 73.91121320168921\n",
      "Variance captured by PC 3: 84.03498614256182\n",
      "Variance captured by PC 4: 88.57852534332577\n",
      "Variance captured by PC 5: 92.1258864810956\n",
      "Variance captured by PC 6: 94.11392197960615\n",
      "Variance captured by PC 7: 96.00589227704948\n",
      "Variance captured by PC 8: 97.62130108194508\n",
      "Variance captured by PC 9: 98.68690193362023\n",
      "Variance captured by PC 10: 99.39823945149524\n"
     ]
    }
   ],
   "source": [
    "\n",
    "pc = 0\n",
    "total_var = 0\n",
    "for i in pca.explained_variance_ratio_:\n",
    "    pc += 1\n",
    "    total_var += i*100\n",
    "    print(\"Variance captured by PC \" + str(pc) + \": \" + str(total_var))"
   ]
  },
  {
   "cell_type": "code",
   "execution_count": 52,
   "metadata": {},
   "outputs": [
    {
     "name": "stdout",
     "output_type": "stream",
     "text": [
      "[[-84.65  -4.43  -8.88 -39.01]\n",
      " [-84.35 -28.54  -7.58 -39.77]\n",
      " [-96.16 115.47 -17.9  -78.9 ]\n",
      " ...\n",
      " [-78.74  10.28  -9.03  -5.84]\n",
      " [-72.94  31.66  -9.31  -2.43]\n",
      " [-72.7    6.09  -7.91  -9.9 ]]\n"
     ]
    }
   ],
   "source": [
    "from sklearn import decomposition\n",
    "pca = decomposition.PCA(n_components = 4)\n",
    "dtrans = pca.fit(x_train).transform(x_train)\n",
    "np.set_printoptions(precision = 2, suppress = True)\n",
    "print(dtrans)"
   ]
  },
  {
   "cell_type": "code",
   "execution_count": 53,
   "metadata": {},
   "outputs": [
    {
     "name": "stdout",
     "output_type": "stream",
     "text": [
      "[0.42 0.24 0.19 0.1 ]\n"
     ]
    }
   ],
   "source": [
    "print(pca.explained_variance_ratio_)"
   ]
  },
  {
   "cell_type": "markdown",
   "metadata": {},
   "source": [
    "## 2D  Perform Kmeans again, but this time on the lower dimensional transformed data. Then, compute the Completeness and Homogeneity values of the new clusters.\n"
   ]
  },
  {
   "cell_type": "code",
   "execution_count": 54,
   "metadata": {},
   "outputs": [
    {
     "data": {
      "text/plain": [
       "KMeans(n_clusters=7)"
      ]
     },
     "execution_count": 54,
     "metadata": {},
     "output_type": "execute_result"
    }
   ],
   "source": [
    "kMeans.fit(dtrans)"
   ]
  },
  {
   "cell_type": "code",
   "execution_count": 55,
   "metadata": {},
   "outputs": [
    {
     "data": {
      "text/plain": [
       "array([4, 4, 5, ..., 4, 0, 4])"
      ]
     },
     "execution_count": 55,
     "metadata": {},
     "output_type": "execute_result"
    }
   ],
   "source": [
    "kMeans.labels_\n"
   ]
  },
  {
   "cell_type": "code",
   "execution_count": 56,
   "metadata": {},
   "outputs": [
    {
     "data": {
      "text/plain": [
       "array([[-31.26,  66.08,  -4.57,  40.56],\n",
       "       [ 31.7 , -42.26,  -4.42, -38.43],\n",
       "       [208.93,  52.22, -16.48,   4.31],\n",
       "       [ 53.37,  50.85, 731.15, -14.24],\n",
       "       [-62.15, -63.52,   1.74,  12.5 ],\n",
       "       [-37.56,  67.19,  -7.91, -53.24],\n",
       "       [190.04, -71.45,  -7.99,  -3.92]])"
      ]
     },
     "execution_count": 56,
     "metadata": {},
     "output_type": "execute_result"
    }
   ],
   "source": [
    "kMeans.cluster_centers_\n"
   ]
  },
  {
   "cell_type": "code",
   "execution_count": 57,
   "metadata": {},
   "outputs": [
    {
     "data": {
      "text/html": [
       "<div>\n",
       "<style scoped>\n",
       "    .dataframe tbody tr th:only-of-type {\n",
       "        vertical-align: middle;\n",
       "    }\n",
       "\n",
       "    .dataframe tbody tr th {\n",
       "        vertical-align: top;\n",
       "    }\n",
       "\n",
       "    .dataframe thead th {\n",
       "        text-align: right;\n",
       "    }\n",
       "</style>\n",
       "<table border=\"1\" class=\"dataframe\">\n",
       "  <thead>\n",
       "    <tr style=\"text-align: right;\">\n",
       "      <th></th>\n",
       "      <th>Cluster 1</th>\n",
       "      <th>Cluster 2</th>\n",
       "      <th>Cluster 3</th>\n",
       "      <th>Cluster 4</th>\n",
       "      <th>Cluster 5</th>\n",
       "      <th>Cluster 6</th>\n",
       "      <th>Cluster 7</th>\n",
       "    </tr>\n",
       "  </thead>\n",
       "  <tbody>\n",
       "    <tr>\n",
       "      <th>PC 1</th>\n",
       "      <td>-31.263496</td>\n",
       "      <td>31.702855</td>\n",
       "      <td>208.933704</td>\n",
       "      <td>53.372838</td>\n",
       "      <td>-62.145989</td>\n",
       "      <td>-37.555311</td>\n",
       "      <td>190.044366</td>\n",
       "    </tr>\n",
       "    <tr>\n",
       "      <th>PC 2</th>\n",
       "      <td>66.078910</td>\n",
       "      <td>-42.255552</td>\n",
       "      <td>52.221908</td>\n",
       "      <td>50.849308</td>\n",
       "      <td>-63.524596</td>\n",
       "      <td>67.186841</td>\n",
       "      <td>-71.446022</td>\n",
       "    </tr>\n",
       "    <tr>\n",
       "      <th>PC 3</th>\n",
       "      <td>-4.565757</td>\n",
       "      <td>-4.415894</td>\n",
       "      <td>-16.484504</td>\n",
       "      <td>731.147334</td>\n",
       "      <td>1.738956</td>\n",
       "      <td>-7.912924</td>\n",
       "      <td>-7.986007</td>\n",
       "    </tr>\n",
       "    <tr>\n",
       "      <th>PC 4</th>\n",
       "      <td>40.564668</td>\n",
       "      <td>-38.428380</td>\n",
       "      <td>4.309670</td>\n",
       "      <td>-14.240077</td>\n",
       "      <td>12.498216</td>\n",
       "      <td>-53.235570</td>\n",
       "      <td>-3.915106</td>\n",
       "    </tr>\n",
       "  </tbody>\n",
       "</table>\n",
       "</div>"
      ],
      "text/plain": [
       "      Cluster 1  Cluster 2   Cluster 3   Cluster 4  Cluster 5   Cluster 6  \\\n",
       "PC 1 -31.263496  31.702855  208.933704   53.372838 -62.145989  -37.555311   \n",
       "PC 2  66.078910 -42.255552   52.221908   50.849308 -63.524596   67.186841   \n",
       "PC 3  -4.565757  -4.415894  -16.484504  731.147334   1.738956   -7.912924   \n",
       "PC 4  40.564668 -38.428380    4.309670  -14.240077  12.498216  -53.235570   \n",
       "\n",
       "       Cluster 7  \n",
       "PC 1  190.044366  \n",
       "PC 2  -71.446022  \n",
       "PC 3   -7.986007  \n",
       "PC 4   -3.915106  "
      ]
     },
     "execution_count": 57,
     "metadata": {},
     "output_type": "execute_result"
    }
   ],
   "source": [
    "pd.DataFrame(kMeans.cluster_centers_.T, index = ['PC 1', 'PC 2', 'PC 3', 'PC 4'], columns = ['Cluster 1', 'Cluster 2','Cluster 3','Cluster 4','Cluster 5',' Cluster 6','Cluster 7'])"
   ]
  },
  {
   "cell_type": "code",
   "execution_count": 58,
   "metadata": {},
   "outputs": [
    {
     "name": "stdout",
     "output_type": "stream",
     "text": [
      "0.532035429866375\n"
     ]
    }
   ],
   "source": [
    "c_score = completeness_score(SegClass['Value'], kMeans.labels_)\n",
    "print(c_score)"
   ]
  },
  {
   "cell_type": "code",
   "execution_count": 59,
   "metadata": {},
   "outputs": [
    {
     "name": "stdout",
     "output_type": "stream",
     "text": [
      "0.4576738586339517\n"
     ]
    }
   ],
   "source": [
    "h_score = homogeneity_score(SegClass['Value'], kMeans.labels_)\n",
    "print(h_score)"
   ]
  },
  {
   "cell_type": "markdown",
   "metadata": {},
   "source": [
    "## e. Discuss your observations based on the comparison of the two clustering results.¶\n",
    "When we do kMeans clustering on a normalized dataset the completeness and homogeneity we get is: Completeness of Cluster: 0.585 Homogeneity of Clusters: 0.565\n",
    "\n",
    "When we do kMeans clustering on a datatset with reduced uncorrelated features generated by PCA, which captures 95% of the variance in the data, the completeness and homogeneity we get is: Completeness of Cluster: 0.532 Homogeneity of Clusters: 0.458\n",
    "\n",
    "So the results are almost similar and there is no significant difference in completeness and homogeneity of clusters. Since the second approach, in which we reduce the number of features using PCA and still account for the most of the variance in the data, gives the same result as the earlier approach, I would suggest using PCA and then clustering as that would reduce the computation effort required by KMeans algorithm as the number of features are reduced to 4 and still explained 95% of the variance."
   ]
  },
  {
   "cell_type": "code",
   "execution_count": null,
   "metadata": {},
   "outputs": [],
   "source": []
  }
 ],
 "metadata": {
  "kernelspec": {
   "display_name": "Python 3",
   "language": "python",
   "name": "python3"
  },
  "language_info": {
   "codemirror_mode": {
    "name": "ipython",
    "version": 3
   },
   "file_extension": ".py",
   "mimetype": "text/x-python",
   "name": "python",
   "nbconvert_exporter": "python",
   "pygments_lexer": "ipython3",
   "version": "3.8.3"
  }
 },
 "nbformat": 4,
 "nbformat_minor": 4
}