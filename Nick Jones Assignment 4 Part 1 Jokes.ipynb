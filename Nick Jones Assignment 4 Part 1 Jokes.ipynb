import numpy as np
import itemBasedRec
from numpy import array